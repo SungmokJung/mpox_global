{
 "cells": [
  {
   "cell_type": "code",
   "execution_count": 134,
   "metadata": {},
   "outputs": [],
   "source": [
    "libraries = c(\"dplyr\", \"tidyverse\", \"ggpubr\")\n",
    "for(x in libraries) {library(x,character.only=TRUE,warn.conflicts=FALSE,quietly=TRUE)}\n",
    "\n",
    "theme_set(theme_bw())"
   ]
  },
  {
   "cell_type": "code",
   "execution_count": 135,
   "metadata": {},
   "outputs": [],
   "source": [
    "read.csv(\"../data/df_inci_final.csv\") -> df_inci\n",
    "read.csv(\"../data/SAR_caseprop_Reff.csv\") -> df_Reff\n",
    "read.csv(\"../data/flight/flight_matrix.csv\") -> flight_matrix"
   ]
  },
  {
   "cell_type": "code",
   "execution_count": 136,
   "metadata": {},
   "outputs": [
    {
     "name": "stderr",
     "output_type": "stream",
     "text": [
      "Warning message in cum_icni_prop - df_Reff$Infections:\n",
      "“longer object length is not a multiple of shorter object length”\n"
     ]
    }
   ],
   "source": [
    "## Reff_i & G_i\n",
    "df_inci %>% mutate(Infections = df_Reff$Infections[which.min(abs(cum_icni_prop-df_Reff$Infections))]) -> temp\n",
    "merge(temp, df_Reff %>% dplyr::select(Infections, Reff_1), by=c(\"Infections\"), all.x=TRUE) %>% \n",
    "dplyr::select(-Infections) %>% rename(Reff_i=Reff_1) %>% mutate(G_i=Reff_i*MA_new_cases) %>%\n",
    "mutate(location=case_when(location==c(\"Democratic Republic of Congo\")~c(\"Congo, Democratic Republic of the\"),\n",
    "                          location==c(\"Curacao\")~c(\"Curaçao\"),\n",
    "                          location==c(\"Czechia\")~c(\"Czech Republic\"),\n",
    "                          location==c(\"Iran\")~c(\"Iran, Islamic Republic of\"),\n",
    "                          location==c(\"South Korea\")~c(\"Korea, Republic of\"),\n",
    "                          location==c(\"United States\")~c(\"United States of America\"),\n",
    "                          location==c(\"Venezuela\")~c(\"Venezuela, Bolivarian Republic of\"),\n",
    "                          location==c(\"Moldova\")~c(\"Moldova, Republic of\"),\n",
    "                          location==c(\"Russia\")~c(\"Russian Federation\"),\n",
    "                          TRUE~location)) %>%\n",
    "filter(!(location %in% c(\"Gibraltar\", \"Ghana\", \"Liberia\", \"Sudan\", \n",
    "                         \"Guadeloupe\", \"Greenland\", \"Saint Martin (French part)\"))) -> input\n",
    "\n",
    "as.Date(input$date) -> input$date\n",
    "input %>% mutate(time=as.numeric(date-time_0)) -> input"
   ]
  },
  {
   "cell_type": "code",
   "execution_count": 137,
   "metadata": {},
   "outputs": [
    {
     "data": {
      "text/html": [],
      "text/latex": [],
      "text/markdown": [],
      "text/plain": [
       "integer(0)"
      ]
     },
     "metadata": {},
     "output_type": "display_data"
    }
   ],
   "source": [
    "is.element(unique(input$location), flight_matrix$destination) -> temp; which(temp==c(\"FALSE\"))"
   ]
  },
  {
   "cell_type": "code",
   "execution_count": 138,
   "metadata": {},
   "outputs": [],
   "source": [
    "## F_i\n",
    "path <- \"../data/flight/all_region/\"; list.files(path = path, pattern = \"*xlsx\") -> file_list\n",
    "substr(file_list,1,nchar(file_list)-5) -> flight_list\n",
    "unique(input$location) -> country_list\n",
    "sort(flight_list) -> flight_list_sort; sort(country_list) -> country_list_sort\n",
    "\n",
    "## coverting NAs to zero in the flight data\n",
    "flight_matrix[is.na(flight_matrix)] <- 0"
   ]
  },
  {
   "cell_type": "code",
   "execution_count": 139,
   "metadata": {},
   "outputs": [],
   "source": [
    "## fixed parameters\n",
    "w<-14\n",
    "time_0 <- as.Date(\"2022-04-30\")"
   ]
  },
  {
   "cell_type": "code",
   "execution_count": 140,
   "metadata": {},
   "outputs": [],
   "source": [
    "F_i_country <- list(); F_i_time_list <- list()\n",
    "\n",
    "for(i in 1:length(country_list_sort)){\n",
    "    flight_matrix %>% filter(destination==country_list_sort[i]) %>% t() -> temp\n",
    "    temp[4:nrow(temp),] %>% as.matrix() -> temp\n",
    "\n",
    "    flight_list %>% as.matrix() -> flight_list_matrix\n",
    "    cbind(temp, flight_list_matrix) %>% as.data.frame() %>% rename(value=V1, location=V2) %>%\n",
    "    dplyr::select(location, value) -> V_ij_temp; rownames(V_ij_temp) <- NULL\n",
    "\n",
    "    input %>% dplyr::select(location, pop2022) %>% distinct() -> N_j_temp\n",
    "\n",
    "    merge(V_ij_temp, N_j_temp, by=c(\"location\"), all.x=TRUE) %>% na.omit() -> temp\n",
    "\n",
    "    for(g in 1:max(input$time)) {\n",
    "        input %>% filter(time==g) %>% dplyr::select(location, G_i) -> G_i_time\n",
    "        merge(temp, G_i_time, by=c(\"location\"), all.x=TRUE) -> temp_G_i_time\n",
    "        temp_G_i_time$G_i[is.na(temp_G_i_time$G_i)] <- 0\n",
    "        temp_G_i_time$value <- as.numeric(temp_G_i_time$value)\n",
    "        temp_G_i_time %>% mutate(F_i_t = w/365*value/pop2022*G_i, time=g) -> temp_G_i_time \n",
    "        sum(temp_G_i_time$F_i_t) -> F_i_time_list[[g]]\n",
    "    }\n",
    "    \n",
    "    do.call(\"rbind\", F_i_time_list) %>% as.data.frame() %>% \n",
    "    mutate(time=1:max(input$time), location=country_list_sort[i]) %>% rename(F_i=V1) -> F_i_country[[i]]\n",
    "}"
   ]
  },
  {
   "cell_type": "code",
   "execution_count": 141,
   "metadata": {},
   "outputs": [],
   "source": [
    "do.call(\"rbind\", F_i_country) %>% as.data.frame() -> F_i_country_all\n",
    "merge(input, F_i_country_all, by=c(\"location\", \"time\"), all.x=TRUE) -> input_final"
   ]
  },
  {
   "cell_type": "code",
   "execution_count": 142,
   "metadata": {},
   "outputs": [
    {
     "data": {
      "text/html": [
       "<table class=\"dataframe\">\n",
       "<caption>A data.frame: 6 × 18</caption>\n",
       "<thead>\n",
       "\t<tr><th></th><th scope=col>location</th><th scope=col>time</th><th scope=col>X</th><th scope=col>iso_code</th><th scope=col>region</th><th scope=col>sub_region</th><th scope=col>date</th><th scope=col>new_cases</th><th scope=col>total_cases</th><th scope=col>MA_new_cases</th><th scope=col>MA_total_cases</th><th scope=col>date_import</th><th scope=col>MSM_pop</th><th scope=col>pop2022</th><th scope=col>cum_icni_prop</th><th scope=col>Reff_i</th><th scope=col>G_i</th><th scope=col>F_i</th></tr>\n",
       "\t<tr><th></th><th scope=col>&lt;chr&gt;</th><th scope=col>&lt;dbl&gt;</th><th scope=col>&lt;int&gt;</th><th scope=col>&lt;chr&gt;</th><th scope=col>&lt;chr&gt;</th><th scope=col>&lt;chr&gt;</th><th scope=col>&lt;date&gt;</th><th scope=col>&lt;int&gt;</th><th scope=col>&lt;int&gt;</th><th scope=col>&lt;dbl&gt;</th><th scope=col>&lt;dbl&gt;</th><th scope=col>&lt;chr&gt;</th><th scope=col>&lt;dbl&gt;</th><th scope=col>&lt;dbl&gt;</th><th scope=col>&lt;dbl&gt;</th><th scope=col>&lt;dbl&gt;</th><th scope=col>&lt;dbl&gt;</th><th scope=col>&lt;dbl&gt;</th></tr>\n",
       "</thead>\n",
       "<tbody>\n",
       "\t<tr><th scope=row>1</th><td>Andorra</td><td>100</td><td>4269</td><td>AND</td><td>Europe</td><td>Southern Europe</td><td>2022-08-08</td><td>0</td><td>4</td><td>0.14285714</td><td>3.285714</td><td>2022/07/25</td><td>576.5777</td><td>79.824</td><td>0.005698650</td><td>1.692379</td><td>0.2417684</td><td>413.8603</td></tr>\n",
       "\t<tr><th scope=row>2</th><td>Andorra</td><td>101</td><td>4351</td><td>AND</td><td>Europe</td><td>Southern Europe</td><td>2022-08-09</td><td>0</td><td>4</td><td>0.07142857</td><td>3.357143</td><td>2022/07/25</td><td>576.5777</td><td>79.824</td><td>0.005822533</td><td>1.692379</td><td>0.1208842</td><td>365.6487</td></tr>\n",
       "\t<tr><th scope=row>3</th><td>Andorra</td><td>102</td><td>4434</td><td>AND</td><td>Europe</td><td>Southern Europe</td><td>2022-08-10</td><td>0</td><td>4</td><td>0.07142857</td><td>3.428571</td><td>2022/07/25</td><td>576.5777</td><td>79.824</td><td>0.005946417</td><td>1.692379</td><td>0.1208842</td><td>335.2218</td></tr>\n",
       "\t<tr><th scope=row>4</th><td>Andorra</td><td>103</td><td>4518</td><td>AND</td><td>Europe</td><td>Southern Europe</td><td>2022-08-11</td><td>0</td><td>4</td><td>0.07142857</td><td>3.500000</td><td>2022/07/25</td><td>576.5777</td><td>79.824</td><td>0.006070301</td><td>1.692379</td><td>0.1208842</td><td>355.1288</td></tr>\n",
       "\t<tr><th scope=row>5</th><td>Andorra</td><td>104</td><td>4601</td><td>AND</td><td>Europe</td><td>Southern Europe</td><td>2022-08-12</td><td>0</td><td>4</td><td>0.07142857</td><td>3.571429</td><td>2022/07/25</td><td>576.5777</td><td>79.824</td><td>0.006194184</td><td>1.692379</td><td>0.1208842</td><td>355.1288</td></tr>\n",
       "\t<tr><th scope=row>6</th><td>Andorra</td><td>105</td><td>4685</td><td>AND</td><td>Europe</td><td>Southern Europe</td><td>2022-08-13</td><td>0</td><td>4</td><td>0.07142857</td><td>3.642857</td><td>2022/07/25</td><td>576.5777</td><td>79.824</td><td>0.006318068</td><td>1.692379</td><td>0.1208842</td><td>355.1288</td></tr>\n",
       "</tbody>\n",
       "</table>\n"
      ],
      "text/latex": [
       "A data.frame: 6 × 18\n",
       "\\begin{tabular}{r|llllllllllllllllll}\n",
       "  & location & time & X & iso\\_code & region & sub\\_region & date & new\\_cases & total\\_cases & MA\\_new\\_cases & MA\\_total\\_cases & date\\_import & MSM\\_pop & pop2022 & cum\\_icni\\_prop & Reff\\_i & G\\_i & F\\_i\\\\\n",
       "  & <chr> & <dbl> & <int> & <chr> & <chr> & <chr> & <date> & <int> & <int> & <dbl> & <dbl> & <chr> & <dbl> & <dbl> & <dbl> & <dbl> & <dbl> & <dbl>\\\\\n",
       "\\hline\n",
       "\t1 & Andorra & 100 & 4269 & AND & Europe & Southern Europe & 2022-08-08 & 0 & 4 & 0.14285714 & 3.285714 & 2022/07/25 & 576.5777 & 79.824 & 0.005698650 & 1.692379 & 0.2417684 & 413.8603\\\\\n",
       "\t2 & Andorra & 101 & 4351 & AND & Europe & Southern Europe & 2022-08-09 & 0 & 4 & 0.07142857 & 3.357143 & 2022/07/25 & 576.5777 & 79.824 & 0.005822533 & 1.692379 & 0.1208842 & 365.6487\\\\\n",
       "\t3 & Andorra & 102 & 4434 & AND & Europe & Southern Europe & 2022-08-10 & 0 & 4 & 0.07142857 & 3.428571 & 2022/07/25 & 576.5777 & 79.824 & 0.005946417 & 1.692379 & 0.1208842 & 335.2218\\\\\n",
       "\t4 & Andorra & 103 & 4518 & AND & Europe & Southern Europe & 2022-08-11 & 0 & 4 & 0.07142857 & 3.500000 & 2022/07/25 & 576.5777 & 79.824 & 0.006070301 & 1.692379 & 0.1208842 & 355.1288\\\\\n",
       "\t5 & Andorra & 104 & 4601 & AND & Europe & Southern Europe & 2022-08-12 & 0 & 4 & 0.07142857 & 3.571429 & 2022/07/25 & 576.5777 & 79.824 & 0.006194184 & 1.692379 & 0.1208842 & 355.1288\\\\\n",
       "\t6 & Andorra & 105 & 4685 & AND & Europe & Southern Europe & 2022-08-13 & 0 & 4 & 0.07142857 & 3.642857 & 2022/07/25 & 576.5777 & 79.824 & 0.006318068 & 1.692379 & 0.1208842 & 355.1288\\\\\n",
       "\\end{tabular}\n"
      ],
      "text/markdown": [
       "\n",
       "A data.frame: 6 × 18\n",
       "\n",
       "| <!--/--> | location &lt;chr&gt; | time &lt;dbl&gt; | X &lt;int&gt; | iso_code &lt;chr&gt; | region &lt;chr&gt; | sub_region &lt;chr&gt; | date &lt;date&gt; | new_cases &lt;int&gt; | total_cases &lt;int&gt; | MA_new_cases &lt;dbl&gt; | MA_total_cases &lt;dbl&gt; | date_import &lt;chr&gt; | MSM_pop &lt;dbl&gt; | pop2022 &lt;dbl&gt; | cum_icni_prop &lt;dbl&gt; | Reff_i &lt;dbl&gt; | G_i &lt;dbl&gt; | F_i &lt;dbl&gt; |\n",
       "|---|---|---|---|---|---|---|---|---|---|---|---|---|---|---|---|---|---|---|\n",
       "| 1 | Andorra | 100 | 4269 | AND | Europe | Southern Europe | 2022-08-08 | 0 | 4 | 0.14285714 | 3.285714 | 2022/07/25 | 576.5777 | 79.824 | 0.005698650 | 1.692379 | 0.2417684 | 413.8603 |\n",
       "| 2 | Andorra | 101 | 4351 | AND | Europe | Southern Europe | 2022-08-09 | 0 | 4 | 0.07142857 | 3.357143 | 2022/07/25 | 576.5777 | 79.824 | 0.005822533 | 1.692379 | 0.1208842 | 365.6487 |\n",
       "| 3 | Andorra | 102 | 4434 | AND | Europe | Southern Europe | 2022-08-10 | 0 | 4 | 0.07142857 | 3.428571 | 2022/07/25 | 576.5777 | 79.824 | 0.005946417 | 1.692379 | 0.1208842 | 335.2218 |\n",
       "| 4 | Andorra | 103 | 4518 | AND | Europe | Southern Europe | 2022-08-11 | 0 | 4 | 0.07142857 | 3.500000 | 2022/07/25 | 576.5777 | 79.824 | 0.006070301 | 1.692379 | 0.1208842 | 355.1288 |\n",
       "| 5 | Andorra | 104 | 4601 | AND | Europe | Southern Europe | 2022-08-12 | 0 | 4 | 0.07142857 | 3.571429 | 2022/07/25 | 576.5777 | 79.824 | 0.006194184 | 1.692379 | 0.1208842 | 355.1288 |\n",
       "| 6 | Andorra | 105 | 4685 | AND | Europe | Southern Europe | 2022-08-13 | 0 | 4 | 0.07142857 | 3.642857 | 2022/07/25 | 576.5777 | 79.824 | 0.006318068 | 1.692379 | 0.1208842 | 355.1288 |\n",
       "\n"
      ],
      "text/plain": [
       "  location time X    iso_code region sub_region      date       new_cases\n",
       "1 Andorra  100  4269 AND      Europe Southern Europe 2022-08-08 0        \n",
       "2 Andorra  101  4351 AND      Europe Southern Europe 2022-08-09 0        \n",
       "3 Andorra  102  4434 AND      Europe Southern Europe 2022-08-10 0        \n",
       "4 Andorra  103  4518 AND      Europe Southern Europe 2022-08-11 0        \n",
       "5 Andorra  104  4601 AND      Europe Southern Europe 2022-08-12 0        \n",
       "6 Andorra  105  4685 AND      Europe Southern Europe 2022-08-13 0        \n",
       "  total_cases MA_new_cases MA_total_cases date_import MSM_pop  pop2022\n",
       "1 4           0.14285714   3.285714       2022/07/25  576.5777 79.824 \n",
       "2 4           0.07142857   3.357143       2022/07/25  576.5777 79.824 \n",
       "3 4           0.07142857   3.428571       2022/07/25  576.5777 79.824 \n",
       "4 4           0.07142857   3.500000       2022/07/25  576.5777 79.824 \n",
       "5 4           0.07142857   3.571429       2022/07/25  576.5777 79.824 \n",
       "6 4           0.07142857   3.642857       2022/07/25  576.5777 79.824 \n",
       "  cum_icni_prop Reff_i   G_i       F_i     \n",
       "1 0.005698650   1.692379 0.2417684 413.8603\n",
       "2 0.005822533   1.692379 0.1208842 365.6487\n",
       "3 0.005946417   1.692379 0.1208842 335.2218\n",
       "4 0.006070301   1.692379 0.1208842 355.1288\n",
       "5 0.006194184   1.692379 0.1208842 355.1288\n",
       "6 0.006318068   1.692379 0.1208842 355.1288"
      ]
     },
     "metadata": {},
     "output_type": "display_data"
    }
   ],
   "source": [
    "input_final %>% head()\n",
    "write.csv(input_final, \"../data/input.csv\")"
   ]
  }
 ],
 "metadata": {
  "kernelspec": {
   "display_name": "R",
   "language": "R",
   "name": "ir"
  },
  "language_info": {
   "codemirror_mode": "r",
   "file_extension": ".r",
   "mimetype": "text/x-r-source",
   "name": "R",
   "pygments_lexer": "r",
   "version": "4.1.3"
  }
 },
 "nbformat": 4,
 "nbformat_minor": 4
}
