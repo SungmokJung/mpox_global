{
 "cells": [
  {
   "cell_type": "code",
   "execution_count": 1,
   "metadata": {},
   "outputs": [
    {
     "name": "stderr",
     "output_type": "stream",
     "text": [
      "── \u001b[1mAttaching packages\u001b[22m ─────────────────────────────────────────── tidyverse 1.3.2 ──\n",
      "\u001b[32m✔\u001b[39m \u001b[34mggplot2\u001b[39m 3.4.0     \u001b[32m✔\u001b[39m \u001b[34mpurrr  \u001b[39m 0.3.5\n",
      "\u001b[32m✔\u001b[39m \u001b[34mtibble \u001b[39m 3.1.8     \u001b[32m✔\u001b[39m \u001b[34mstringr\u001b[39m 1.4.1\n",
      "\u001b[32m✔\u001b[39m \u001b[34mtidyr  \u001b[39m 1.2.1     \u001b[32m✔\u001b[39m \u001b[34mforcats\u001b[39m 0.5.2\n",
      "\u001b[32m✔\u001b[39m \u001b[34mreadr  \u001b[39m 2.1.3     \n",
      "── \u001b[1mConflicts\u001b[22m ────────────────────────────────────────────── tidyverse_conflicts() ──\n",
      "\u001b[31m✖\u001b[39m \u001b[34mdplyr\u001b[39m::\u001b[32mfilter()\u001b[39m masks \u001b[34mstats\u001b[39m::filter()\n",
      "\u001b[31m✖\u001b[39m \u001b[34mdplyr\u001b[39m::\u001b[32mlag()\u001b[39m    masks \u001b[34mstats\u001b[39m::lag()\n"
     ]
    }
   ],
   "source": [
    "libraries = c(\"dplyr\", \"tidyverse\", \"ggpubr\")\n",
    "for(x in libraries) {library(x,character.only=TRUE,warn.conflicts=FALSE,quietly=TRUE)}\n",
    "\n",
    "theme_set(theme_bw())"
   ]
  },
  {
   "cell_type": "code",
   "execution_count": 2,
   "metadata": {},
   "outputs": [],
   "source": [
    "read.csv(\"../data/df_inci_final.csv\") -> df_inci\n",
    "read.csv(\"../data/SAR_cip_Reff_excess.csv\") -> df_Reff\n",
    "read.csv(\"../data/flight/flight_matrix.csv\") -> flight_matrix"
   ]
  },
  {
   "cell_type": "code",
   "execution_count": 3,
   "metadata": {},
   "outputs": [],
   "source": [
    "## fixed parameters\n",
    "w <- 14\n",
    "SAR <- 0.1\n",
    "time_0 <- as.Date(\"2022-04-30\")"
   ]
  },
  {
   "cell_type": "code",
   "execution_count": 4,
   "metadata": {},
   "outputs": [],
   "source": [
    "## extrapolating Reff_i\n",
    "merge(df_inci %>% dplyr::select(cum_icni_prop) %>% rename(Infections=cum_icni_prop), \n",
    "      df_Reff %>% dplyr::select(Infections, Excess), by=c(\"Infections\"), all.x=TRUE) %>% \n",
    "arrange(Infections) %>% distinct() -> temp_df_Reff\n",
    "temp_df_Reff[rowSums(is.na(temp_df_Reff))>0,] -> temp_df_Reff_NA\n",
    "\n",
    "for(i in 1:nrow(temp_df_Reff_NA)){\n",
    "    c(min(df_Reff$Infections[which(df_Reff$Infections>temp_df_Reff_NA$Infections[i])]),\n",
    "      min(df_Reff$Infections[which(df_Reff$Infections<temp_df_Reff_NA$Infections[i])])) -> two_val\n",
    "    \n",
    "sort(two_val) -> two_val\n",
    "    \n",
    "df_Reff %>% filter(Infections >= two_val[1] & Infections <= two_val[2]) %>% dplyr::select(Infections, Excess) -> temp\n",
    "approx(temp$Infections, temp$Excess, \n",
    "       xout = temp_df_Reff_NA$Infections[i], method=\"linear\")$y -> temp_df_Reff_NA[i,2]\n",
    "}\n",
    "\n",
    "temp_df_Reff_NA %<>% mutate(X=NA, SAR=NA, Reff_1=NA, Reff_2=NA, n=NA) %>% \n",
    "dplyr::select(X, SAR, Infections, Reff_1, Reff_2, Excess, n)\n",
    "\n",
    "rbind(df_Reff, temp_df_Reff_NA) %>% arrange(Infections) -> df_Reff_extra"
   ]
  },
  {
   "cell_type": "code",
   "execution_count": 5,
   "metadata": {},
   "outputs": [],
   "source": [
    "## Reff_i & G_i\n",
    "merge(df_inci, df_Reff_extra %>% dplyr::select(Infections, Excess) %>% rename(cum_icni_prop=Infections),\n",
    "      by=c(\"cum_icni_prop\"), all.x=TRUE) %>% \n",
    "mutate(Reff_i=Excess*SAR, G_i=Reff_i*MA_new_cases) %>% dplyr::select(-c(\"Excess\")) %>%\n",
    "mutate(location=case_when(location==c(\"Democratic Republic of Congo\")~c(\"Congo, Democratic Republic of the\"),\n",
    "                          location==c(\"Curaçao\")~c(\"Curacao\"),\n",
    "                          location==c(\"Czechia\")~c(\"Czech Republic\"),\n",
    "                          location==c(\"Türkiye\")~c(\"Turkey\"),\n",
    "                          location==c(\"Iran\")~c(\"Iran, Islamic Republic of\"),\n",
    "                          location==c(\"South Korea\")~c(\"Korea, Republic of\"),\n",
    "                          location==c(\"United States\")~c(\"United States of America\"),\n",
    "                          location==c(\"Venezuela\")~c(\"Venezuela, Bolivarian Republic of\"),\n",
    "                          location==c(\"Moldova\")~c(\"Moldova, Republic of\"),\n",
    "                          location==c(\"Russia\")~c(\"Russian Federation\"),\n",
    "                          location==c(\"Bolivia\")~c(\"Bolivia, Plurinational State of\"),\n",
    "                          TRUE~location)) %>%\n",
    "filter(!(location %in% c(\"Gibraltar\", \"Guadeloupe\", \"Greenland\", \"Saint Martin (French part)\"))) -> input\n",
    "\n",
    "as.Date(input$date) -> input$date\n",
    "input %>% mutate(time=as.numeric(date-time_0), censoring=0) %>% dplyr::select(-X) -> input"
   ]
  },
  {
   "cell_type": "code",
   "execution_count": 6,
   "metadata": {},
   "outputs": [],
   "source": [
    "## calculating Reff_i & G_i in countries without any imported case\n",
    "path <- \"../data/flight/all_region/\"; list.files(path = path, pattern = \"*xlsx\") -> file_list\n",
    "substr(file_list,1,nchar(file_list)-5) -> flight_list\n",
    "unique(input$location) -> country_list\n",
    "sort(flight_list) -> flight_list_sort; sort(country_list) -> country_list_sort\n",
    "\n",
    "setdiff(flight_matrix$destination, country_list_sort) -> country_no_list_sort\n",
    "sort(country_no_list_sort) -> country_no_list_sort\n",
    "\n",
    "as.data.frame(country_no_list_sort) %>% rename(location=country_no_list_sort) -> country_no_import\n",
    "\n",
    "read.csv(\"../data/MSM_pop/df_MSM_imputed.csv\") %>%\n",
    "mutate(location=case_when(location==c(\"Côte d\\'Ivoire\")~c(\"Cote d'Ivoire\"),\n",
    "                          location==c(\"Hong Kong\")~c(\"Hong Kong, China\"),\n",
    "                          location==c(\"Macao\")~c(\"Macao, China\"),\n",
    "                          location==c(\"Micronesia (Federated States of)\")~c(\"Micronesia, Federated States of\"),\n",
    "                          location==c(\"Saint Vincent and the Grenadines\")~c(\"Saint Vincent and The Grenadines\"),\n",
    "                          location==c(\"Virgin Islands (U.S.)\")~c(\"United States Virgin Islands\"),\n",
    "                          location==c(\"Réunion\")~c(\"Reunion\"),\n",
    "                          TRUE~location)) -> df_MSM_imputed\n",
    "\n",
    "merge(country_no_import, df_MSM_imputed %>% dplyr::select(location, iso_code, imputed, pop2022, region, sub_region), \n",
    "      by=c(\"location\"), all.x=TRUE) -> country_no_import_pop\n",
    "\n",
    "df_inci_no_list <- list()\n",
    "\n",
    "as.data.frame(seq(min(input$date), max(input$date),1)) -> temp_cal\n",
    "colnames(temp_cal) <- c(\"date\")\n",
    "unique(country_no_import_pop$location) -> no_list\n",
    "\n",
    "for(i in 1:length(no_list)){\n",
    "    country_no_import_pop %>% filter(location==no_list[i]) %>% mutate(date=min(input$date))-> temp_inci\n",
    "    merge(temp_cal, temp_inci, by=c(\"date\"), all.x=TRUE) %>% \n",
    "    mutate(new_cases=NA, total_cases=NA, MA_new_cases=NA, MA_total_cases=NA, \n",
    "           date_import=NA, Reff_i=NA, G_i=NA, cum_icni_prop=NA) -> temp_inci_all\n",
    "\n",
    "    temp_inci_all$location[is.na(temp_inci_all$location)] <- unique(temp_inci$location)\n",
    "    temp_inci_all$iso_code[is.na(temp_inci_all$iso_code)] <- unique(temp_inci$iso_code)\n",
    "    temp_inci_all$region[is.na(temp_inci_all$region)] <- unique(temp_inci$region)\n",
    "    temp_inci_all$sub_region[is.na(temp_inci_all$sub_region)] <- unique(temp_inci$sub_region)\n",
    "    temp_inci_all$new_cases[is.na(temp_inci_all$new_cases)] <- 0\n",
    "    temp_inci_all$total_cases[is.na(temp_inci_all$total_cases)] <- 0\n",
    "    temp_inci_all$MA_new_cases[is.na(temp_inci_all$MA_new_cases)] <- 0\n",
    "    temp_inci_all$MA_total_cases[is.na(temp_inci_all$MA_total_cases)] <- 0\n",
    "    temp_inci_all$Reff_i[is.na(temp_inci_all$Reff_i)] <- 0\n",
    "    temp_inci_all$G_i[is.na(temp_inci_all$G_i)] <- 0\n",
    "    temp_inci_all$cum_icni_prop[is.na(temp_inci_all$cum_icni_prop)] <- 0\n",
    "    temp_inci_all$pop2022[is.na(temp_inci_all$pop2022)] <- unique(temp_inci$pop2022)\n",
    "    temp_inci_all$imputed[is.na(temp_inci_all$imputed)] <- unique(temp_inci$imputed)\n",
    "    \n",
    "    temp_inci_all %>% dplyr::select(iso_code, location, date, new_cases, total_cases, \n",
    "                                    MA_new_cases, MA_total_cases, date_import, \n",
    "                                    imputed, pop2022, region, sub_region, cum_icni_prop, Reff_i, G_i) %>%\n",
    "    rename(MSM_pop=imputed) -> temp_inci_all\n",
    "\n",
    "    temp_inci_all -> df_inci_no_list[[i]]    \n",
    "}\n",
    "\n",
    "do.call(\"rbind\", df_inci_no_list) %>% as.data.frame() %>% arrange(location, date) %>%\n",
    "mutate(time=as.numeric(date-time_0), censoring=1) -> input_no"
   ]
  },
  {
   "cell_type": "code",
   "execution_count": 7,
   "metadata": {},
   "outputs": [
    {
     "data": {
      "text/html": [
       "<table class=\"dataframe\">\n",
       "<caption>A data.frame: 6 × 17</caption>\n",
       "<thead>\n",
       "\t<tr><th></th><th scope=col>iso_code</th><th scope=col>location</th><th scope=col>date</th><th scope=col>new_cases</th><th scope=col>total_cases</th><th scope=col>MA_new_cases</th><th scope=col>MA_total_cases</th><th scope=col>date_import</th><th scope=col>MSM_pop</th><th scope=col>pop2022</th><th scope=col>region</th><th scope=col>sub_region</th><th scope=col>cum_icni_prop</th><th scope=col>Reff_i</th><th scope=col>G_i</th><th scope=col>time</th><th scope=col>censoring</th></tr>\n",
       "\t<tr><th></th><th scope=col>&lt;chr&gt;</th><th scope=col>&lt;chr&gt;</th><th scope=col>&lt;date&gt;</th><th scope=col>&lt;dbl&gt;</th><th scope=col>&lt;dbl&gt;</th><th scope=col>&lt;dbl&gt;</th><th scope=col>&lt;dbl&gt;</th><th scope=col>&lt;lgl&gt;</th><th scope=col>&lt;dbl&gt;</th><th scope=col>&lt;dbl&gt;</th><th scope=col>&lt;chr&gt;</th><th scope=col>&lt;chr&gt;</th><th scope=col>&lt;dbl&gt;</th><th scope=col>&lt;dbl&gt;</th><th scope=col>&lt;dbl&gt;</th><th scope=col>&lt;dbl&gt;</th><th scope=col>&lt;dbl&gt;</th></tr>\n",
       "</thead>\n",
       "<tbody>\n",
       "\t<tr><th scope=row>1</th><td>ALB</td><td>Albania</td><td>2022-05-01</td><td>0</td><td>0</td><td>0</td><td>0</td><td>NA</td><td>7.1</td><td>2842.321</td><td>Europe</td><td>Southern Europe</td><td>0</td><td>0</td><td>0</td><td>1</td><td>1</td></tr>\n",
       "\t<tr><th scope=row>2</th><td>ALB</td><td>Albania</td><td>2022-05-02</td><td>0</td><td>0</td><td>0</td><td>0</td><td>NA</td><td>7.1</td><td>2842.321</td><td>Europe</td><td>Southern Europe</td><td>0</td><td>0</td><td>0</td><td>2</td><td>1</td></tr>\n",
       "\t<tr><th scope=row>3</th><td>ALB</td><td>Albania</td><td>2022-05-03</td><td>0</td><td>0</td><td>0</td><td>0</td><td>NA</td><td>7.1</td><td>2842.321</td><td>Europe</td><td>Southern Europe</td><td>0</td><td>0</td><td>0</td><td>3</td><td>1</td></tr>\n",
       "\t<tr><th scope=row>4</th><td>ALB</td><td>Albania</td><td>2022-05-04</td><td>0</td><td>0</td><td>0</td><td>0</td><td>NA</td><td>7.1</td><td>2842.321</td><td>Europe</td><td>Southern Europe</td><td>0</td><td>0</td><td>0</td><td>4</td><td>1</td></tr>\n",
       "\t<tr><th scope=row>5</th><td>ALB</td><td>Albania</td><td>2022-05-05</td><td>0</td><td>0</td><td>0</td><td>0</td><td>NA</td><td>7.1</td><td>2842.321</td><td>Europe</td><td>Southern Europe</td><td>0</td><td>0</td><td>0</td><td>5</td><td>1</td></tr>\n",
       "\t<tr><th scope=row>6</th><td>ALB</td><td>Albania</td><td>2022-05-06</td><td>0</td><td>0</td><td>0</td><td>0</td><td>NA</td><td>7.1</td><td>2842.321</td><td>Europe</td><td>Southern Europe</td><td>0</td><td>0</td><td>0</td><td>6</td><td>1</td></tr>\n",
       "</tbody>\n",
       "</table>\n"
      ],
      "text/latex": [
       "A data.frame: 6 × 17\n",
       "\\begin{tabular}{r|lllllllllllllllll}\n",
       "  & iso\\_code & location & date & new\\_cases & total\\_cases & MA\\_new\\_cases & MA\\_total\\_cases & date\\_import & MSM\\_pop & pop2022 & region & sub\\_region & cum\\_icni\\_prop & Reff\\_i & G\\_i & time & censoring\\\\\n",
       "  & <chr> & <chr> & <date> & <dbl> & <dbl> & <dbl> & <dbl> & <lgl> & <dbl> & <dbl> & <chr> & <chr> & <dbl> & <dbl> & <dbl> & <dbl> & <dbl>\\\\\n",
       "\\hline\n",
       "\t1 & ALB & Albania & 2022-05-01 & 0 & 0 & 0 & 0 & NA & 7.1 & 2842.321 & Europe & Southern Europe & 0 & 0 & 0 & 1 & 1\\\\\n",
       "\t2 & ALB & Albania & 2022-05-02 & 0 & 0 & 0 & 0 & NA & 7.1 & 2842.321 & Europe & Southern Europe & 0 & 0 & 0 & 2 & 1\\\\\n",
       "\t3 & ALB & Albania & 2022-05-03 & 0 & 0 & 0 & 0 & NA & 7.1 & 2842.321 & Europe & Southern Europe & 0 & 0 & 0 & 3 & 1\\\\\n",
       "\t4 & ALB & Albania & 2022-05-04 & 0 & 0 & 0 & 0 & NA & 7.1 & 2842.321 & Europe & Southern Europe & 0 & 0 & 0 & 4 & 1\\\\\n",
       "\t5 & ALB & Albania & 2022-05-05 & 0 & 0 & 0 & 0 & NA & 7.1 & 2842.321 & Europe & Southern Europe & 0 & 0 & 0 & 5 & 1\\\\\n",
       "\t6 & ALB & Albania & 2022-05-06 & 0 & 0 & 0 & 0 & NA & 7.1 & 2842.321 & Europe & Southern Europe & 0 & 0 & 0 & 6 & 1\\\\\n",
       "\\end{tabular}\n"
      ],
      "text/markdown": [
       "\n",
       "A data.frame: 6 × 17\n",
       "\n",
       "| <!--/--> | iso_code &lt;chr&gt; | location &lt;chr&gt; | date &lt;date&gt; | new_cases &lt;dbl&gt; | total_cases &lt;dbl&gt; | MA_new_cases &lt;dbl&gt; | MA_total_cases &lt;dbl&gt; | date_import &lt;lgl&gt; | MSM_pop &lt;dbl&gt; | pop2022 &lt;dbl&gt; | region &lt;chr&gt; | sub_region &lt;chr&gt; | cum_icni_prop &lt;dbl&gt; | Reff_i &lt;dbl&gt; | G_i &lt;dbl&gt; | time &lt;dbl&gt; | censoring &lt;dbl&gt; |\n",
       "|---|---|---|---|---|---|---|---|---|---|---|---|---|---|---|---|---|---|\n",
       "| 1 | ALB | Albania | 2022-05-01 | 0 | 0 | 0 | 0 | NA | 7.1 | 2842.321 | Europe | Southern Europe | 0 | 0 | 0 | 1 | 1 |\n",
       "| 2 | ALB | Albania | 2022-05-02 | 0 | 0 | 0 | 0 | NA | 7.1 | 2842.321 | Europe | Southern Europe | 0 | 0 | 0 | 2 | 1 |\n",
       "| 3 | ALB | Albania | 2022-05-03 | 0 | 0 | 0 | 0 | NA | 7.1 | 2842.321 | Europe | Southern Europe | 0 | 0 | 0 | 3 | 1 |\n",
       "| 4 | ALB | Albania | 2022-05-04 | 0 | 0 | 0 | 0 | NA | 7.1 | 2842.321 | Europe | Southern Europe | 0 | 0 | 0 | 4 | 1 |\n",
       "| 5 | ALB | Albania | 2022-05-05 | 0 | 0 | 0 | 0 | NA | 7.1 | 2842.321 | Europe | Southern Europe | 0 | 0 | 0 | 5 | 1 |\n",
       "| 6 | ALB | Albania | 2022-05-06 | 0 | 0 | 0 | 0 | NA | 7.1 | 2842.321 | Europe | Southern Europe | 0 | 0 | 0 | 6 | 1 |\n",
       "\n"
      ],
      "text/plain": [
       "  iso_code location date       new_cases total_cases MA_new_cases\n",
       "1 ALB      Albania  2022-05-01 0         0           0           \n",
       "2 ALB      Albania  2022-05-02 0         0           0           \n",
       "3 ALB      Albania  2022-05-03 0         0           0           \n",
       "4 ALB      Albania  2022-05-04 0         0           0           \n",
       "5 ALB      Albania  2022-05-05 0         0           0           \n",
       "6 ALB      Albania  2022-05-06 0         0           0           \n",
       "  MA_total_cases date_import MSM_pop pop2022  region sub_region     \n",
       "1 0              NA          7.1     2842.321 Europe Southern Europe\n",
       "2 0              NA          7.1     2842.321 Europe Southern Europe\n",
       "3 0              NA          7.1     2842.321 Europe Southern Europe\n",
       "4 0              NA          7.1     2842.321 Europe Southern Europe\n",
       "5 0              NA          7.1     2842.321 Europe Southern Europe\n",
       "6 0              NA          7.1     2842.321 Europe Southern Europe\n",
       "  cum_icni_prop Reff_i G_i time censoring\n",
       "1 0             0      0   1    1        \n",
       "2 0             0      0   2    1        \n",
       "3 0             0      0   3    1        \n",
       "4 0             0      0   4    1        \n",
       "5 0             0      0   5    1        \n",
       "6 0             0      0   6    1        "
      ]
     },
     "metadata": {},
     "output_type": "display_data"
    }
   ],
   "source": [
    "input_no %>% head()"
   ]
  },
  {
   "cell_type": "code",
   "execution_count": 8,
   "metadata": {},
   "outputs": [
    {
     "data": {
      "text/html": [
       "<table class=\"dataframe\">\n",
       "<caption>A data.frame: 0 × 1</caption>\n",
       "<thead>\n",
       "\t<tr><th scope=col>location</th></tr>\n",
       "\t<tr><th scope=col>&lt;chr&gt;</th></tr>\n",
       "</thead>\n",
       "<tbody>\n",
       "</tbody>\n",
       "</table>\n"
      ],
      "text/latex": [
       "A data.frame: 0 × 1\n",
       "\\begin{tabular}{l}\n",
       " location\\\\\n",
       " <chr>\\\\\n",
       "\\hline\n",
       "\\end{tabular}\n"
      ],
      "text/markdown": [
       "\n",
       "A data.frame: 0 × 1\n",
       "\n",
       "| location &lt;chr&gt; |\n",
       "|---|\n",
       "\n"
      ],
      "text/plain": [
       "     location"
      ]
     },
     "metadata": {},
     "output_type": "display_data"
    }
   ],
   "source": [
    "rbind(input, input_no) -> input_all\n",
    "input_all %>% filter(is.na(pop2022)) %>% dplyr::select(location) %>% unique()"
   ]
  },
  {
   "cell_type": "code",
   "execution_count": 10,
   "metadata": {},
   "outputs": [
    {
     "data": {
      "text/html": [],
      "text/latex": [],
      "text/markdown": [],
      "text/plain": [
       "character(0)"
      ]
     },
     "metadata": {},
     "output_type": "display_data"
    }
   ],
   "source": [
    "## calculating F_i\n",
    "path <- \"../data/flight/all_region/\"; list.files(path = path, pattern = \"*xlsx\") -> file_list\n",
    "substr(file_list,1,nchar(file_list)-5) -> flight_list\n",
    "unique(input_all$location) -> country_list\n",
    "country_list <- country_list[!country_list %in% c(\"Sudan\", \"Ghana\", \"Liberia\", \"Congo\", \"Nigeria\" ,\n",
    "                                                  \"Congo, Democratic Republic of the\",\n",
    "                                                  \"Venezuela, Bolivarian Republic of\")]\n",
    "sort(flight_list) -> flight_list_sort; sort(country_list) -> country_list_sort\n",
    "setdiff(country_list_sort, flight_matrix$destination)"
   ]
  },
  {
   "cell_type": "code",
   "execution_count": 10,
   "metadata": {},
   "outputs": [],
   "source": [
    "F_i_country <- list(); F_i_time_list <- list()\n",
    "\n",
    "for(i in 1:length(country_list_sort)){\n",
    "    flight_matrix %>% filter(destination==country_list_sort[i]) %>% t() -> temp\n",
    "    temp[4:nrow(temp),] %>% as.matrix() -> temp\n",
    "\n",
    "    flight_list %>% as.matrix() -> flight_list_matrix\n",
    "    cbind(temp, flight_list_matrix) %>% as.data.frame() %>% rename(value=V1, location=V2) -> V_ij_temp\n",
    "    rownames(V_ij_temp) <- NULL\n",
    "\n",
    "    input_all %>% dplyr::select(location, pop2022) %>% distinct() -> N_j_temp\n",
    "\n",
    "    merge(V_ij_temp, N_j_temp, by=c(\"location\"), all.x=TRUE) %>% na.omit() -> temp\n",
    "\n",
    "    for(g in 1:max(input_all$time)) {\n",
    "        input_all %>% filter(time==g) %>% dplyr::select(location, G_i) -> G_i_time\n",
    "        merge(temp, G_i_time, by=c(\"location\"), all.x=TRUE) -> temp_G_i_time\n",
    "        temp_G_i_time$value <- as.numeric(temp_G_i_time$value)\n",
    "        temp_G_i_time %>% mutate(F_i_t = w/365*value/pop2022*G_i, time=g) -> temp_G_i_time \n",
    "        sum(temp_G_i_time$F_i_t) -> F_i_time_list[[g]]\n",
    "    }\n",
    "    \n",
    "    do.call(\"rbind\", F_i_time_list) %>% as.data.frame() %>% \n",
    "    mutate(time=1:max(input_all$time), location=country_list_sort[i]) %>% rename(F_i=V1) -> F_i_country[[i]]\n",
    "}\n",
    "\n",
    "do.call(\"rbind\", F_i_country) %>% as.data.frame() -> F_i_country_all\n",
    "merge(input_all, F_i_country_all, by=c(\"location\", \"time\"), all.x=TRUE) -> input_final_all\n",
    "\n",
    "input_final_all$date_import <- as.Date(input_final_all$date_import)"
   ]
  },
  {
   "cell_type": "code",
   "execution_count": 11,
   "metadata": {},
   "outputs": [],
   "source": [
    "input_final <- input_final_all[!is.na(input_final_all$F_i),]"
   ]
  },
  {
   "cell_type": "code",
   "execution_count": 12,
   "metadata": {},
   "outputs": [
    {
     "data": {
      "text/html": [
       "<table class=\"dataframe\">\n",
       "<caption>A data.frame: 6 × 18</caption>\n",
       "<thead>\n",
       "\t<tr><th></th><th scope=col>location</th><th scope=col>time</th><th scope=col>cum_icni_prop</th><th scope=col>iso_code</th><th scope=col>region</th><th scope=col>sub_region</th><th scope=col>date</th><th scope=col>new_cases</th><th scope=col>total_cases</th><th scope=col>MA_new_cases</th><th scope=col>MA_total_cases</th><th scope=col>date_import</th><th scope=col>MSM_pop</th><th scope=col>pop2022</th><th scope=col>Reff_i</th><th scope=col>G_i</th><th scope=col>censoring</th><th scope=col>F_i</th></tr>\n",
       "\t<tr><th></th><th scope=col>&lt;chr&gt;</th><th scope=col>&lt;dbl&gt;</th><th scope=col>&lt;dbl&gt;</th><th scope=col>&lt;chr&gt;</th><th scope=col>&lt;chr&gt;</th><th scope=col>&lt;chr&gt;</th><th scope=col>&lt;date&gt;</th><th scope=col>&lt;dbl&gt;</th><th scope=col>&lt;dbl&gt;</th><th scope=col>&lt;dbl&gt;</th><th scope=col>&lt;dbl&gt;</th><th scope=col>&lt;date&gt;</th><th scope=col>&lt;dbl&gt;</th><th scope=col>&lt;dbl&gt;</th><th scope=col>&lt;dbl&gt;</th><th scope=col>&lt;dbl&gt;</th><th scope=col>&lt;dbl&gt;</th><th scope=col>&lt;dbl&gt;</th></tr>\n",
       "</thead>\n",
       "<tbody>\n",
       "\t<tr><th scope=row>1</th><td>Albania</td><td>1</td><td>0</td><td>ALB</td><td>Europe</td><td>Southern Europe</td><td>2022-05-01</td><td>0</td><td>0</td><td>0</td><td>0</td><td>NA</td><td>7.1</td><td>2842.321</td><td>0</td><td>0</td><td>1</td><td>0</td></tr>\n",
       "\t<tr><th scope=row>2</th><td>Albania</td><td>2</td><td>0</td><td>ALB</td><td>Europe</td><td>Southern Europe</td><td>2022-05-02</td><td>0</td><td>0</td><td>0</td><td>0</td><td>NA</td><td>7.1</td><td>2842.321</td><td>0</td><td>0</td><td>1</td><td>0</td></tr>\n",
       "\t<tr><th scope=row>3</th><td>Albania</td><td>3</td><td>0</td><td>ALB</td><td>Europe</td><td>Southern Europe</td><td>2022-05-03</td><td>0</td><td>0</td><td>0</td><td>0</td><td>NA</td><td>7.1</td><td>2842.321</td><td>0</td><td>0</td><td>1</td><td>0</td></tr>\n",
       "\t<tr><th scope=row>4</th><td>Albania</td><td>4</td><td>0</td><td>ALB</td><td>Europe</td><td>Southern Europe</td><td>2022-05-04</td><td>0</td><td>0</td><td>0</td><td>0</td><td>NA</td><td>7.1</td><td>2842.321</td><td>0</td><td>0</td><td>1</td><td>0</td></tr>\n",
       "\t<tr><th scope=row>5</th><td>Albania</td><td>5</td><td>0</td><td>ALB</td><td>Europe</td><td>Southern Europe</td><td>2022-05-05</td><td>0</td><td>0</td><td>0</td><td>0</td><td>NA</td><td>7.1</td><td>2842.321</td><td>0</td><td>0</td><td>1</td><td>0</td></tr>\n",
       "\t<tr><th scope=row>6</th><td>Albania</td><td>6</td><td>0</td><td>ALB</td><td>Europe</td><td>Southern Europe</td><td>2022-05-06</td><td>0</td><td>0</td><td>0</td><td>0</td><td>NA</td><td>7.1</td><td>2842.321</td><td>0</td><td>0</td><td>1</td><td>0</td></tr>\n",
       "</tbody>\n",
       "</table>\n"
      ],
      "text/latex": [
       "A data.frame: 6 × 18\n",
       "\\begin{tabular}{r|llllllllllllllllll}\n",
       "  & location & time & cum\\_icni\\_prop & iso\\_code & region & sub\\_region & date & new\\_cases & total\\_cases & MA\\_new\\_cases & MA\\_total\\_cases & date\\_import & MSM\\_pop & pop2022 & Reff\\_i & G\\_i & censoring & F\\_i\\\\\n",
       "  & <chr> & <dbl> & <dbl> & <chr> & <chr> & <chr> & <date> & <dbl> & <dbl> & <dbl> & <dbl> & <date> & <dbl> & <dbl> & <dbl> & <dbl> & <dbl> & <dbl>\\\\\n",
       "\\hline\n",
       "\t1 & Albania & 1 & 0 & ALB & Europe & Southern Europe & 2022-05-01 & 0 & 0 & 0 & 0 & NA & 7.1 & 2842.321 & 0 & 0 & 1 & 0\\\\\n",
       "\t2 & Albania & 2 & 0 & ALB & Europe & Southern Europe & 2022-05-02 & 0 & 0 & 0 & 0 & NA & 7.1 & 2842.321 & 0 & 0 & 1 & 0\\\\\n",
       "\t3 & Albania & 3 & 0 & ALB & Europe & Southern Europe & 2022-05-03 & 0 & 0 & 0 & 0 & NA & 7.1 & 2842.321 & 0 & 0 & 1 & 0\\\\\n",
       "\t4 & Albania & 4 & 0 & ALB & Europe & Southern Europe & 2022-05-04 & 0 & 0 & 0 & 0 & NA & 7.1 & 2842.321 & 0 & 0 & 1 & 0\\\\\n",
       "\t5 & Albania & 5 & 0 & ALB & Europe & Southern Europe & 2022-05-05 & 0 & 0 & 0 & 0 & NA & 7.1 & 2842.321 & 0 & 0 & 1 & 0\\\\\n",
       "\t6 & Albania & 6 & 0 & ALB & Europe & Southern Europe & 2022-05-06 & 0 & 0 & 0 & 0 & NA & 7.1 & 2842.321 & 0 & 0 & 1 & 0\\\\\n",
       "\\end{tabular}\n"
      ],
      "text/markdown": [
       "\n",
       "A data.frame: 6 × 18\n",
       "\n",
       "| <!--/--> | location &lt;chr&gt; | time &lt;dbl&gt; | cum_icni_prop &lt;dbl&gt; | iso_code &lt;chr&gt; | region &lt;chr&gt; | sub_region &lt;chr&gt; | date &lt;date&gt; | new_cases &lt;dbl&gt; | total_cases &lt;dbl&gt; | MA_new_cases &lt;dbl&gt; | MA_total_cases &lt;dbl&gt; | date_import &lt;date&gt; | MSM_pop &lt;dbl&gt; | pop2022 &lt;dbl&gt; | Reff_i &lt;dbl&gt; | G_i &lt;dbl&gt; | censoring &lt;dbl&gt; | F_i &lt;dbl&gt; |\n",
       "|---|---|---|---|---|---|---|---|---|---|---|---|---|---|---|---|---|---|---|\n",
       "| 1 | Albania | 1 | 0 | ALB | Europe | Southern Europe | 2022-05-01 | 0 | 0 | 0 | 0 | NA | 7.1 | 2842.321 | 0 | 0 | 1 | 0 |\n",
       "| 2 | Albania | 2 | 0 | ALB | Europe | Southern Europe | 2022-05-02 | 0 | 0 | 0 | 0 | NA | 7.1 | 2842.321 | 0 | 0 | 1 | 0 |\n",
       "| 3 | Albania | 3 | 0 | ALB | Europe | Southern Europe | 2022-05-03 | 0 | 0 | 0 | 0 | NA | 7.1 | 2842.321 | 0 | 0 | 1 | 0 |\n",
       "| 4 | Albania | 4 | 0 | ALB | Europe | Southern Europe | 2022-05-04 | 0 | 0 | 0 | 0 | NA | 7.1 | 2842.321 | 0 | 0 | 1 | 0 |\n",
       "| 5 | Albania | 5 | 0 | ALB | Europe | Southern Europe | 2022-05-05 | 0 | 0 | 0 | 0 | NA | 7.1 | 2842.321 | 0 | 0 | 1 | 0 |\n",
       "| 6 | Albania | 6 | 0 | ALB | Europe | Southern Europe | 2022-05-06 | 0 | 0 | 0 | 0 | NA | 7.1 | 2842.321 | 0 | 0 | 1 | 0 |\n",
       "\n"
      ],
      "text/plain": [
       "  location time cum_icni_prop iso_code region sub_region      date      \n",
       "1 Albania  1    0             ALB      Europe Southern Europe 2022-05-01\n",
       "2 Albania  2    0             ALB      Europe Southern Europe 2022-05-02\n",
       "3 Albania  3    0             ALB      Europe Southern Europe 2022-05-03\n",
       "4 Albania  4    0             ALB      Europe Southern Europe 2022-05-04\n",
       "5 Albania  5    0             ALB      Europe Southern Europe 2022-05-05\n",
       "6 Albania  6    0             ALB      Europe Southern Europe 2022-05-06\n",
       "  new_cases total_cases MA_new_cases MA_total_cases date_import MSM_pop\n",
       "1 0         0           0            0              <NA>        7.1    \n",
       "2 0         0           0            0              <NA>        7.1    \n",
       "3 0         0           0            0              <NA>        7.1    \n",
       "4 0         0           0            0              <NA>        7.1    \n",
       "5 0         0           0            0              <NA>        7.1    \n",
       "6 0         0           0            0              <NA>        7.1    \n",
       "  pop2022  Reff_i G_i censoring F_i\n",
       "1 2842.321 0      0   1         0  \n",
       "2 2842.321 0      0   1         0  \n",
       "3 2842.321 0      0   1         0  \n",
       "4 2842.321 0      0   1         0  \n",
       "5 2842.321 0      0   1         0  \n",
       "6 2842.321 0      0   1         0  "
      ]
     },
     "metadata": {},
     "output_type": "display_data"
    }
   ],
   "source": [
    "input_final %>% head()\n",
    "write.csv(input_final, \"../data/input.csv\")"
   ]
  },
  {
   "cell_type": "code",
   "execution_count": 13,
   "metadata": {},
   "outputs": [
    {
     "data": {
      "text/html": [
       "<table class=\"dataframe\">\n",
       "<caption>A tibble: 0 × 2</caption>\n",
       "<thead>\n",
       "\t<tr><th scope=col>location</th><th scope=col>F_i_all</th></tr>\n",
       "\t<tr><th scope=col>&lt;chr&gt;</th><th scope=col>&lt;dbl&gt;</th></tr>\n",
       "</thead>\n",
       "<tbody>\n",
       "</tbody>\n",
       "</table>\n"
      ],
      "text/latex": [
       "A tibble: 0 × 2\n",
       "\\begin{tabular}{ll}\n",
       " location & F\\_i\\_all\\\\\n",
       " <chr> & <dbl>\\\\\n",
       "\\hline\n",
       "\\end{tabular}\n"
      ],
      "text/markdown": [
       "\n",
       "A tibble: 0 × 2\n",
       "\n",
       "| location &lt;chr&gt; | F_i_all &lt;dbl&gt; |\n",
       "|---|---|\n",
       "\n"
      ],
      "text/plain": [
       "     location F_i_all"
      ]
     },
     "metadata": {},
     "output_type": "display_data"
    }
   ],
   "source": [
    "input_final %>% group_by(location) %>% summarise(F_i_all=sum(F_i)) %>% ungroup() -> temp\n",
    "temp%>% filter(F_i_all==0)"
   ]
  }
 ],
 "metadata": {
  "kernelspec": {
   "display_name": "R",
   "language": "R",
   "name": "ir"
  },
  "language_info": {
   "codemirror_mode": "r",
   "file_extension": ".r",
   "mimetype": "text/x-r-source",
   "name": "R",
   "pygments_lexer": "r",
   "version": "4.2.2"
  }
 },
 "nbformat": 4,
 "nbformat_minor": 4
}
