{
 "cells": [
  {
   "cell_type": "code",
   "execution_count": 27,
   "metadata": {},
   "outputs": [],
   "source": [
    "libraries = c(\"dplyr\")\n",
    "for(x in libraries) { library(x,character.only=TRUE,warn.conflicts=FALSE,quietly=TRUE) }"
   ]
  },
  {
   "cell_type": "code",
   "execution_count": 28,
   "metadata": {},
   "outputs": [],
   "source": [
    "library(dplyr)\n",
    "\n",
    "read.csv(\"../data/incidence/owid-monkeypox-data.csv\") -> df_inci\n",
    "df_inci %<>% filter(!(location %in% c(\"World\"))) %>%  \n",
    "dplyr::select(location, iso_code, date, new_cases, total_cases)\n",
    "\n",
    "df_inci %>% arrange(date) %>% group_by(iso_code) %>% filter(rank(date)==1) %>% \n",
    "dplyr::select(iso_code, date) %>% rename(date_import = date) -> temp\n",
    "merge(df_inci, temp, by=c(\"iso_code\"), all.x=TRUE) -> df_inci\n",
    "\n",
    "write.csv(df_inci, \"../data/incidence/df_inci.csv\")"
   ]
  },
  {
   "cell_type": "code",
   "execution_count": 29,
   "metadata": {},
   "outputs": [],
   "source": [
    "df_inci %>% dplyr::select(iso_code, location) %>% distinct() -> country_list\n",
    "write.csv(country_list, \"../data/incidence/country_list.csv\")"
   ]
  },
  {
   "cell_type": "code",
   "execution_count": 32,
   "metadata": {},
   "outputs": [
    {
     "data": {
      "text/html": [
       "<table class=\"dataframe\">\n",
       "<caption>A data.frame: 6 × 2</caption>\n",
       "<thead>\n",
       "\t<tr><th></th><th scope=col>iso_code</th><th scope=col>location</th></tr>\n",
       "\t<tr><th></th><th scope=col>&lt;chr&gt;</th><th scope=col>&lt;chr&gt;</th></tr>\n",
       "</thead>\n",
       "<tbody>\n",
       "\t<tr><th scope=row>1</th><td>ABW</td><td>Aruba               </td></tr>\n",
       "\t<tr><th scope=row>2</th><td>AND</td><td>Andorra             </td></tr>\n",
       "\t<tr><th scope=row>3</th><td>ARE</td><td>United Arab Emirates</td></tr>\n",
       "\t<tr><th scope=row>4</th><td>ARG</td><td>Argentina           </td></tr>\n",
       "\t<tr><th scope=row>5</th><td>AUS</td><td>Australia           </td></tr>\n",
       "\t<tr><th scope=row>6</th><td>AUT</td><td>Austria             </td></tr>\n",
       "</tbody>\n",
       "</table>\n"
      ],
      "text/latex": [
       "A data.frame: 6 × 2\n",
       "\\begin{tabular}{r|ll}\n",
       "  & iso\\_code & location\\\\\n",
       "  & <chr> & <chr>\\\\\n",
       "\\hline\n",
       "\t1 & ABW & Aruba               \\\\\n",
       "\t2 & AND & Andorra             \\\\\n",
       "\t3 & ARE & United Arab Emirates\\\\\n",
       "\t4 & ARG & Argentina           \\\\\n",
       "\t5 & AUS & Australia           \\\\\n",
       "\t6 & AUT & Austria             \\\\\n",
       "\\end{tabular}\n"
      ],
      "text/markdown": [
       "\n",
       "A data.frame: 6 × 2\n",
       "\n",
       "| <!--/--> | iso_code &lt;chr&gt; | location &lt;chr&gt; |\n",
       "|---|---|---|\n",
       "| 1 | ABW | Aruba                |\n",
       "| 2 | AND | Andorra              |\n",
       "| 3 | ARE | United Arab Emirates |\n",
       "| 4 | ARG | Argentina            |\n",
       "| 5 | AUS | Australia            |\n",
       "| 6 | AUT | Austria              |\n",
       "\n"
      ],
      "text/plain": [
       "  iso_code location            \n",
       "1 ABW      Aruba               \n",
       "2 AND      Andorra             \n",
       "3 ARE      United Arab Emirates\n",
       "4 ARG      Argentina           \n",
       "5 AUS      Australia           \n",
       "6 AUT      Austria             "
      ]
     },
     "metadata": {},
     "output_type": "display_data"
    }
   ],
   "source": [
    "country_list %>% head()"
   ]
  },
  {
   "cell_type": "code",
   "execution_count": 33,
   "metadata": {},
   "outputs": [],
   "source": [
    "read.csv(\"../data/MSM_pop/df_pop_raw.csv\") -> df_pop\n",
    "df_pop %<>% dplyr::select(name, pop2022) %>% rename(location=name)\n",
    "write.csv(df_pop, \"../data/MSM_pop/df_pop.csv\")"
   ]
  },
  {
   "cell_type": "code",
   "execution_count": null,
   "metadata": {},
   "outputs": [],
   "source": []
  }
 ],
 "metadata": {
  "kernelspec": {
   "display_name": "R",
   "language": "R",
   "name": "ir"
  },
  "language_info": {
   "codemirror_mode": "r",
   "file_extension": ".r",
   "mimetype": "text/x-r-source",
   "name": "R",
   "pygments_lexer": "r",
   "version": "4.1.3"
  }
 },
 "nbformat": 4,
 "nbformat_minor": 4
}
