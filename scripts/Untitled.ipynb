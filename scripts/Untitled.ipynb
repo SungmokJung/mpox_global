{
 "cells": [
  {
   "cell_type": "code",
   "execution_count": 1,
   "metadata": {},
   "outputs": [],
   "source": [
    "libraries = c(\"dplyr\")\n",
    "for(x in libraries) { library(x,character.only=TRUE,warn.conflicts=FALSE,quietly=TRUE) }"
   ]
  },
  {
   "cell_type": "code",
   "execution_count": 17,
   "metadata": {},
   "outputs": [
    {
     "data": {
      "text/html": [
       "<table class=\"dataframe\">\n",
       "<caption>A data.frame: 6 × 6</caption>\n",
       "<thead>\n",
       "\t<tr><th></th><th scope=col>iso_code</th><th scope=col>location</th><th scope=col>date</th><th scope=col>new_cases</th><th scope=col>total_cases</th><th scope=col>date_import</th></tr>\n",
       "\t<tr><th></th><th scope=col>&lt;chr&gt;</th><th scope=col>&lt;chr&gt;</th><th scope=col>&lt;chr&gt;</th><th scope=col>&lt;int&gt;</th><th scope=col>&lt;int&gt;</th><th scope=col>&lt;chr&gt;</th></tr>\n",
       "</thead>\n",
       "<tbody>\n",
       "\t<tr><th scope=row>1</th><td>ABW</td><td>Aruba</td><td>2022/08/26</td><td>0</td><td>1</td><td>2022/08/21</td></tr>\n",
       "\t<tr><th scope=row>2</th><td>ABW</td><td>Aruba</td><td>2022/09/04</td><td>0</td><td>2</td><td>2022/08/21</td></tr>\n",
       "\t<tr><th scope=row>3</th><td>ABW</td><td>Aruba</td><td>2022/08/27</td><td>0</td><td>1</td><td>2022/08/21</td></tr>\n",
       "\t<tr><th scope=row>4</th><td>ABW</td><td>Aruba</td><td>2022/09/08</td><td>0</td><td>2</td><td>2022/08/21</td></tr>\n",
       "\t<tr><th scope=row>5</th><td>ABW</td><td>Aruba</td><td>2022/09/05</td><td>0</td><td>2</td><td>2022/08/21</td></tr>\n",
       "\t<tr><th scope=row>6</th><td>ABW</td><td>Aruba</td><td>2022/08/23</td><td>0</td><td>0</td><td>2022/08/21</td></tr>\n",
       "</tbody>\n",
       "</table>\n"
      ],
      "text/latex": [
       "A data.frame: 6 × 6\n",
       "\\begin{tabular}{r|llllll}\n",
       "  & iso\\_code & location & date & new\\_cases & total\\_cases & date\\_import\\\\\n",
       "  & <chr> & <chr> & <chr> & <int> & <int> & <chr>\\\\\n",
       "\\hline\n",
       "\t1 & ABW & Aruba & 2022/08/26 & 0 & 1 & 2022/08/21\\\\\n",
       "\t2 & ABW & Aruba & 2022/09/04 & 0 & 2 & 2022/08/21\\\\\n",
       "\t3 & ABW & Aruba & 2022/08/27 & 0 & 1 & 2022/08/21\\\\\n",
       "\t4 & ABW & Aruba & 2022/09/08 & 0 & 2 & 2022/08/21\\\\\n",
       "\t5 & ABW & Aruba & 2022/09/05 & 0 & 2 & 2022/08/21\\\\\n",
       "\t6 & ABW & Aruba & 2022/08/23 & 0 & 0 & 2022/08/21\\\\\n",
       "\\end{tabular}\n"
      ],
      "text/markdown": [
       "\n",
       "A data.frame: 6 × 6\n",
       "\n",
       "| <!--/--> | iso_code &lt;chr&gt; | location &lt;chr&gt; | date &lt;chr&gt; | new_cases &lt;int&gt; | total_cases &lt;int&gt; | date_import &lt;chr&gt; |\n",
       "|---|---|---|---|---|---|---|\n",
       "| 1 | ABW | Aruba | 2022/08/26 | 0 | 1 | 2022/08/21 |\n",
       "| 2 | ABW | Aruba | 2022/09/04 | 0 | 2 | 2022/08/21 |\n",
       "| 3 | ABW | Aruba | 2022/08/27 | 0 | 1 | 2022/08/21 |\n",
       "| 4 | ABW | Aruba | 2022/09/08 | 0 | 2 | 2022/08/21 |\n",
       "| 5 | ABW | Aruba | 2022/09/05 | 0 | 2 | 2022/08/21 |\n",
       "| 6 | ABW | Aruba | 2022/08/23 | 0 | 0 | 2022/08/21 |\n",
       "\n"
      ],
      "text/plain": [
       "  iso_code location date       new_cases total_cases date_import\n",
       "1 ABW      Aruba    2022/08/26 0         1           2022/08/21 \n",
       "2 ABW      Aruba    2022/09/04 0         2           2022/08/21 \n",
       "3 ABW      Aruba    2022/08/27 0         1           2022/08/21 \n",
       "4 ABW      Aruba    2022/09/08 0         2           2022/08/21 \n",
       "5 ABW      Aruba    2022/09/05 0         2           2022/08/21 \n",
       "6 ABW      Aruba    2022/08/23 0         0           2022/08/21 "
      ]
     },
     "metadata": {},
     "output_type": "display_data"
    }
   ],
   "source": [
    "library(dplyr)\n",
    "\n",
    "read.csv(\"../data/incidence/owid-monkeypox-data.csv\") -> df_inci\n",
    "df_inci %<>% filter(!(location %in% c(\"World\"))) %>%  \n",
    "dplyr::select(location, iso_code, date, new_cases, total_cases)\n",
    "\n",
    "df_inci %>% arrange(date) %>% group_by(iso_code) %>% filter(rank(date)==1) %>% \n",
    "dplyr::select(iso_code, date) %>% rename(date_import = date) -> temp\n",
    "merge(df_inci, temp, by=c(\"iso_code\"), all.x=TRUE) -> df_inci\n",
    "\n",
    "write.csv(df_inci, \"../data/incidence/df_inci.csv\")\n",
    "df_inci %>% head()"
   ]
  },
  {
   "cell_type": "code",
   "execution_count": 20,
   "metadata": {},
   "outputs": [],
   "source": [
    "df_inci %>% dplyr::select(iso_code, location) %>% distinct() -> country_list\n",
    "write.csv(country_list, \"../data/incidence/country_list.csv\")"
   ]
  },
  {
   "cell_type": "code",
   "execution_count": null,
   "metadata": {},
   "outputs": [],
   "source": []
  }
 ],
 "metadata": {
  "kernelspec": {
   "display_name": "R",
   "language": "R",
   "name": "ir"
  },
  "language_info": {
   "codemirror_mode": "r",
   "file_extension": ".r",
   "mimetype": "text/x-r-source",
   "name": "R",
   "pygments_lexer": "r",
   "version": "4.1.3"
  }
 },
 "nbformat": 4,
 "nbformat_minor": 4
}
