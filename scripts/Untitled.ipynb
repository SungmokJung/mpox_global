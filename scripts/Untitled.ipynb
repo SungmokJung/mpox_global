{
 "cells": [
  {
   "cell_type": "code",
   "execution_count": 1,
   "metadata": {},
   "outputs": [
    {
     "name": "stderr",
     "output_type": "stream",
     "text": [
      "── \u001b[1mAttaching packages\u001b[22m ─────────────────────────────────────── tidyverse 1.3.1 ──\n",
      "\n",
      "\u001b[32m✔\u001b[39m \u001b[34mggplot2\u001b[39m 3.3.6     \u001b[32m✔\u001b[39m \u001b[34mpurrr  \u001b[39m 0.3.4\n",
      "\u001b[32m✔\u001b[39m \u001b[34mtibble \u001b[39m 3.1.8     \u001b[32m✔\u001b[39m \u001b[34mstringr\u001b[39m 1.4.1\n",
      "\u001b[32m✔\u001b[39m \u001b[34mtidyr  \u001b[39m 1.2.0     \u001b[32m✔\u001b[39m \u001b[34mforcats\u001b[39m 0.5.1\n",
      "\u001b[32m✔\u001b[39m \u001b[34mreadr  \u001b[39m 2.1.2     \n",
      "\n",
      "── \u001b[1mConflicts\u001b[22m ────────────────────────────────────────── tidyverse_conflicts() ──\n",
      "\u001b[31m✖\u001b[39m \u001b[34mdplyr\u001b[39m::\u001b[32mfilter()\u001b[39m masks \u001b[34mstats\u001b[39m::filter()\n",
      "\u001b[31m✖\u001b[39m \u001b[34mdplyr\u001b[39m::\u001b[32mlag()\u001b[39m    masks \u001b[34mstats\u001b[39m::lag()\n",
      "\n"
     ]
    }
   ],
   "source": [
    "libraries = c(\"dplyr\", \"tidyverse\")\n",
    "for(x in libraries) { library(x,character.only=TRUE,warn.conflicts=FALSE,quietly=TRUE) }"
   ]
  },
  {
   "cell_type": "code",
   "execution_count": 2,
   "metadata": {},
   "outputs": [],
   "source": [
    "library(dplyr)\n",
    "\n",
    "read.csv(\"../data/incidence/owid-monkeypox-data.csv\") -> df_inci\n",
    "df_inci %<>% filter(!(location %in% c(\"World\"))) %>%  \n",
    "dplyr::select(location, iso_code, date, new_cases, total_cases)\n",
    "\n",
    "df_inci %>% arrange(date) %>% group_by(iso_code) %>% filter(rank(date)==1) %>% \n",
    "dplyr::select(iso_code, date) %>% rename(date_import = date) -> temp\n",
    "merge(df_inci, temp, by=c(\"iso_code\"), all.x=TRUE) -> df_inci\n",
    "\n",
    "write.csv(df_inci, \"../data/incidence/df_inci.csv\")"
   ]
  },
  {
   "cell_type": "code",
   "execution_count": 3,
   "metadata": {},
   "outputs": [
    {
     "data": {
      "text/html": [
       "<table class=\"dataframe\">\n",
       "<caption>A data.frame: 6 × 10</caption>\n",
       "<thead>\n",
       "\t<tr><th></th><th scope=col>sub_region</th><th scope=col>location</th><th scope=col>iso_code</th><th scope=col>estimate</th><th scope=col>MSM_size</th><th scope=col>region</th><th scope=col>pop2022</th><th scope=col>prop</th><th scope=col>imputed</th><th scope=col>prop_avg</th></tr>\n",
       "\t<tr><th></th><th scope=col>&lt;chr&gt;</th><th scope=col>&lt;chr&gt;</th><th scope=col>&lt;chr&gt;</th><th scope=col>&lt;dbl&gt;</th><th scope=col>&lt;dbl&gt;</th><th scope=col>&lt;chr&gt;</th><th scope=col>&lt;dbl&gt;</th><th scope=col>&lt;dbl&gt;</th><th scope=col>&lt;dbl&gt;</th><th scope=col>&lt;dbl&gt;</th></tr>\n",
       "</thead>\n",
       "<tbody>\n",
       "\t<tr><th scope=row>1</th><td>Australia and New Zealand</td><td>New Zealand </td><td>NZL</td><td> 37.5</td><td> 84.52019</td><td>Oceania</td><td> 5185.288</td><td>0.007231999</td><td> 37.5000</td><td>0.008648965</td></tr>\n",
       "\t<tr><th scope=row>2</th><td>Australia and New Zealand</td><td>Australia   </td><td>AUS</td><td>263.5</td><td>426.69183</td><td>Oceania</td><td>26177.413</td><td>0.010065930</td><td>263.5000</td><td>0.008648965</td></tr>\n",
       "\t<tr><th scope=row>3</th><td>Central Asia             </td><td>Turkmenistan</td><td>TKM</td><td>   NA</td><td>135.68925</td><td>Asia   </td><td> 6430.770</td><td>0.021100000</td><td>135.6892</td><td>0.009858269</td></tr>\n",
       "\t<tr><th scope=row>4</th><td>Central Asia             </td><td>Tajikistan  </td><td>TJK</td><td> 13.4</td><td>210.00381</td><td>Asia   </td><td> 9952.787</td><td>0.001346357</td><td> 13.4000</td><td>0.009858269</td></tr>\n",
       "\t<tr><th scope=row>5</th><td>Central Asia             </td><td>Uzbekistan  </td><td>UZB</td><td>   NA</td><td>730.64346</td><td>Asia   </td><td>34627.652</td><td>0.021100000</td><td>730.6435</td><td>0.009858269</td></tr>\n",
       "\t<tr><th scope=row>6</th><td>Central Asia             </td><td>Kazakhstan  </td><td>KAZ</td><td> 62.0</td><td>409.29776</td><td>Asia   </td><td>19397.998</td><td>0.003196206</td><td> 62.0000</td><td>0.009858269</td></tr>\n",
       "</tbody>\n",
       "</table>\n"
      ],
      "text/latex": [
       "A data.frame: 6 × 10\n",
       "\\begin{tabular}{r|llllllllll}\n",
       "  & sub\\_region & location & iso\\_code & estimate & MSM\\_size & region & pop2022 & prop & imputed & prop\\_avg\\\\\n",
       "  & <chr> & <chr> & <chr> & <dbl> & <dbl> & <chr> & <dbl> & <dbl> & <dbl> & <dbl>\\\\\n",
       "\\hline\n",
       "\t1 & Australia and New Zealand & New Zealand  & NZL &  37.5 &  84.52019 & Oceania &  5185.288 & 0.007231999 &  37.5000 & 0.008648965\\\\\n",
       "\t2 & Australia and New Zealand & Australia    & AUS & 263.5 & 426.69183 & Oceania & 26177.413 & 0.010065930 & 263.5000 & 0.008648965\\\\\n",
       "\t3 & Central Asia              & Turkmenistan & TKM &    NA & 135.68925 & Asia    &  6430.770 & 0.021100000 & 135.6892 & 0.009858269\\\\\n",
       "\t4 & Central Asia              & Tajikistan   & TJK &  13.4 & 210.00381 & Asia    &  9952.787 & 0.001346357 &  13.4000 & 0.009858269\\\\\n",
       "\t5 & Central Asia              & Uzbekistan   & UZB &    NA & 730.64346 & Asia    & 34627.652 & 0.021100000 & 730.6435 & 0.009858269\\\\\n",
       "\t6 & Central Asia              & Kazakhstan   & KAZ &  62.0 & 409.29776 & Asia    & 19397.998 & 0.003196206 &  62.0000 & 0.009858269\\\\\n",
       "\\end{tabular}\n"
      ],
      "text/markdown": [
       "\n",
       "A data.frame: 6 × 10\n",
       "\n",
       "| <!--/--> | sub_region &lt;chr&gt; | location &lt;chr&gt; | iso_code &lt;chr&gt; | estimate &lt;dbl&gt; | MSM_size &lt;dbl&gt; | region &lt;chr&gt; | pop2022 &lt;dbl&gt; | prop &lt;dbl&gt; | imputed &lt;dbl&gt; | prop_avg &lt;dbl&gt; |\n",
       "|---|---|---|---|---|---|---|---|---|---|---|\n",
       "| 1 | Australia and New Zealand | New Zealand  | NZL |  37.5 |  84.52019 | Oceania |  5185.288 | 0.007231999 |  37.5000 | 0.008648965 |\n",
       "| 2 | Australia and New Zealand | Australia    | AUS | 263.5 | 426.69183 | Oceania | 26177.413 | 0.010065930 | 263.5000 | 0.008648965 |\n",
       "| 3 | Central Asia              | Turkmenistan | TKM |    NA | 135.68925 | Asia    |  6430.770 | 0.021100000 | 135.6892 | 0.009858269 |\n",
       "| 4 | Central Asia              | Tajikistan   | TJK |  13.4 | 210.00381 | Asia    |  9952.787 | 0.001346357 |  13.4000 | 0.009858269 |\n",
       "| 5 | Central Asia              | Uzbekistan   | UZB |    NA | 730.64346 | Asia    | 34627.652 | 0.021100000 | 730.6435 | 0.009858269 |\n",
       "| 6 | Central Asia              | Kazakhstan   | KAZ |  62.0 | 409.29776 | Asia    | 19397.998 | 0.003196206 |  62.0000 | 0.009858269 |\n",
       "\n"
      ],
      "text/plain": [
       "  sub_region                location     iso_code estimate MSM_size  region \n",
       "1 Australia and New Zealand New Zealand  NZL       37.5     84.52019 Oceania\n",
       "2 Australia and New Zealand Australia    AUS      263.5    426.69183 Oceania\n",
       "3 Central Asia              Turkmenistan TKM         NA    135.68925 Asia   \n",
       "4 Central Asia              Tajikistan   TJK       13.4    210.00381 Asia   \n",
       "5 Central Asia              Uzbekistan   UZB         NA    730.64346 Asia   \n",
       "6 Central Asia              Kazakhstan   KAZ       62.0    409.29776 Asia   \n",
       "  pop2022   prop        imputed  prop_avg   \n",
       "1  5185.288 0.007231999  37.5000 0.008648965\n",
       "2 26177.413 0.010065930 263.5000 0.008648965\n",
       "3  6430.770 0.021100000 135.6892 0.009858269\n",
       "4  9952.787 0.001346357  13.4000 0.009858269\n",
       "5 34627.652 0.021100000 730.6435 0.009858269\n",
       "6 19397.998 0.003196206  62.0000 0.009858269"
      ]
     },
     "metadata": {},
     "output_type": "display_data"
    }
   ],
   "source": [
    "read.csv(\"../data/MSM_pop/df_MSM_UNAIDS.csv\") -> df_MSM1\n",
    "read.csv(\"../data/MSM_pop/df_full_list_MSMsize_Fumi.csv\") -> df_MSM2\n",
    "\n",
    "## revising the pop2022 column from df_MSM2\n",
    "read.csv(\"../data/MSM_pop/df_pop_raw.csv\") %>% dplyr::select(cca2, pop2022) %>% rename(iso_2=cca2) -> df_pop1\n",
    "read.csv(\"../data/MSM_pop/df_region.csv\") %>% dplyr::select(alpha.2,alpha.3, name) %>%\n",
    "rename(iso_2=alpha.2, iso_code=alpha.3, location=name) -> df_pop2\n",
    "merge(df_pop1, df_pop2, by=c(\"iso_2\")) -> df_pop\n",
    "merge(df_MSM2 %>% dplyr::select(-pop2022), \n",
    "      df_pop %>% dplyr::select(iso_code, pop2022), by=c(\"iso_code\"), all.x=TRUE) -> df_MSM2\n",
    "\n",
    "## giving a priority to UNAIDS dashboard\n",
    "merge(df_MSM1, df_MSM2, by=c(\"location\"),all=TRUE) %>% \n",
    "dplyr::select(location, iso_code, estimate, MSM_size, region, sub_region, pop2022) %>%\n",
    "mutate(prop=estimate/pop2022) %>%\n",
    "mutate(imputed=case_when(!is.na(estimate) ~ estimate, is.na(estimate) & !is.na(MSM_size) ~ MSM_size), \n",
    "       prop=imputed/pop2022) -> temp\n",
    "\n",
    "## imputation of missing values\n",
    "temp %>% group_by(sub_region) %>% drop_na(imputed) %>% summarise(prop_avg = mean(prop)) -> prop_avg\n",
    "merge(temp, prop_avg, by=c(\"sub_region\"), all.x=TRUE) %>% drop_na(pop2022) %>%\n",
    "mutate(prop=case_when(!is.na(prop)~prop, is.na(prop)~prop_avg),\n",
    "       imputed=case_when(!is.na(imputed)~imputed, is.na(imputed)~prop*pop2022)) -> df_MSM_imputed\n",
    "\n",
    "df_MSM_imputed %>% head()\n",
    "write.csv(df_MSM_imputed, \"../data/MSM_pop/df_MSM_imputed.csv\")"
   ]
  },
  {
   "cell_type": "code",
   "execution_count": 4,
   "metadata": {},
   "outputs": [
    {
     "data": {
      "text/html": [
       "<table class=\"dataframe\">\n",
       "<caption>A data.frame: 6 × 9</caption>\n",
       "<thead>\n",
       "\t<tr><th></th><th scope=col>iso_code</th><th scope=col>location</th><th scope=col>date</th><th scope=col>new_cases</th><th scope=col>total_cases</th><th scope=col>date_import</th><th scope=col>imputed</th><th scope=col>pop2022</th><th scope=col>prop_avg</th></tr>\n",
       "\t<tr><th></th><th scope=col>&lt;chr&gt;</th><th scope=col>&lt;chr&gt;</th><th scope=col>&lt;chr&gt;</th><th scope=col>&lt;int&gt;</th><th scope=col>&lt;int&gt;</th><th scope=col>&lt;chr&gt;</th><th scope=col>&lt;dbl&gt;</th><th scope=col>&lt;dbl&gt;</th><th scope=col>&lt;dbl&gt;</th></tr>\n",
       "</thead>\n",
       "<tbody>\n",
       "\t<tr><th scope=row>1</th><td>ABW</td><td>Aruba</td><td>2022/08/26</td><td>0</td><td>1</td><td>2022/08/21</td><td>3.587197</td><td>106.445</td><td>0.0158484</td></tr>\n",
       "\t<tr><th scope=row>2</th><td>ABW</td><td>Aruba</td><td>2022/09/04</td><td>0</td><td>2</td><td>2022/08/21</td><td>3.587197</td><td>106.445</td><td>0.0158484</td></tr>\n",
       "\t<tr><th scope=row>3</th><td>ABW</td><td>Aruba</td><td>2022/08/27</td><td>0</td><td>1</td><td>2022/08/21</td><td>3.587197</td><td>106.445</td><td>0.0158484</td></tr>\n",
       "\t<tr><th scope=row>4</th><td>ABW</td><td>Aruba</td><td>2022/09/08</td><td>0</td><td>2</td><td>2022/08/21</td><td>3.587197</td><td>106.445</td><td>0.0158484</td></tr>\n",
       "\t<tr><th scope=row>5</th><td>ABW</td><td>Aruba</td><td>2022/09/05</td><td>0</td><td>2</td><td>2022/08/21</td><td>3.587197</td><td>106.445</td><td>0.0158484</td></tr>\n",
       "\t<tr><th scope=row>6</th><td>ABW</td><td>Aruba</td><td>2022/08/23</td><td>0</td><td>0</td><td>2022/08/21</td><td>3.587197</td><td>106.445</td><td>0.0158484</td></tr>\n",
       "</tbody>\n",
       "</table>\n"
      ],
      "text/latex": [
       "A data.frame: 6 × 9\n",
       "\\begin{tabular}{r|lllllllll}\n",
       "  & iso\\_code & location & date & new\\_cases & total\\_cases & date\\_import & imputed & pop2022 & prop\\_avg\\\\\n",
       "  & <chr> & <chr> & <chr> & <int> & <int> & <chr> & <dbl> & <dbl> & <dbl>\\\\\n",
       "\\hline\n",
       "\t1 & ABW & Aruba & 2022/08/26 & 0 & 1 & 2022/08/21 & 3.587197 & 106.445 & 0.0158484\\\\\n",
       "\t2 & ABW & Aruba & 2022/09/04 & 0 & 2 & 2022/08/21 & 3.587197 & 106.445 & 0.0158484\\\\\n",
       "\t3 & ABW & Aruba & 2022/08/27 & 0 & 1 & 2022/08/21 & 3.587197 & 106.445 & 0.0158484\\\\\n",
       "\t4 & ABW & Aruba & 2022/09/08 & 0 & 2 & 2022/08/21 & 3.587197 & 106.445 & 0.0158484\\\\\n",
       "\t5 & ABW & Aruba & 2022/09/05 & 0 & 2 & 2022/08/21 & 3.587197 & 106.445 & 0.0158484\\\\\n",
       "\t6 & ABW & Aruba & 2022/08/23 & 0 & 0 & 2022/08/21 & 3.587197 & 106.445 & 0.0158484\\\\\n",
       "\\end{tabular}\n"
      ],
      "text/markdown": [
       "\n",
       "A data.frame: 6 × 9\n",
       "\n",
       "| <!--/--> | iso_code &lt;chr&gt; | location &lt;chr&gt; | date &lt;chr&gt; | new_cases &lt;int&gt; | total_cases &lt;int&gt; | date_import &lt;chr&gt; | imputed &lt;dbl&gt; | pop2022 &lt;dbl&gt; | prop_avg &lt;dbl&gt; |\n",
       "|---|---|---|---|---|---|---|---|---|---|\n",
       "| 1 | ABW | Aruba | 2022/08/26 | 0 | 1 | 2022/08/21 | 3.587197 | 106.445 | 0.0158484 |\n",
       "| 2 | ABW | Aruba | 2022/09/04 | 0 | 2 | 2022/08/21 | 3.587197 | 106.445 | 0.0158484 |\n",
       "| 3 | ABW | Aruba | 2022/08/27 | 0 | 1 | 2022/08/21 | 3.587197 | 106.445 | 0.0158484 |\n",
       "| 4 | ABW | Aruba | 2022/09/08 | 0 | 2 | 2022/08/21 | 3.587197 | 106.445 | 0.0158484 |\n",
       "| 5 | ABW | Aruba | 2022/09/05 | 0 | 2 | 2022/08/21 | 3.587197 | 106.445 | 0.0158484 |\n",
       "| 6 | ABW | Aruba | 2022/08/23 | 0 | 0 | 2022/08/21 | 3.587197 | 106.445 | 0.0158484 |\n",
       "\n"
      ],
      "text/plain": [
       "  iso_code location date       new_cases total_cases date_import imputed \n",
       "1 ABW      Aruba    2022/08/26 0         1           2022/08/21  3.587197\n",
       "2 ABW      Aruba    2022/09/04 0         2           2022/08/21  3.587197\n",
       "3 ABW      Aruba    2022/08/27 0         1           2022/08/21  3.587197\n",
       "4 ABW      Aruba    2022/09/08 0         2           2022/08/21  3.587197\n",
       "5 ABW      Aruba    2022/09/05 0         2           2022/08/21  3.587197\n",
       "6 ABW      Aruba    2022/08/23 0         0           2022/08/21  3.587197\n",
       "  pop2022 prop_avg \n",
       "1 106.445 0.0158484\n",
       "2 106.445 0.0158484\n",
       "3 106.445 0.0158484\n",
       "4 106.445 0.0158484\n",
       "5 106.445 0.0158484\n",
       "6 106.445 0.0158484"
      ]
     },
     "metadata": {},
     "output_type": "display_data"
    }
   ],
   "source": [
    "merge(df_inci, df_MSM_imputed %>% dplyr::select(iso_code, imputed, pop2022, prop_avg), \n",
    "      by=c(\"iso_code\"), all.x=TRUE) -> df_all_inci\n",
    "\n",
    "df_all_inci %>% head()"
   ]
  },
  {
   "cell_type": "code",
   "execution_count": null,
   "metadata": {},
   "outputs": [],
   "source": []
  }
 ],
 "metadata": {
  "kernelspec": {
   "display_name": "R",
   "language": "R",
   "name": "ir"
  },
  "language_info": {
   "codemirror_mode": "r",
   "file_extension": ".r",
   "mimetype": "text/x-r-source",
   "name": "R",
   "pygments_lexer": "r",
   "version": "4.1.3"
  }
 },
 "nbformat": 4,
 "nbformat_minor": 4
}
