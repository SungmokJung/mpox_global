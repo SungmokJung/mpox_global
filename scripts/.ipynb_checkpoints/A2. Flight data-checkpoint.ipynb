{
 "cells": [
  {
   "cell_type": "code",
   "execution_count": 1,
   "metadata": {},
   "outputs": [
    {
     "name": "stderr",
     "output_type": "stream",
     "text": [
      "── \u001b[1mAttaching packages\u001b[22m ─────────────────────────────────────────── tidyverse 1.3.2 ──\n",
      "\u001b[32m✔\u001b[39m \u001b[34mggplot2\u001b[39m 3.4.0     \u001b[32m✔\u001b[39m \u001b[34mpurrr  \u001b[39m 0.3.5\n",
      "\u001b[32m✔\u001b[39m \u001b[34mtibble \u001b[39m 3.1.8     \u001b[32m✔\u001b[39m \u001b[34mstringr\u001b[39m 1.4.1\n",
      "\u001b[32m✔\u001b[39m \u001b[34mtidyr  \u001b[39m 1.2.1     \u001b[32m✔\u001b[39m \u001b[34mforcats\u001b[39m 0.5.2\n",
      "\u001b[32m✔\u001b[39m \u001b[34mreadr  \u001b[39m 2.1.3     \n",
      "── \u001b[1mConflicts\u001b[22m ────────────────────────────────────────────── tidyverse_conflicts() ──\n",
      "\u001b[31m✖\u001b[39m \u001b[34mdplyr\u001b[39m::\u001b[32mfilter()\u001b[39m masks \u001b[34mstats\u001b[39m::filter()\n",
      "\u001b[31m✖\u001b[39m \u001b[34mdplyr\u001b[39m::\u001b[32mlag()\u001b[39m    masks \u001b[34mstats\u001b[39m::lag()\n"
     ]
    }
   ],
   "source": [
    "libraries = c(\"dplyr\", \"tidyverse\", \"data.table\", \"readxl\")\n",
    "for(x in libraries) {library(x,character.only=TRUE,warn.conflicts=FALSE,quietly=TRUE)}\n",
    "\n",
    "theme_set(theme_bw())"
   ]
  },
  {
   "cell_type": "code",
   "execution_count": 2,
   "metadata": {},
   "outputs": [],
   "source": [
    "path <- \"../data/flight/all_region/\"\n",
    "\n",
    "options(warn=-1)\n",
    "list.files(path = path, pattern = \"*xlsx\") -> file_list\n",
    "read_xlsx_files <- function(x){\n",
    "    df <- suppressMessages(read_xlsx(path = paste0(path, x), skip = 5))\n",
    "    df[-1, c(1,2,27)] -> df_2019\n",
    "    colnames(df_2019) <- c(\"destination\", \"series\", \"v2019\")\n",
    "    return(df_2019)}\n",
    "lapply(file_list, read_xlsx_files) -> df_list\n",
    "\n",
    "for(i in 1:length(df_list)){\n",
    "    colnames(df_list[[i]]) <- c(\"destination\", \"series\", substr(file_list[i],1,nchar(file_list[i])-5))\n",
    "}\n",
    "\n",
    "options(warn=0)"
   ]
  },
  {
   "cell_type": "code",
   "execution_count": 3,
   "metadata": {},
   "outputs": [],
   "source": [
    "merge.all <- function(x, y) {merge(x, y, all=TRUE, by=c(\"destination\", \"series\"))}\n",
    "output <- Reduce(merge.all, df_list)\n",
    "\n",
    "output %>% filter(!is.na(destination)) -> output"
   ]
  },
  {
   "cell_type": "code",
   "execution_count": 4,
   "metadata": {},
   "outputs": [],
   "source": [
    "output %>% filter(destination %in% c(\"Czechia\", \"Czech Republic\")) -> temp\n",
    "unique(temp$series) -> series_list\n",
    "Czech_list <- list()\n",
    "for(i in 1:length(series_list)){\n",
    "    temp %>% filter(series==series_list[i]) -> temp; temp[is.na(temp)] <- 0\n",
    "    temp %>% dplyr::select(-c(\"destination\", \"series\")) -> temp_col\n",
    "    as.data.frame(colSums(temp_col))%>% t() %>% as.data.frame() %>%\n",
    "    mutate(destination=c(\"Czech Republic\"), series=series_list[i]) -> temp_all; rownames(temp_all) <- NULL\n",
    "    temp_all -> Czech_list[[i]]\n",
    "}\n",
    "\n",
    "do.call(rbind, Czech_list) -> Czech_output"
   ]
  },
  {
   "cell_type": "code",
   "execution_count": 5,
   "metadata": {},
   "outputs": [],
   "source": [
    "output %>% filter(destination %in% c(\"Türkiye\", \"Turkey\")) -> temp\n",
    "unique(temp$series) -> series_list\n",
    "Turkey_list <- list()\n",
    "for(i in 1:length(series_list)){\n",
    "    temp %>% filter(series==series_list[i]) -> temp; temp[is.na(temp)] <- 0\n",
    "    temp %>% dplyr::select(-c(\"destination\", \"series\")) -> temp_col\n",
    "    as.data.frame(colSums(temp_col))%>% t() %>% as.data.frame() %>%\n",
    "    mutate(destination=c(\"Turkey\"), series=series_list[i]) -> temp_all; rownames(temp_all) <- NULL\n",
    "    temp_all -> Turkey_list[[i]]\n",
    "}\n",
    "\n",
    "do.call(rbind, Turkey_list) -> Turkey_output"
   ]
  },
  {
   "cell_type": "code",
   "execution_count": 6,
   "metadata": {},
   "outputs": [],
   "source": [
    "output %>% filter(!(destination %in% c(\"END\", \"Türkiye\", \"Turkey\", \"Czechia\", \"Czech Republic\"))) %>%\n",
    "mutate(destination=case_when(destination==c(\"Curaçao\")~c(\"Curacao\"), \n",
    "                             destination==c(\"Côte d\\'Ivoire\")~c(\"Cote d'Ivoire\"), \n",
    "                             destination==c(\"Taiwan Province of China\")~c(\"Taiwan, Province of China\"), \n",
    "                             destination==c(\"Saint Vincent and the Grenadines\")~c(\"Saint Vincent and The Grenadines\"),\n",
    "                             destination==c(\"Palestine\")~c(\"Palestine, State of\"),\n",
    "                             TRUE~destination)) -> output\n",
    "\n",
    "rbind(output, Turkey_output, Czech_output) -> output"
   ]
  },
  {
   "cell_type": "code",
   "execution_count": 7,
   "metadata": {},
   "outputs": [],
   "source": [
    "## coverting NAs to zero in the flight data\n",
    "output[is.na(output)] <- 0\n",
    "output %>% mutate(total_vol = rowSums(output[,3:ncol(output)])) %>% \n",
    "filter(total_vol > 0) %>% dplyr::select(-total_vol) -> output"
   ]
  },
  {
   "cell_type": "code",
   "execution_count": 8,
   "metadata": {},
   "outputs": [],
   "source": [
    "## selecting the biggest value throughout the series\n",
    "colMax <- function(data) sapply(data, max, na.rm = TRUE)\n",
    "\n",
    "new_list <- list()\n",
    "unique(output$destination) -> country_list\n",
    "\n",
    "\n",
    "for (g in 1:length(country_list)){\n",
    "    output %>% filter(destination==country_list[g]) -> temp\n",
    "    as.data.frame(t(colMax(temp)))-> new_list[[g]]\n",
    "}\n",
    "\n",
    "            \n",
    "do.call(\"rbind\", new_list) -> flight_matrix\n",
    "write.csv(flight_matrix, \"../data/flight/flight_matrix.csv\")     "
   ]
  },
  {
   "cell_type": "code",
   "execution_count": 16,
   "metadata": {},
   "outputs": [
    {
     "data": {
      "text/html": [
       "<table class=\"dataframe\">\n",
       "<caption>A data.frame: 1 × 3</caption>\n",
       "<thead>\n",
       "\t<tr><th scope=col>destination</th><th scope=col>series</th><th scope=col>Israel</th></tr>\n",
       "\t<tr><th scope=col>&lt;chr&gt;</th><th scope=col>&lt;chr&gt;</th><th scope=col>&lt;dbl&gt;</th></tr>\n",
       "</thead>\n",
       "<tbody>\n",
       "\t<tr><td>Palestine, State of</td><td>THSN</td><td>85090</td></tr>\n",
       "</tbody>\n",
       "</table>\n"
      ],
      "text/latex": [
       "A data.frame: 1 × 3\n",
       "\\begin{tabular}{lll}\n",
       " destination & series & Israel\\\\\n",
       " <chr> & <chr> & <dbl>\\\\\n",
       "\\hline\n",
       "\t Palestine, State of & THSN & 85090\\\\\n",
       "\\end{tabular}\n"
      ],
      "text/markdown": [
       "\n",
       "A data.frame: 1 × 3\n",
       "\n",
       "| destination &lt;chr&gt; | series &lt;chr&gt; | Israel &lt;dbl&gt; |\n",
       "|---|---|---|\n",
       "| Palestine, State of | THSN | 85090 |\n",
       "\n"
      ],
      "text/plain": [
       "  destination         series Israel\n",
       "1 Palestine, State of THSN   85090 "
      ]
     },
     "metadata": {},
     "output_type": "display_data"
    }
   ],
   "source": [
    "flight_matrix %>% filter(destination==(\"Palestine, State of\")) -> temp\n",
    "temp[, 3:215] <- sapply(temp[, 3:215], as.numeric)\n",
    "temp %>% dplyr::select_if(~ !is.numeric(.) || sum(.) != 0)"
   ]
  },
  {
   "cell_type": "code",
   "execution_count": 10,
   "metadata": {},
   "outputs": [],
   "source": [
    "# ## selecting the series of data with prioritization\n",
    "# new_list <- list()\n",
    "# unique(output$destination) -> country_list\n",
    "\n",
    "# for (g in 1:length(country_list)){\n",
    "#     output %>% filter(destination==country_list[g]) -> temp\n",
    "#     if(nrow(temp)>=2){\n",
    "#         if(any(temp$series==c(\"VFR\"))){temp %>% filter(series==c(\"VFR\")) -> new_list[[g]]}\n",
    "#         else if(any(temp$series==c(\"VFN\")) && !(temp$series %in% c(\"VFR\")))\n",
    "#         {temp %>% filter(series==c(\"VFN\")) -> new_list[[g]]}\n",
    "#         else if(any(temp$series==c(\"TFR\")) && !(temp$series %in% c(\"VFR\", \"VFN\")))\n",
    "#         {temp %>% filter(series==c(\"TFR\")) -> new_list[[g]]}\n",
    "#         else if(any(temp$series==c(\"TFN\")) && !(temp$series %in% c(\"VFR\", \"VFR\", \"TFR\")))\n",
    "#         {temp %>% filter(series==c(\"TFN\")) -> new_list[[g]]}\n",
    "#         else if(any(temp$series==c(\"TCER\")) && !(temp$series %in% c(\"VFR\", \"VFR\", \"TFR\", \"TFN\")))\n",
    "#         {temp %>% filter(series==c(\"TCER\")) -> new_list[[g]]}\n",
    "#         else if(any(temp$series==c(\"TCEN\")) && !(temp$series %in% c(\"VFR\", \"VFR\", \"TFR\", \"TFN\", \"TCER\")))\n",
    "#         {temp %>% filter(series==c(\"TCEN\")) -> new_list[[g]]}\n",
    "#         else if(any(temp$series==c(\"THSR\")) && !(temp$series %in% c(\"VFR\", \"VFR\", \"TFR\", \"TFN\", \"TCER\", \"TCEN\")))\n",
    "#         {temp %>% filter(series==c(\"THSR\")) -> new_list[[g]]}\n",
    "#         else if(any(temp$series==c(\"THSN\")) && !(temp$series %in% c(\"VFR\", \"VFR\", \"TFR\", \"TFN\", \"TCER\", \"TCEN\", \"THSR\")))\n",
    "#         {temp %>% filter(series==c(\"THSN\")) -> new_list[[g]]}\n",
    "#     }\n",
    "#     else{temp -> new_list[[g]]}\n",
    "# }\n",
    "            \n",
    "# do.call(\"rbind\", new_list) -> flight_matrix\n",
    "# # flight_matrix %>% \n",
    "# write.csv(flight_matrix, \"../data/flight/flight_matrix.csv\")     "
   ]
  },
  {
   "cell_type": "code",
   "execution_count": 11,
   "metadata": {},
   "outputs": [
    {
     "data": {
      "text/html": [
       "<style>\n",
       ".list-inline {list-style: none; margin:0; padding: 0}\n",
       ".list-inline>li {display: inline-block}\n",
       ".list-inline>li:not(:last-child)::after {content: \"\\00b7\"; padding: 0 .5ex}\n",
       "</style>\n",
       "<ol class=list-inline><li>'Cabo Verde'</li><li>'Eswatini'</li><li>'Reunion'</li><li>'Sint Maarten (Dutch part)'</li><li>'Taiwan, Province of China'</li><li>'Tanzania, United Republic of'</li></ol>\n"
      ],
      "text/latex": [
       "\\begin{enumerate*}\n",
       "\\item 'Cabo Verde'\n",
       "\\item 'Eswatini'\n",
       "\\item 'Reunion'\n",
       "\\item 'Sint Maarten (Dutch part)'\n",
       "\\item 'Taiwan, Province of China'\n",
       "\\item 'Tanzania, United Republic of'\n",
       "\\end{enumerate*}\n"
      ],
      "text/markdown": [
       "1. 'Cabo Verde'\n",
       "2. 'Eswatini'\n",
       "3. 'Reunion'\n",
       "4. 'Sint Maarten (Dutch part)'\n",
       "5. 'Taiwan, Province of China'\n",
       "6. 'Tanzania, United Republic of'\n",
       "\n",
       "\n"
      ],
      "text/plain": [
       "[1] \"Cabo Verde\"                   \"Eswatini\"                    \n",
       "[3] \"Reunion\"                      \"Sint Maarten (Dutch part)\"   \n",
       "[5] \"Taiwan, Province of China\"    \"Tanzania, United Republic of\""
      ]
     },
     "metadata": {},
     "output_type": "display_data"
    },
    {
     "data": {
      "text/html": [
       "<style>\n",
       ".list-inline {list-style: none; margin:0; padding: 0}\n",
       ".list-inline>li {display: inline-block}\n",
       ".list-inline>li:not(:last-child)::after {content: \"\\00b7\"; padding: 0 .5ex}\n",
       "</style>\n",
       "<ol class=list-inline><li>'Afghanistan'</li><li>'American Samoa'</li><li>'Botswana'</li><li>'British Virgin Islands'</li><li>'Burundi'</li><li>'Cape Verde'</li><li>'Chad'</li><li>'Congo, Democratic Republic of the'</li><li>'Congo'</li><li>'Djibouti'</li><li>'Equatorial Guinea'</li><li>'Eritrea'</li><li>'Gabon'</li><li>'Ghana'</li><li>'Guadeloupe'</li><li>'Guinea-Bissau'</li><li>'Guinea'</li><li>'Iraq'</li><li>'Korea, Democratic Peoples Republic of'</li><li>'Liberia'</li><li>'Libyan Arab Jamahiriya'</li><li>'Malawi'</li><li>'Marshall Islands'</li><li>'Mauritania'</li><li>'Micronesia (Federated States Of)'</li><li>'Nauru'</li><li>'Nigeria'</li><li>'Niue'</li><li>'Pakistan'</li><li>'Sao Tome and Principe'</li><li>'Senegal'</li><li>'Somalia'</li><li>'Sudan'</li><li>'Suriname'</li><li>'Swaziland'</li><li>'Turkmenistan'</li><li>'Uganda'</li><li>'Venezuela, Bolivarian Republic of'</li><li>'Yemen'</li></ol>\n"
      ],
      "text/latex": [
       "\\begin{enumerate*}\n",
       "\\item 'Afghanistan'\n",
       "\\item 'American Samoa'\n",
       "\\item 'Botswana'\n",
       "\\item 'British Virgin Islands'\n",
       "\\item 'Burundi'\n",
       "\\item 'Cape Verde'\n",
       "\\item 'Chad'\n",
       "\\item 'Congo, Democratic Republic of the'\n",
       "\\item 'Congo'\n",
       "\\item 'Djibouti'\n",
       "\\item 'Equatorial Guinea'\n",
       "\\item 'Eritrea'\n",
       "\\item 'Gabon'\n",
       "\\item 'Ghana'\n",
       "\\item 'Guadeloupe'\n",
       "\\item 'Guinea-Bissau'\n",
       "\\item 'Guinea'\n",
       "\\item 'Iraq'\n",
       "\\item 'Korea, Democratic Peoples Republic of'\n",
       "\\item 'Liberia'\n",
       "\\item 'Libyan Arab Jamahiriya'\n",
       "\\item 'Malawi'\n",
       "\\item 'Marshall Islands'\n",
       "\\item 'Mauritania'\n",
       "\\item 'Micronesia (Federated States Of)'\n",
       "\\item 'Nauru'\n",
       "\\item 'Nigeria'\n",
       "\\item 'Niue'\n",
       "\\item 'Pakistan'\n",
       "\\item 'Sao Tome and Principe'\n",
       "\\item 'Senegal'\n",
       "\\item 'Somalia'\n",
       "\\item 'Sudan'\n",
       "\\item 'Suriname'\n",
       "\\item 'Swaziland'\n",
       "\\item 'Turkmenistan'\n",
       "\\item 'Uganda'\n",
       "\\item 'Venezuela, Bolivarian Republic of'\n",
       "\\item 'Yemen'\n",
       "\\end{enumerate*}\n"
      ],
      "text/markdown": [
       "1. 'Afghanistan'\n",
       "2. 'American Samoa'\n",
       "3. 'Botswana'\n",
       "4. 'British Virgin Islands'\n",
       "5. 'Burundi'\n",
       "6. 'Cape Verde'\n",
       "7. 'Chad'\n",
       "8. 'Congo, Democratic Republic of the'\n",
       "9. 'Congo'\n",
       "10. 'Djibouti'\n",
       "11. 'Equatorial Guinea'\n",
       "12. 'Eritrea'\n",
       "13. 'Gabon'\n",
       "14. 'Ghana'\n",
       "15. 'Guadeloupe'\n",
       "16. 'Guinea-Bissau'\n",
       "17. 'Guinea'\n",
       "18. 'Iraq'\n",
       "19. 'Korea, Democratic Peoples Republic of'\n",
       "20. 'Liberia'\n",
       "21. 'Libyan Arab Jamahiriya'\n",
       "22. 'Malawi'\n",
       "23. 'Marshall Islands'\n",
       "24. 'Mauritania'\n",
       "25. 'Micronesia (Federated States Of)'\n",
       "26. 'Nauru'\n",
       "27. 'Nigeria'\n",
       "28. 'Niue'\n",
       "29. 'Pakistan'\n",
       "30. 'Sao Tome and Principe'\n",
       "31. 'Senegal'\n",
       "32. 'Somalia'\n",
       "33. 'Sudan'\n",
       "34. 'Suriname'\n",
       "35. 'Swaziland'\n",
       "36. 'Turkmenistan'\n",
       "37. 'Uganda'\n",
       "38. 'Venezuela, Bolivarian Republic of'\n",
       "39. 'Yemen'\n",
       "\n",
       "\n"
      ],
      "text/plain": [
       " [1] \"Afghanistan\"                          \n",
       " [2] \"American Samoa\"                       \n",
       " [3] \"Botswana\"                             \n",
       " [4] \"British Virgin Islands\"               \n",
       " [5] \"Burundi\"                              \n",
       " [6] \"Cape Verde\"                           \n",
       " [7] \"Chad\"                                 \n",
       " [8] \"Congo, Democratic Republic of the\"    \n",
       " [9] \"Congo\"                                \n",
       "[10] \"Djibouti\"                             \n",
       "[11] \"Equatorial Guinea\"                    \n",
       "[12] \"Eritrea\"                              \n",
       "[13] \"Gabon\"                                \n",
       "[14] \"Ghana\"                                \n",
       "[15] \"Guadeloupe\"                           \n",
       "[16] \"Guinea-Bissau\"                        \n",
       "[17] \"Guinea\"                               \n",
       "[18] \"Iraq\"                                 \n",
       "[19] \"Korea, Democratic Peoples Republic of\"\n",
       "[20] \"Liberia\"                              \n",
       "[21] \"Libyan Arab Jamahiriya\"               \n",
       "[22] \"Malawi\"                               \n",
       "[23] \"Marshall Islands\"                     \n",
       "[24] \"Mauritania\"                           \n",
       "[25] \"Micronesia (Federated States Of)\"     \n",
       "[26] \"Nauru\"                                \n",
       "[27] \"Nigeria\"                              \n",
       "[28] \"Niue\"                                 \n",
       "[29] \"Pakistan\"                             \n",
       "[30] \"Sao Tome and Principe\"                \n",
       "[31] \"Senegal\"                              \n",
       "[32] \"Somalia\"                              \n",
       "[33] \"Sudan\"                                \n",
       "[34] \"Suriname\"                             \n",
       "[35] \"Swaziland\"                            \n",
       "[36] \"Turkmenistan\"                         \n",
       "[37] \"Uganda\"                               \n",
       "[38] \"Venezuela, Bolivarian Republic of\"    \n",
       "[39] \"Yemen\"                                "
      ]
     },
     "metadata": {},
     "output_type": "display_data"
    }
   ],
   "source": [
    "setdiff(flight_matrix$destination, colnames(flight_matrix[,3:ncol(flight_matrix)]))\n",
    "setdiff(colnames(flight_matrix[,3:ncol(flight_matrix)]), flight_matrix$destination)"
   ]
  },
  {
   "cell_type": "code",
   "execution_count": null,
   "metadata": {},
   "outputs": [],
   "source": []
  }
 ],
 "metadata": {
  "kernelspec": {
   "display_name": "R",
   "language": "R",
   "name": "ir"
  },
  "language_info": {
   "codemirror_mode": "r",
   "file_extension": ".r",
   "mimetype": "text/x-r-source",
   "name": "R",
   "pygments_lexer": "r",
   "version": "4.2.2"
  }
 },
 "nbformat": 4,
 "nbformat_minor": 4
}
