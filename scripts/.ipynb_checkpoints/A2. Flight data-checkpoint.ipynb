{
 "cells": [
  {
   "cell_type": "code",
   "execution_count": 23,
   "metadata": {},
   "outputs": [],
   "source": [
    "libraries = c(\"dplyr\", \"tidyverse\", \"data.table\", \"readxl\")\n",
    "for(x in libraries) {library(x,character.only=TRUE,warn.conflicts=FALSE,quietly=TRUE)}\n",
    "\n",
    "theme_set(theme_bw())"
   ]
  },
  {
   "cell_type": "code",
   "execution_count": 24,
   "metadata": {},
   "outputs": [],
   "source": [
    "path <- \"../data/flight/all_region/\"\n",
    "\n",
    "options(warn=-1)\n",
    "list.files(path = path, pattern = \"*xlsx\") -> file_list\n",
    "read_xlsx_files <- function(x){\n",
    "    df <- suppressMessages(read_xlsx(path = paste0(path, x), skip = 5))\n",
    "    df[-1, c(1,2,27)] -> df_2019\n",
    "    colnames(df_2019) <- c(\"destination\", \"series\", \"v2019\")\n",
    "    return(df_2019)}\n",
    "lapply(file_list, read_xlsx_files) -> df_list\n",
    "\n",
    "for(i in 1:length(df_list)){\n",
    "    colnames(df_list[[i]]) <- c(\"destination\", \"series\", substr(file_list[i],1,nchar(file_list[i])-5))}"
   ]
  },
  {
   "cell_type": "code",
   "execution_count": 25,
   "metadata": {},
   "outputs": [],
   "source": [
    "merge.all <- function(x, y) {merge(x, y, all=TRUE, by=c(\"destination\", \"series\"))}\n",
    "output <- Reduce(merge.all, df_list)\n",
    "\n",
    "output %>% filter(!is.na(destination)) -> output"
   ]
  },
  {
   "cell_type": "code",
   "execution_count": 26,
   "metadata": {},
   "outputs": [],
   "source": [
    "output %>% filter(destination %in% c(\"Czechia\", \"Czech Republic (Czechia)\")) -> temp\n",
    "unique(temp$series) -> series_list\n",
    "Czech_list <- list()\n",
    "for(i in 1:length(series_list)){\n",
    "    temp %>% filter(series==series_list[i]) -> temp; temp[is.na(temp)] <- 0\n",
    "    temp %>% dplyr::select(-c(\"destination\", \"series\")) -> temp_col\n",
    "    as.data.frame(colSums(temp_col))%>% t() %>% as.data.frame() %>%\n",
    "    mutate(destination=c(\"Czech Republic\"), series=series_list[i]) -> temp_all; rownames(temp_all) <- NULL\n",
    "    temp_all -> Czech_list[[i]]\n",
    "}\n",
    "\n",
    "do.call(rbind, Czech_list) -> Czech_output"
   ]
  },
  {
   "cell_type": "code",
   "execution_count": 27,
   "metadata": {},
   "outputs": [],
   "source": [
    "output %>% filter(destination %in% c(\"Türkiye\", \"Turkey\")) -> temp\n",
    "unique(temp$series) -> series_list\n",
    "Turkey_list <- list()\n",
    "for(i in 1:length(series_list)){\n",
    "    temp %>% filter(series==series_list[i]) -> temp; temp[is.na(temp)] <- 0\n",
    "    temp %>% dplyr::select(-c(\"destination\", \"series\")) -> temp_col\n",
    "    as.data.frame(colSums(temp_col))%>% t() %>% as.data.frame() %>%\n",
    "    mutate(destination=c(\"Turkey\"), series=series_list[i]) -> temp_all; rownames(temp_all) <- NULL\n",
    "    temp_all -> Turkey_list[[i]]\n",
    "}\n",
    "\n",
    "do.call(rbind, Turkey_list) -> Turkey_output"
   ]
  },
  {
   "cell_type": "code",
   "execution_count": 28,
   "metadata": {},
   "outputs": [],
   "source": [
    "output %>% filter(!(destination %in% c(\"END\", \"Türkiye\", \"Turkey\", \"Czechia\", \"Czech Republic (Czechia)\"))) %>%\n",
    "mutate(destination=case_when(destination==c(\"Curaçao\")~c(\"Curacao\"), \n",
    "                             destination==c(\"Côte d\\'Ivoire\")~c(\"Cote d'Ivoire\"), \n",
    "                             destination==c(\"Taiwan Province of China\")~c(\"Taiwan, Province of China\"), \n",
    "                             destination==c(\"Saint Vincent and the Grenadines\")~c(\"Saint Vincent and The Grenadines\"),\n",
    "                             destination==c(\"Palestine\")~c(\"Palestine, State of\"),\n",
    "                             TRUE~destination)) -> output\n",
    "\n",
    "rbind(output, Turkey_output, Czech_output) -> output"
   ]
  },
  {
   "cell_type": "code",
   "execution_count": 29,
   "metadata": {},
   "outputs": [],
   "source": [
    "## coverting NAs to zero in the flight data\n",
    "output[is.na(output)] <- 0\n",
    "output %>% mutate(total_vol = rowSums(output[,3:ncol(output)])) %>% \n",
    "filter(total_vol > 0) %>% dplyr::select(-total_vol) -> output"
   ]
  },
  {
   "cell_type": "code",
   "execution_count": 30,
   "metadata": {},
   "outputs": [],
   "source": [
    "## selecting the biggest value throughout the series\n",
    "colMax <- function(data) sapply(data, max, na.rm = TRUE)\n",
    "\n",
    "new_list <- list()\n",
    "unique(output$destination) -> country_list\n",
    "\n",
    "\n",
    "for (g in 1:length(country_list)){\n",
    "    output %>% filter(destination==country_list[g]) -> temp\n",
    "    as.data.frame(t(colMax(temp)))-> new_list[[g]]\n",
    "}\n",
    "\n",
    "            \n",
    "do.call(\"rbind\", new_list) -> flight_matrix\n",
    "write.csv(flight_matrix, \"../data/flight/flight_matrix.csv\")     "
   ]
  },
  {
   "cell_type": "code",
   "execution_count": 31,
   "metadata": {},
   "outputs": [],
   "source": [
    "#### setting the threshold for the eligible country selection\n",
    "thres <- 1 ## proportion of NAs (1 for all allowing all NAs)\n",
    "\n",
    "## destination (V_ij)\n",
    "flight_matrix %>% rowwise() %>%\n",
    "mutate(prop=sum(c_across()==c(\"0\"))/(ncol(flight_matrix)-2)) %>% filter(prop <= thres) %>% \n",
    "dplyr::select(-prop) -> flight_matrix_desti_thres\n",
    "write.csv(flight_matrix_desti_thres, \"../data/flight/flight_matrix_desti_thres.csv\")\n",
    "\n",
    "## departure (V_ji)\n",
    "t(flight_matrix_desti_thres) %>% as.data.frame()-> temp\n",
    "temp[1,] -> tempp; rownames(tempp) <- NULL\n",
    "colnames(temp) <- tempp[1,]\n",
    "temp[-(1:2),] -> temp\n",
    "temp %>% mutate(departure=rownames(temp)) -> temp; rownames(temp) <- NULL \n",
    "temp %>% rowwise() %>% mutate(prop=sum(c_across()==c(\"0\"))/(ncol(temp)-1)) %>% filter(prop <= thres) %>% \n",
    "dplyr::select(-prop) -> flight_matrix_depart_thres\n",
    "write.csv(flight_matrix_depart_thres, \"../data/flight/flight_matrix_depart_thres.csv\")"
   ]
  },
  {
   "cell_type": "code",
   "execution_count": 33,
   "metadata": {},
   "outputs": [],
   "source": [
    "flight_matrix -> flight_matrix_temp\n",
    "for(i in 3:ncol(flight_matrix)){\n",
    "    for(l in 1:nrow(flight_matrix)){\n",
    "        flight_matrix_temp[l,i] <- floor(runif(1, min=1, max=5))\n",
    "    }\n",
    "}\n",
    "\n",
    "write.csv(flight_matrix_temp, \"../data/flight/flight_matrix_random.csv\")"
   ]
  },
  {
   "cell_type": "code",
   "execution_count": 38,
   "metadata": {},
   "outputs": [],
   "source": [
    "sapply(flight_matrix_depart_thres, as.numeric) -> flight_matrix_depart_thres_temp\n",
    "for(i in 1:ncol(flight_matrix_depart_thres_temp)){\n",
    "    for(l in 1:nrow(flight_matrix_depart_thres_temp)){\n",
    "        flight_matrix_depart_thres_temp[l,i] <- floor(runif(1, min=1, max=5))\n",
    "    }\n",
    "}\n",
    "\n",
    "write.csv(flight_matrix_depart_thres, \"../data/flight/flight_matrix_depart_random.csv\")"
   ]
  },
  {
   "cell_type": "code",
   "execution_count": null,
   "metadata": {},
   "outputs": [],
   "source": []
  }
 ],
 "metadata": {
  "kernelspec": {
   "display_name": "R",
   "language": "R",
   "name": "ir"
  },
  "language_info": {
   "codemirror_mode": "r",
   "file_extension": ".r",
   "mimetype": "text/x-r-source",
   "name": "R",
   "pygments_lexer": "r",
   "version": "4.2.2"
  }
 },
 "nbformat": 4,
 "nbformat_minor": 4
}
