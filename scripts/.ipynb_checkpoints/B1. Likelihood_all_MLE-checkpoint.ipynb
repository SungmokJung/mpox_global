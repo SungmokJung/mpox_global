{
 "cells": [
  {
   "cell_type": "code",
   "execution_count": 59,
   "metadata": {},
   "outputs": [],
   "source": [
    "libraries = c(\"dplyr\", \"tidyverse\", \"magrittr\")\n",
    "for(x in libraries) {library(x,character.only=TRUE,warn.conflicts=FALSE,quietly=TRUE)}\n",
    "theme_set(theme_bw())"
   ]
  },
  {
   "cell_type": "code",
   "execution_count": 60,
   "metadata": {},
   "outputs": [],
   "source": [
    "#### setting\n",
    "start_date <- as.Date(\"2022-04-17\") ## symptom onset date of the initial case in the UK"
   ]
  },
  {
   "cell_type": "code",
   "execution_count": 61,
   "metadata": {},
   "outputs": [],
   "source": [
    "#### data with depletion effect\n",
    "read.csv(\"../data/input_WHO_backproj.csv\") -> df_input\n",
    "df_input$date <- as.Date(df_input$date)\n",
    "df_input$date_import <- as.Date(df_input$date_import)\n",
    "censor_import <- max(df_input$date) ## for countries without any importation\n",
    "\n",
    "## excluding the endemic countries (along with the UK)\n",
    "df_input %<>% rename(censor=censoring, country=location) %>%\n",
    "mutate(date_imp=case_when(censor==1~censor_import, censor==0~date_import)) %>%\n",
    "filter(!(country %in% c(\"Cameroon\",\"Liberia\",\"Central African Republic\",\"Nigeria\",\n",
    "                         \"Congo\",\"Congo, Democratic Republic of the\",\"Ghana\",\"Palestine, State of\",\n",
    "                         \"United Kingdom\")))\n",
    "\n",
    "df_input %>% dplyr::select(date, country, F_i, date_imp, censor) %>% \n",
    "filter(date >= start_date) %>% arrange(date, country) -> df_input_all\n",
    "\n",
    "## region-specific data\n",
    "data_list <- list()\n",
    "df_input %>% filter(region == c(\"Europe\")) %>% dplyr::select(date, country, F_i, date_imp, censor) %>% \n",
    "filter(date >= start_date) %>% arrange(date, country) -> data_list[[1]]\n",
    "\n",
    "df_input %>% filter(region == c(\"Africa\")) %>% dplyr::select(date, country, F_i, date_imp, censor) %>% \n",
    "filter(date >= start_date) %>% arrange(date, country) -> data_list[[2]]\n",
    "\n",
    "df_input %>% filter(region == c(\"Americas\")) %>%  dplyr::select(date, country, F_i, date_imp, censor) %>% \n",
    "filter(date >= start_date) %>% arrange(date, country) -> data_list[[3]]\n",
    "\n",
    "df_input %>% filter(region == c(\"Asia\")) %>% filter(!sub_region %in% c(\"Central Asia\", \"Western Asia\")) %>% \n",
    "dplyr::select(date, country, F_i, date_imp, censor) %>% \n",
    "filter(date >= start_date) %>% arrange(date, country) -> data_list[[4]]\n",
    "\n",
    "df_input %>% filter(sub_region %in% c(\"Central Asia\", \"Western Asia\")) %>% \n",
    "dplyr::select(date, country, F_i, date_imp, censor) %>% \n",
    "filter(date >= start_date) %>% arrange(date, country) -> data_list[[5]]\n",
    "\n",
    "df_input %>% filter(region == c(\"Oceania\")) %>% dplyr::select(date, country, F_i, date_imp, censor) %>% \n",
    "filter(date >= start_date) %>% arrange(date, country) -> data_list[[6]]"
   ]
  },
  {
   "cell_type": "code",
   "execution_count": 62,
   "metadata": {},
   "outputs": [],
   "source": [
    "#### data without depletion effect\n",
    "read.csv(\"../data/input_WHO_backproj_counter.csv\") -> df_input_counter\n",
    "df_input_counter$date <- as.Date(df_input_counter$date)\n",
    "df_input_counter$date_import <- as.Date(df_input_counter$date_import)\n",
    "\n",
    "## excluding the endemic countries (along with the UK)\n",
    "df_input_counter %<>% rename(censor=censoring, country=location) %>%\n",
    "mutate(date_imp=case_when(censor==1~censor_import, censor==0~date_import)) %>% \n",
    "filter(!(country %in% c(\"Cameroon\",\"Liberia\",\"Central African Republic\",\"Nigeria\",\n",
    "                         \"Congo\",\"Congo, Democratic Republic of the\",\"Ghana\",\"Palestine, State of\",\n",
    "                         \"United Kingdom\")))\n",
    "\n",
    "df_input_counter %>% dplyr::select(date, country, F_i, date_imp, censor) %>% \n",
    "filter(date >= start_date) %>% arrange(date, country) -> df_input_counter_all\n",
    "\n",
    "## region-specific data\n",
    "data_list_counter <- list()\n",
    "df_input_counter %>% filter(region == c(\"Europe\")) %>% dplyr::select(date, country, F_i, date_imp, censor) %>% \n",
    "filter(date >= start_date) %>% arrange(date, country) -> data_list_counter[[1]]\n",
    "\n",
    "df_input_counter %>% filter(region == c(\"Africa\")) %>% dplyr::select(date, country, F_i, date_imp, censor) %>% \n",
    "filter(date >= start_date) %>% arrange(date, country) -> data_list_counter[[2]]\n",
    "\n",
    "df_input_counter %>% filter(region == c(\"Americas\")) %>%dplyr::select(date, country, F_i, date_imp, censor) %>% \n",
    "filter(date >= start_date) %>% arrange(date, country) -> data_list_counter[[3]]\n",
    "\n",
    "df_input_counter %>% filter(region == c(\"Asia\")) %>% filter(!sub_region %in% c(\"Central Asia\", \"Western Asia\")) %>% \n",
    "dplyr::select(date, country, F_i, date_imp, censor) %>% \n",
    "filter(date >= start_date) %>% arrange(date, country) -> data_list_counter[[4]]\n",
    "\n",
    "df_input_counter %>% filter(sub_region %in% c(\"Central Asia\", \"Western Asia\")) %>% \n",
    "dplyr::select(date, country, F_i, date_imp, censor) %>% \n",
    "filter(date >= start_date) %>% arrange(date, country) -> data_list_counter[[5]]\n",
    "\n",
    "df_input_counter %>% filter(region == c(\"Oceania\")) %>% dplyr::select(date, country, F_i, date_imp, censor) %>% \n",
    "filter(date >= start_date) %>% arrange(date, country) -> data_list_counter[[6]]"
   ]
  },
  {
   "cell_type": "code",
   "execution_count": 63,
   "metadata": {},
   "outputs": [],
   "source": [
    "#### likelihood without random effect\n",
    "LogL_i <- function(data, country_i){\n",
    "    data_i <- data %>% filter(country==country_i)\n",
    "    date_start_i <- data_i[1,1]\n",
    "    date_import_i <- data_i[length(data_i[,1]), 4]\n",
    "    surv_days_i <- as.numeric(date_import_i - date_start_i)+1\n",
    "    F_i_vec <- data_i$F_i\n",
    "    cens_i <- data_i[1,5] \n",
    "    \n",
    "    function(alpha){\n",
    "        return(\n",
    "            (1-cens_i) * (log(alpha * F_i_vec[surv_days_i]) + (-sum(alpha * F_i_vec[1:surv_days_i]))) + \n",
    "            cens_i * (-sum(alpha * F_i_vec[1:surv_days_i])) \n",
    "        )\n",
    "    }\n",
    "}\n",
    "\n",
    "LogL_full <- function(data, country_list){\n",
    "  function(alpha){\n",
    "      return(sum(sapply(country_list, FUN = function(x){LogL_i(data=data, country_i = x)(alpha=alpha)})))\n",
    "  }\n",
    "}"
   ]
  },
  {
   "cell_type": "code",
   "execution_count": 65,
   "metadata": {},
   "outputs": [],
   "source": [
    "#### MLE for the model with depletion effect\n",
    "## with global scaling factor\n",
    "options(warn=-1)\n",
    "optim(fn=LogL_full(data=df_input_all, country_list=(unique(df_input_all$country))), \n",
    "      par=c(0.001), method=\"Brent\", lower=(0), upper=(1000), control = list(fnscale = -1, maxit=1000000)) -> est_all\n",
    "\n",
    "## with region-specific scaling factors (separate MLE by region)\n",
    "par_list <- list(); value_list <- list()\n",
    "for(i in 1:length(data_list)){\n",
    "    optim(fn=LogL_full(data=data_list[[i]], country_list=(unique(data_list[[i]]$country))), \n",
    "          par=c(0.001), method=\"Brent\", lower=(0), upper=(1000), control = list(fnscale = -1, maxit=1000000)) -> est\n",
    "    est$par -> par_list[[i]]; est$value -> value_list[[i]]\n",
    "    \n",
    "}\n",
    "\n",
    "#### MLE for the model without depletion effect\n",
    "## with global scaling factor\n",
    "optim(fn=LogL_full(data=df_input_counter_all, country_list=(unique(df_input_counter_all$country))), \n",
    "      par=c(0.001), method=\"Brent\", lower=(0), upper=(1000), \n",
    "      control = list(fnscale = -1, maxit=1000000)) -> est_all_counter\n",
    "\n",
    "## with region-specific scaling factors (separate MLE by region)\n",
    "par_list_counter <- list(); value_list_counter <- list()\n",
    "for(i in 1:length(data_list)){\n",
    "    optim(fn=LogL_full(data=data_list_counter[[i]], country_list=(unique(data_list_counter[[i]]$country))), \n",
    "          par=c(0.001), method=\"Brent\", lower=(0), upper=(1000), \n",
    "          control = list(fnscale = -1, maxit=1000000)) -> est\n",
    "    est$par -> par_list_counter[[i]]; est$value -> value_list_counter[[i]]\n",
    "    \n",
    "}\n",
    "options(warn=0)"
   ]
  },
  {
   "cell_type": "code",
   "execution_count": 66,
   "metadata": {},
   "outputs": [
    {
     "data": {
      "text/html": [
       "<ol>\n",
       "\t<li>0.00111655669816415</li>\n",
       "\t<li>0.000185235374235613</li>\n",
       "\t<li>0.00200018013548503</li>\n",
       "\t<li>0.000211723397929896</li>\n",
       "\t<li>0.000516119083149329</li>\n",
       "\t<li>0.0033632192822377</li>\n",
       "</ol>\n"
      ],
      "text/latex": [
       "\\begin{enumerate}\n",
       "\\item 0.00111655669816415\n",
       "\\item 0.000185235374235613\n",
       "\\item 0.00200018013548503\n",
       "\\item 0.000211723397929896\n",
       "\\item 0.000516119083149329\n",
       "\\item 0.0033632192822377\n",
       "\\end{enumerate}\n"
      ],
      "text/markdown": [
       "1. 0.00111655669816415\n",
       "2. 0.000185235374235613\n",
       "3. 0.00200018013548503\n",
       "4. 0.000211723397929896\n",
       "5. 0.000516119083149329\n",
       "6. 0.0033632192822377\n",
       "\n",
       "\n"
      ],
      "text/plain": [
       "[[1]]\n",
       "[1] 0.001116557\n",
       "\n",
       "[[2]]\n",
       "[1] 0.0001852354\n",
       "\n",
       "[[3]]\n",
       "[1] 0.00200018\n",
       "\n",
       "[[4]]\n",
       "[1] 0.0002117234\n",
       "\n",
       "[[5]]\n",
       "[1] 0.0005161191\n",
       "\n",
       "[[6]]\n",
       "[1] 0.003363219\n"
      ]
     },
     "metadata": {},
     "output_type": "display_data"
    },
    {
     "data": {
      "text/html": [
       "<ol>\n",
       "\t<li>0.0154379578099483</li>\n",
       "\t<li>0.00162428162103602</li>\n",
       "\t<li>0.0235136650425261</li>\n",
       "\t<li>0.00227570488086783</li>\n",
       "\t<li>0.00657509341950576</li>\n",
       "\t<li>0.0403778371497667</li>\n",
       "</ol>\n"
      ],
      "text/latex": [
       "\\begin{enumerate}\n",
       "\\item 0.0154379578099483\n",
       "\\item 0.00162428162103602\n",
       "\\item 0.0235136650425261\n",
       "\\item 0.00227570488086783\n",
       "\\item 0.00657509341950576\n",
       "\\item 0.0403778371497667\n",
       "\\end{enumerate}\n"
      ],
      "text/markdown": [
       "1. 0.0154379578099483\n",
       "2. 0.00162428162103602\n",
       "3. 0.0235136650425261\n",
       "4. 0.00227570488086783\n",
       "5. 0.00657509341950576\n",
       "6. 0.0403778371497667\n",
       "\n",
       "\n"
      ],
      "text/plain": [
       "[[1]]\n",
       "[1] 0.01543796\n",
       "\n",
       "[[2]]\n",
       "[1] 0.001624282\n",
       "\n",
       "[[3]]\n",
       "[1] 0.02351367\n",
       "\n",
       "[[4]]\n",
       "[1] 0.002275705\n",
       "\n",
       "[[5]]\n",
       "[1] 0.006575093\n",
       "\n",
       "[[6]]\n",
       "[1] 0.04037784\n"
      ]
     },
     "metadata": {},
     "output_type": "display_data"
    }
   ],
   "source": [
    "par_list\n",
    "par_list_counter"
   ]
  },
  {
   "cell_type": "code",
   "execution_count": 67,
   "metadata": {},
   "outputs": [],
   "source": [
    "#### likelihood with random effect and global scaling factor\n",
    "LogL_i_random <- function(data, country_i){\n",
    "    data_i <- data %>% filter(country==country_i)\n",
    "    date_start_i <- data_i[1,1]\n",
    "    date_import_i <- data_i[length(data_i[,1]), 4]\n",
    "    surv_days_i <- as.numeric(date_import_i - date_start_i)+1\n",
    "    F_i_vec <- data_i$F_i\n",
    "    cens_i <- data_i[1,5] \n",
    "    \n",
    "    function(alpha, theta){\n",
    "        return(\n",
    "            (1-cens_i) * (-(theta+1)/theta * log(1+theta*sum(alpha*F_i_vec[1:surv_days_i])) +\n",
    "                         -1/theta * log(1+theta*sum(alpha*F_i_vec[1:surv_days_i]))) +\n",
    "            cens_i * -1/theta * log(1+theta*sum(alpha*F_i_vec[1:surv_days_i]))\n",
    "        )\n",
    "    }\n",
    "}\n",
    "\n",
    "LogL_full_random <- function(data, country_list){\n",
    "  function(params){\n",
    "    return(sum(sapply(country_list, \n",
    "                      FUN = function(x){LogL_i_random(data=data, country_i = x)(params[1], params[2])})))\n",
    "  }\n",
    "}"
   ]
  },
  {
   "cell_type": "code",
   "execution_count": 70,
   "metadata": {},
   "outputs": [
    {
     "ename": "ERROR",
     "evalue": "Error in optim(fn = LogL_full_random(data = df_input_all, country_list = (unique(df_input_all$country))), : non-finite finite-difference value [1]\n",
     "output_type": "error",
     "traceback": [
      "Error in optim(fn = LogL_full_random(data = df_input_all, country_list = (unique(df_input_all$country))), : non-finite finite-difference value [1]\nTraceback:\n",
      "1. optim(fn = LogL_full_random(data = df_input_all, country_list = (unique(df_input_all$country))), \n .     par = c(0.001, 1), method = \"BFGS\", control = list(fnscale = -1, \n .         maxit = 1e+06))"
     ]
    }
   ],
   "source": [
    "# #### MLE for the model the depletion effect\n",
    "# ## with global scaling factor\n",
    "# options(warn=-1)\n",
    "# optim(fn=LogL_full_random(data=df_input_all, country_list=(unique(df_input_all$country))), \n",
    "#       par=c(0.001, 1), method=\"L-BFGS-B\", lower=c(0.00005,1e-6), control = list(fnscale = -1, maxit=1000000)) -> est_all_random\n",
    "# options(warn=0)\n",
    "\n",
    "# est_all_random\n",
    "\n",
    "#### MLE for the model the depletion effect\n",
    "## with global scaling factor\n",
    "options(warn=-1)\n",
    "optim(fn=LogL_full_random(data=df_input_all, country_list=(unique(df_input_all$country))), \n",
    "      par=c(0.001, 1), method=\"BFGS\", control = list(fnscale = -1, maxit=1000000)) -> est_all_random\n",
    "options(warn=0)\n",
    "\n",
    "est_all_random"
   ]
  },
  {
   "cell_type": "code",
   "execution_count": 149,
   "metadata": {},
   "outputs": [],
   "source": [
    "#### likelihood with random effect and global scaling factor\n",
    "LogL_i_random <- function(data, country_i){\n",
    "    data_i <- data %>% filter(country==country_i)\n",
    "    date_start_i <- data_i[1,1]\n",
    "    date_import_i <- data_i[length(data_i[,1]), 4]\n",
    "    surv_days_i <- as.numeric(date_import_i - date_start_i)+1\n",
    "    F_i_vec <- data_i$F_i\n",
    "    cens_i <- data_i[1,5] \n",
    "    \n",
    "    function(alpha, theta){\n",
    "        return(\n",
    "            (1-cens_i) * (-(exp(-theta)+1)/exp(-theta) * log(1+exp(-theta)*sum(exp(-alpha)*F_i_vec[1:surv_days_i])) +\n",
    "                         -1/exp(-theta) * log(1+exp(-theta)*sum(exp(-alpha)*F_i_vec[1:surv_days_i]))) +\n",
    "            cens_i * -1/exp(-theta) * log(1+exp(-theta)*sum(exp(-alpha)*F_i_vec[1:surv_days_i]))\n",
    "        )\n",
    "    }\n",
    "}\n",
    "\n",
    "LogL_full_random <- function(data, country_list){\n",
    "  function(params){\n",
    "    return(sum(sapply(country_list, \n",
    "                      FUN = function(x){LogL_i_random(data=data, country_i = x)(params[1], params[2])})))\n",
    "  }\n",
    "}\n",
    "\n",
    "options(warn=-1)\n",
    "optim(fn=LogL_full_random(data=df_input_all, country_list=(unique(df_input_all$country))), \n",
    "      par=c(-log(1), -log(1)), method=\"BFGS\", control = list(fnscale = -1, maxit=1000000)) -> est_all_random\n",
    "options(warn=0)"
   ]
  },
  {
   "cell_type": "code",
   "execution_count": 150,
   "metadata": {},
   "outputs": [
    {
     "data": {
      "text/html": [
       "2.88261267592638e-49"
      ],
      "text/latex": [
       "2.88261267592638e-49"
      ],
      "text/markdown": [
       "2.88261267592638e-49"
      ],
      "text/plain": [
       "[1] 2.882613e-49"
      ]
     },
     "metadata": {},
     "output_type": "display_data"
    },
    {
     "data": {
      "text/html": [
       "2.01928464385999e-07"
      ],
      "text/latex": [
       "2.01928464385999e-07"
      ],
      "text/markdown": [
       "2.01928464385999e-07"
      ],
      "text/plain": [
       "[1] 2.019285e-07"
      ]
     },
     "metadata": {},
     "output_type": "display_data"
    }
   ],
   "source": [
    "exp(-est_all_random$par[1])\n",
    "exp(-est_all_random$par[2])"
   ]
  },
  {
   "cell_type": "code",
   "execution_count": 137,
   "metadata": {},
   "outputs": [
    {
     "data": {
      "text/html": [
       "<dl>\n",
       "\t<dt>$par</dt>\n",
       "\t\t<dd><style>\n",
       ".list-inline {list-style: none; margin:0; padding: 0}\n",
       ".list-inline>li {display: inline-block}\n",
       ".list-inline>li:not(:last-child)::after {content: \"\\00b7\"; padding: 0 .5ex}\n",
       "</style>\n",
       "<ol class=list-inline><li>111.767972494658</li><li>15.4153523389694</li></ol>\n",
       "</dd>\n",
       "\t<dt>$value</dt>\n",
       "\t\t<dd>0</dd>\n",
       "\t<dt>$counts</dt>\n",
       "\t\t<dd><style>\n",
       ".dl-inline {width: auto; margin:0; padding: 0}\n",
       ".dl-inline>dt, .dl-inline>dd {float: none; width: auto; display: inline-block}\n",
       ".dl-inline>dt::after {content: \":\\0020\"; padding-right: .5ex}\n",
       ".dl-inline>dt:not(:first-of-type) {padding-left: .5ex}\n",
       "</style><dl class=dl-inline><dt>function</dt><dd>6</dd><dt>gradient</dt><dd>3</dd></dl>\n",
       "</dd>\n",
       "\t<dt>$convergence</dt>\n",
       "\t\t<dd>0</dd>\n",
       "\t<dt>$message</dt>\n",
       "\t\t<dd>NULL</dd>\n",
       "</dl>\n"
      ],
      "text/latex": [
       "\\begin{description}\n",
       "\\item[\\$par] \\begin{enumerate*}\n",
       "\\item 111.767972494658\n",
       "\\item 15.4153523389694\n",
       "\\end{enumerate*}\n",
       "\n",
       "\\item[\\$value] 0\n",
       "\\item[\\$counts] \\begin{description*}\n",
       "\\item[function] 6\n",
       "\\item[gradient] 3\n",
       "\\end{description*}\n",
       "\n",
       "\\item[\\$convergence] 0\n",
       "\\item[\\$message] NULL\n",
       "\\end{description}\n"
      ],
      "text/markdown": [
       "$par\n",
       ":   1. 111.767972494658\n",
       "2. 15.4153523389694\n",
       "\n",
       "\n",
       "\n",
       "$value\n",
       ":   0\n",
       "$counts\n",
       ":   function\n",
       ":   6gradient\n",
       ":   3\n",
       "\n",
       "\n",
       "$convergence\n",
       ":   0\n",
       "$message\n",
       ":   NULL\n",
       "\n",
       "\n"
      ],
      "text/plain": [
       "$par\n",
       "[1] 111.76797  15.41535\n",
       "\n",
       "$value\n",
       "[1] 0\n",
       "\n",
       "$counts\n",
       "function gradient \n",
       "       6        3 \n",
       "\n",
       "$convergence\n",
       "[1] 0\n",
       "\n",
       "$message\n",
       "NULL\n"
      ]
     },
     "metadata": {},
     "output_type": "display_data"
    }
   ],
   "source": [
    "est_all_random"
   ]
  },
  {
   "cell_type": "code",
   "execution_count": 138,
   "metadata": {},
   "outputs": [
    {
     "data": {
      "text/html": [
       "0"
      ],
      "text/latex": [
       "0"
      ],
      "text/markdown": [
       "0"
      ],
      "text/plain": [
       "[1] 0"
      ]
     },
     "metadata": {},
     "output_type": "display_data"
    }
   ],
   "source": [
    "#### likelihood with random effect and global scaling factor\n",
    "data=df_input_all\n",
    "country_i=unique(df_input_all$country)[1]\n",
    "    data_i <- data %>% filter(country==country_i)\n",
    "    date_start_i <- data_i[1,1]\n",
    "    date_import_i <- data_i[length(data_i[,1]), 4]\n",
    "    surv_days_i <- as.numeric(date_import_i - date_start_i)+1\n",
    "    F_i_vec <- data_i$F_i\n",
    "    cens_i <- data_i[1,5] \n",
    "    \n",
    "alpha=exp(-est_all_random$par[1])\n",
    "theta=exp(-est_all_random$par[2])\n",
    "        return(\n",
    "            (1-cens_i) * (-(theta+1)/theta * log(1+theta*sum(alpha*F_i_vec[1:surv_days_i])) +\n",
    "                         -1/theta * log(1+theta*sum(alpha*F_i_vec[1:surv_days_i]))) +\n",
    "            cens_i * -1/theta * log(1+theta*sum(alpha*F_i_vec[1:surv_days_i]))\n",
    "        )"
   ]
  },
  {
   "cell_type": "code",
   "execution_count": 143,
   "metadata": {},
   "outputs": [
    {
     "data": {
      "text/html": [
       "-4952248.8225753"
      ],
      "text/latex": [
       "-4952248.8225753"
      ],
      "text/markdown": [
       "-4952248.8225753"
      ],
      "text/plain": [
       "[1] -4952249"
      ]
     },
     "metadata": {},
     "output_type": "display_data"
    },
    {
     "data": {
      "text/html": [
       "0"
      ],
      "text/latex": [
       "0"
      ],
      "text/markdown": [
       "0"
      ],
      "text/plain": [
       "[1] 0"
      ]
     },
     "metadata": {},
     "output_type": "display_data"
    }
   ],
   "source": [
    "-1/theta\n",
    "log(1+theta*sum(alpha*F_i_vec[1:surv_days_i]))"
   ]
  },
  {
   "cell_type": "code",
   "execution_count": null,
   "metadata": {},
   "outputs": [],
   "source": []
  }
 ],
 "metadata": {
  "kernelspec": {
   "display_name": "R",
   "language": "R",
   "name": "ir"
  },
  "language_info": {
   "codemirror_mode": "r",
   "file_extension": ".r",
   "mimetype": "text/x-r-source",
   "name": "R",
   "pygments_lexer": "r",
   "version": "4.2.2"
  }
 },
 "nbformat": 4,
 "nbformat_minor": 4
}
