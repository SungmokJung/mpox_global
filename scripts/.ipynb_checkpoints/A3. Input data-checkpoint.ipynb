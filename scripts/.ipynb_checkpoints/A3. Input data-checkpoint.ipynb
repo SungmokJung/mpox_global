{
 "cells": [
  {
   "cell_type": "code",
   "execution_count": 101,
   "metadata": {},
   "outputs": [],
   "source": [
    "libraries = c(\"dplyr\", \"tidyverse\", \"ggpubr\")\n",
    "for(x in libraries) {library(x,character.only=TRUE,warn.conflicts=FALSE,quietly=TRUE)}\n",
    "\n",
    "theme_set(theme_bw())"
   ]
  },
  {
   "cell_type": "code",
   "execution_count": 102,
   "metadata": {},
   "outputs": [],
   "source": [
    "read.csv(\"../data/df_inci_final.csv\") -> df_inci\n",
    "read.csv(\"../data/SAR_caseprop_Reff.csv\") -> df_Reff\n",
    "read.csv(\"../data/flight/flight_matrix.csv\") -> flight_matrix"
   ]
  },
  {
   "cell_type": "code",
   "execution_count": 103,
   "metadata": {},
   "outputs": [
    {
     "name": "stderr",
     "output_type": "stream",
     "text": [
      "Warning message in cum_icni_prop - df_Reff$Infections:\n",
      "“longer object length is not a multiple of shorter object length”\n"
     ]
    }
   ],
   "source": [
    "## Reff_i & G_i\n",
    "df_inci %>% mutate(Infections = df_Reff$Infections[which.min(abs(cum_icni_prop-df_Reff$Infections))]) -> temp\n",
    "merge(temp, df_Reff %>% dplyr::select(Infections, Reff_1), by=c(\"Infections\"), all.x=TRUE) %>% \n",
    "dplyr::select(-Infections) %>% rename(Reff_i=Reff_1) %>% mutate(G_i=Reff_i*MA_new_cases) %>%\n",
    "mutate(location=case_when(location==c(\"Democratic Republic of Congo\")~c(\"Congo, Democratic Republic of the\"),\n",
    "                          location==c(\"Curacao\")~c(\"Curaçao\"),\n",
    "                          location==c(\"Czechia\")~c(\"Czech Republic\"),\n",
    "                          location==c(\"Iran\")~c(\"Iran, Islamic Republic of\"),\n",
    "                          location==c(\"South Korea\")~c(\"Korea, Republic of\"),\n",
    "                          location==c(\"United States\")~c(\"United States of America\"),\n",
    "                          location==c(\"Venezuela\")~c(\"Venezuela, Bolivarian Republic of\"),\n",
    "                          location==c(\"Moldova\")~c(\"Moldova, Republic of\"),\n",
    "                          location==c(\"Russia\")~c(\"Russian Federation\"),\n",
    "                          TRUE~location)) %>%\n",
    "filter(!(location %in% c(\"Gibraltar\", \"Ghana\", \"Liberia\", \"Sudan\", \n",
    "                         \"Guadeloupe\", \"Greenland\", \"Saint Martin (French part)\"))) -> input\n",
    "\n",
    "as.Date(input$date) -> input$date\n",
    "input %>% mutate(time=as.numeric(date-time_0)) -> input"
   ]
  },
  {
   "cell_type": "code",
   "execution_count": 104,
   "metadata": {},
   "outputs": [
    {
     "data": {
      "text/html": [],
      "text/latex": [],
      "text/markdown": [],
      "text/plain": [
       "integer(0)"
      ]
     },
     "metadata": {},
     "output_type": "display_data"
    }
   ],
   "source": [
    "is.element(unique(input$location), flight_matrix$destination) -> temp; which(temp==c(\"FALSE\"))"
   ]
  },
  {
   "cell_type": "code",
   "execution_count": 105,
   "metadata": {},
   "outputs": [],
   "source": [
    "## F_i\n",
    "path <- \"../data/flight/all_region/\"; list.files(path = path, pattern = \"*xlsx\") -> file_list\n",
    "substr(file_list,1,nchar(file_list)-5) -> flight_list\n",
    "unique(input$location) -> country_list\n",
    "sort(flight_list) -> flight_list_sort; sort(country_list) -> country_list_sort\n",
    "\n",
    "## coverting NAs to zero in the flight data\n",
    "flight_matrix[is.na(flight_matrix)] <- 0\n",
    "\n",
    "# colnames(flight_matrix) -> list_temp; list_temp[4:length(list_temp)] -> country_list"
   ]
  },
  {
   "cell_type": "code",
   "execution_count": 106,
   "metadata": {},
   "outputs": [
    {
     "data": {
      "text/html": [
       "<table class=\"dataframe\">\n",
       "<caption>A data.frame: 1 × 215</caption>\n",
       "<thead>\n",
       "\t<tr><th scope=col>X</th><th scope=col>destination</th><th scope=col>series</th><th scope=col>Afghanistan</th><th scope=col>Albania</th><th scope=col>Algeria</th><th scope=col>American.Samoa</th><th scope=col>Andorra</th><th scope=col>Angola</th><th scope=col>Anguilla</th><th scope=col>⋯</th><th scope=col>United.Kingdom</th><th scope=col>United.States.of.America</th><th scope=col>Uruguay</th><th scope=col>Uzbekistan</th><th scope=col>Vanuatu</th><th scope=col>Venezuela..Bolivarian.Republic.of</th><th scope=col>Viet.Nam</th><th scope=col>Yemen</th><th scope=col>Zambia</th><th scope=col>Zimbabwe</th></tr>\n",
       "\t<tr><th scope=col>&lt;int&gt;</th><th scope=col>&lt;chr&gt;</th><th scope=col>&lt;chr&gt;</th><th scope=col>&lt;dbl&gt;</th><th scope=col>&lt;dbl&gt;</th><th scope=col>&lt;dbl&gt;</th><th scope=col>&lt;dbl&gt;</th><th scope=col>&lt;dbl&gt;</th><th scope=col>&lt;dbl&gt;</th><th scope=col>&lt;dbl&gt;</th><th scope=col>⋯</th><th scope=col>&lt;dbl&gt;</th><th scope=col>&lt;dbl&gt;</th><th scope=col>&lt;dbl&gt;</th><th scope=col>&lt;dbl&gt;</th><th scope=col>&lt;dbl&gt;</th><th scope=col>&lt;dbl&gt;</th><th scope=col>&lt;dbl&gt;</th><th scope=col>&lt;dbl&gt;</th><th scope=col>&lt;dbl&gt;</th><th scope=col>&lt;dbl&gt;</th></tr>\n",
       "</thead>\n",
       "<tbody>\n",
       "\t<tr><td>10</td><td>Aruba</td><td>TFR</td><td>0</td><td>0</td><td>0</td><td>0</td><td>0</td><td>0</td><td>0</td><td>⋯</td><td>10882</td><td>838288</td><td>2049</td><td>0</td><td>0</td><td>14958</td><td>0</td><td>0</td><td>0</td><td>0</td></tr>\n",
       "</tbody>\n",
       "</table>\n"
      ],
      "text/latex": [
       "A data.frame: 1 × 215\n",
       "\\begin{tabular}{lllllllllllllllllllll}\n",
       " X & destination & series & Afghanistan & Albania & Algeria & American.Samoa & Andorra & Angola & Anguilla & ⋯ & United.Kingdom & United.States.of.America & Uruguay & Uzbekistan & Vanuatu & Venezuela..Bolivarian.Republic.of & Viet.Nam & Yemen & Zambia & Zimbabwe\\\\\n",
       " <int> & <chr> & <chr> & <dbl> & <dbl> & <dbl> & <dbl> & <dbl> & <dbl> & <dbl> & ⋯ & <dbl> & <dbl> & <dbl> & <dbl> & <dbl> & <dbl> & <dbl> & <dbl> & <dbl> & <dbl>\\\\\n",
       "\\hline\n",
       "\t 10 & Aruba & TFR & 0 & 0 & 0 & 0 & 0 & 0 & 0 & ⋯ & 10882 & 838288 & 2049 & 0 & 0 & 14958 & 0 & 0 & 0 & 0\\\\\n",
       "\\end{tabular}\n"
      ],
      "text/markdown": [
       "\n",
       "A data.frame: 1 × 215\n",
       "\n",
       "| X &lt;int&gt; | destination &lt;chr&gt; | series &lt;chr&gt; | Afghanistan &lt;dbl&gt; | Albania &lt;dbl&gt; | Algeria &lt;dbl&gt; | American.Samoa &lt;dbl&gt; | Andorra &lt;dbl&gt; | Angola &lt;dbl&gt; | Anguilla &lt;dbl&gt; | ⋯ ⋯ | United.Kingdom &lt;dbl&gt; | United.States.of.America &lt;dbl&gt; | Uruguay &lt;dbl&gt; | Uzbekistan &lt;dbl&gt; | Vanuatu &lt;dbl&gt; | Venezuela..Bolivarian.Republic.of &lt;dbl&gt; | Viet.Nam &lt;dbl&gt; | Yemen &lt;dbl&gt; | Zambia &lt;dbl&gt; | Zimbabwe &lt;dbl&gt; |\n",
       "|---|---|---|---|---|---|---|---|---|---|---|---|---|---|---|---|---|---|---|---|---|\n",
       "| 10 | Aruba | TFR | 0 | 0 | 0 | 0 | 0 | 0 | 0 | ⋯ | 10882 | 838288 | 2049 | 0 | 0 | 14958 | 0 | 0 | 0 | 0 |\n",
       "\n"
      ],
      "text/plain": [
       "  X  destination series Afghanistan Albania Algeria American.Samoa Andorra\n",
       "1 10 Aruba       TFR    0           0       0       0              0      \n",
       "  Angola Anguilla ⋯ United.Kingdom United.States.of.America Uruguay Uzbekistan\n",
       "1 0      0        ⋯ 10882          838288                   2049    0         \n",
       "  Vanuatu Venezuela..Bolivarian.Republic.of Viet.Nam Yemen Zambia Zimbabwe\n",
       "1 0       14958                             0        0     0      0       "
      ]
     },
     "metadata": {},
     "output_type": "display_data"
    }
   ],
   "source": [
    "w<-14 ## window time \n",
    "time_0 <- as.Date(\"2022-04-30\")\n",
    "\n",
    "i<-3 # temp\n",
    "\n",
    "input %>% filter(location==country_list_sort[i]) %>% dplyr::select(pop2022) %>% distinct() %>% as.numeric() -> N_j\n",
    "flight_matrix %>% filter(destination==country_list_sort[i])\n",
    "\n",
    "# w/365*V_ij/N_j"
   ]
  },
  {
   "cell_type": "code",
   "execution_count": 107,
   "metadata": {},
   "outputs": [],
   "source": [
    "flight_matrix %>% filter(destination==country_list_sort[i]) %>% t() -> temp\n",
    "temp[4:nrow(temp),] %>% as.matrix() -> temp\n",
    "\n",
    "flight_list %>% as.matrix() -> flight_list_matrix\n",
    "cbind(temp, flight_list_matrix) %>% as.data.frame() %>% rename(value=V1, location=V2) %>%\n",
    "dplyr::select(location, value) -> V_ij_temp; rownames(V_ij_temp) <- NULL\n",
    "\n",
    "input %>% dplyr::select(location, pop2022) %>% distinct() -> N_j_temp\n",
    "\n",
    "merge(V_ij_temp, N_j_temp, by=c(\"location\"), all.x=TRUE) %>% na.omit() -> temp"
   ]
  },
  {
   "cell_type": "code",
   "execution_count": 118,
   "metadata": {},
   "outputs": [],
   "source": [
    "F_i_time_list <- list()\n",
    "\n",
    "for(g in 1:max(input$time)) {\n",
    "    input %>% filter(time==g) %>% dplyr::select(location, G_i) -> G_i_time\n",
    "    merge(temp, G_i_time, by=c(\"location\"), all.x=TRUE) -> temp_G_i_time\n",
    "    temp_G_i_time$G_i[is.na(temp_G_i_time$G_i)] <- 0\n",
    "    temp_G_i_time$value <- as.numeric(temp_G_i_time$value)\n",
    "    temp_G_i_time %>% mutate(F_i_t = w/365*value/pop2022*G_i, time=g) -> F_i_time_list[[g]]\n",
    "}"
   ]
  },
  {
   "cell_type": "code",
   "execution_count": 120,
   "metadata": {},
   "outputs": [
    {
     "data": {
      "text/html": [
       "<table class=\"dataframe\">\n",
       "<caption>A data.frame: 97 × 6</caption>\n",
       "<thead>\n",
       "\t<tr><th scope=col>location</th><th scope=col>value</th><th scope=col>pop2022</th><th scope=col>G_i</th><th scope=col>F_i_t</th><th scope=col>time</th></tr>\n",
       "\t<tr><th scope=col>&lt;chr&gt;</th><th scope=col>&lt;dbl&gt;</th><th scope=col>&lt;dbl&gt;</th><th scope=col>&lt;dbl&gt;</th><th scope=col>&lt;dbl&gt;</th><th scope=col>&lt;int&gt;</th></tr>\n",
       "</thead>\n",
       "<tbody>\n",
       "\t<tr><td>Andorra                          </td><td>    0</td><td>     79.824</td><td>0</td><td>0</td><td>3</td></tr>\n",
       "\t<tr><td>Argentina                        </td><td>15515</td><td>  45510.318</td><td>0</td><td>0</td><td>3</td></tr>\n",
       "\t<tr><td>Aruba                            </td><td>    0</td><td>    106.445</td><td>0</td><td>0</td><td>3</td></tr>\n",
       "\t<tr><td>Australia                        </td><td>    0</td><td>  26177.413</td><td>0</td><td>0</td><td>3</td></tr>\n",
       "\t<tr><td>Austria                          </td><td>  806</td><td>   8939.617</td><td>0</td><td>0</td><td>3</td></tr>\n",
       "\t<tr><td>Bahamas                          </td><td>    0</td><td>    409.984</td><td>0</td><td>0</td><td>3</td></tr>\n",
       "\t<tr><td>Bahrain                          </td><td>    0</td><td>   1472.233</td><td>0</td><td>0</td><td>3</td></tr>\n",
       "\t<tr><td>Barbados                         </td><td>    0</td><td>    281.635</td><td>0</td><td>0</td><td>3</td></tr>\n",
       "\t<tr><td>Belgium                          </td><td> 2349</td><td>  11655.930</td><td>0</td><td>0</td><td>3</td></tr>\n",
       "\t<tr><td>Benin                            </td><td>    0</td><td>  13352.864</td><td>0</td><td>0</td><td>3</td></tr>\n",
       "\t<tr><td>Bermuda                          </td><td>    0</td><td>     64.184</td><td>0</td><td>0</td><td>3</td></tr>\n",
       "\t<tr><td>Bolivia                          </td><td>    0</td><td>  12224.110</td><td>0</td><td>0</td><td>3</td></tr>\n",
       "\t<tr><td>Brazil                           </td><td>11323</td><td> 215313.498</td><td>0</td><td>0</td><td>3</td></tr>\n",
       "\t<tr><td>Bulgaria                         </td><td>    0</td><td>   6781.953</td><td>0</td><td>0</td><td>3</td></tr>\n",
       "\t<tr><td>Cameroon                         </td><td>    0</td><td>  27914.536</td><td>0</td><td>0</td><td>3</td></tr>\n",
       "\t<tr><td>Canada                           </td><td>52215</td><td>  38454.327</td><td>0</td><td>0</td><td>3</td></tr>\n",
       "\t<tr><td>Central African Republic         </td><td>    0</td><td>   5579.144</td><td>0</td><td>0</td><td>3</td></tr>\n",
       "\t<tr><td>Chile                            </td><td> 9518</td><td>  19603.733</td><td>0</td><td>0</td><td>3</td></tr>\n",
       "\t<tr><td>China                            </td><td>    0</td><td>1425887.337</td><td>0</td><td>0</td><td>3</td></tr>\n",
       "\t<tr><td>Colombia                         </td><td>32278</td><td>  51874.024</td><td>0</td><td>0</td><td>3</td></tr>\n",
       "\t<tr><td>Congo                            </td><td>    0</td><td>   5970.424</td><td>0</td><td>0</td><td>3</td></tr>\n",
       "\t<tr><td>Congo, Democratic Republic of the</td><td>    0</td><td>  99010.212</td><td>0</td><td>0</td><td>3</td></tr>\n",
       "\t<tr><td>Costa Rica                       </td><td>    0</td><td>   5180.829</td><td>0</td><td>0</td><td>3</td></tr>\n",
       "\t<tr><td>Croatia                          </td><td>    0</td><td>   4030.358</td><td>0</td><td>0</td><td>3</td></tr>\n",
       "\t<tr><td>Cuba                             </td><td>    0</td><td>  11212.191</td><td>0</td><td>0</td><td>3</td></tr>\n",
       "\t<tr><td>Cyprus                           </td><td>    0</td><td>   1251.488</td><td>0</td><td>0</td><td>3</td></tr>\n",
       "\t<tr><td>Czech Republic                   </td><td>    0</td><td>  10493.986</td><td>0</td><td>0</td><td>3</td></tr>\n",
       "\t<tr><td>Denmark                          </td><td>  543</td><td>   5882.261</td><td>0</td><td>0</td><td>3</td></tr>\n",
       "\t<tr><td>Dominican Republic               </td><td> 1336</td><td>  11228.821</td><td>0</td><td>0</td><td>3</td></tr>\n",
       "\t<tr><td>Ecuador                          </td><td> 1590</td><td>  18001.000</td><td>0</td><td>0</td><td>3</td></tr>\n",
       "\t<tr><td>⋮</td><td>⋮</td><td>⋮</td><td>⋮</td><td>⋮</td><td>⋮</td></tr>\n",
       "\t<tr><td>New Zealand                      </td><td>     0</td><td>  5185.288</td><td>0</td><td>0</td><td>3</td></tr>\n",
       "\t<tr><td>Nigeria                          </td><td>     0</td><td>218541.212</td><td>0</td><td>0</td><td>3</td></tr>\n",
       "\t<tr><td>Norway                           </td><td>  1123</td><td>  5434.319</td><td>0</td><td>0</td><td>3</td></tr>\n",
       "\t<tr><td>Panama                           </td><td>     0</td><td>  4408.581</td><td>0</td><td>0</td><td>3</td></tr>\n",
       "\t<tr><td>Paraguay                         </td><td>  2110</td><td>  6780.744</td><td>0</td><td>0</td><td>3</td></tr>\n",
       "\t<tr><td>Peru                             </td><td>  5312</td><td> 34049.588</td><td>0</td><td>0</td><td>3</td></tr>\n",
       "\t<tr><td>Philippines                      </td><td>     0</td><td>115559.009</td><td>0</td><td>0</td><td>3</td></tr>\n",
       "\t<tr><td>Poland                           </td><td>     0</td><td> 39857.145</td><td>0</td><td>0</td><td>3</td></tr>\n",
       "\t<tr><td>Portugal                         </td><td>   501</td><td> 10270.865</td><td>0</td><td>0</td><td>3</td></tr>\n",
       "\t<tr><td>Puerto Rico                      </td><td>    81</td><td>  3252.407</td><td>0</td><td>0</td><td>3</td></tr>\n",
       "\t<tr><td>Qatar                            </td><td>     0</td><td>  2695.122</td><td>0</td><td>0</td><td>3</td></tr>\n",
       "\t<tr><td>Romania                          </td><td>     0</td><td> 19659.267</td><td>0</td><td>0</td><td>3</td></tr>\n",
       "\t<tr><td>Russian Federation               </td><td>   563</td><td>144713.314</td><td>0</td><td>0</td><td>3</td></tr>\n",
       "\t<tr><td>Saudi Arabia                     </td><td>     0</td><td> 36408.820</td><td>0</td><td>0</td><td>3</td></tr>\n",
       "\t<tr><td>Serbia                           </td><td>     0</td><td>  7221.365</td><td>0</td><td>0</td><td>3</td></tr>\n",
       "\t<tr><td>Singapore                        </td><td>     0</td><td>  5975.689</td><td>0</td><td>0</td><td>3</td></tr>\n",
       "\t<tr><td>Slovakia                         </td><td>     0</td><td>  5643.453</td><td>0</td><td>0</td><td>3</td></tr>\n",
       "\t<tr><td>Slovenia                         </td><td>     0</td><td>  2119.844</td><td>0</td><td>0</td><td>3</td></tr>\n",
       "\t<tr><td>South Africa                     </td><td>     0</td><td> 59893.885</td><td>0</td><td>0</td><td>3</td></tr>\n",
       "\t<tr><td>Spain                            </td><td>  1895</td><td> 47558.630</td><td>0</td><td>0</td><td>3</td></tr>\n",
       "\t<tr><td>Sweden                           </td><td>  5142</td><td> 10549.347</td><td>0</td><td>0</td><td>3</td></tr>\n",
       "\t<tr><td>Switzerland                      </td><td>  2158</td><td>  8740.472</td><td>0</td><td>0</td><td>3</td></tr>\n",
       "\t<tr><td>Thailand                         </td><td>     0</td><td> 71697.030</td><td>0</td><td>0</td><td>3</td></tr>\n",
       "\t<tr><td>Turkey                           </td><td>     0</td><td> 85341.241</td><td>0</td><td>0</td><td>3</td></tr>\n",
       "\t<tr><td>Ukraine                          </td><td>     0</td><td> 39701.739</td><td>0</td><td>0</td><td>3</td></tr>\n",
       "\t<tr><td>United Arab Emirates             </td><td>     0</td><td>  9441.129</td><td>0</td><td>0</td><td>3</td></tr>\n",
       "\t<tr><td>United Kingdom                   </td><td> 10882</td><td> 67508.936</td><td>0</td><td>0</td><td>3</td></tr>\n",
       "\t<tr><td>United States of America         </td><td>838288</td><td>338289.857</td><td>0</td><td>0</td><td>3</td></tr>\n",
       "\t<tr><td>Uruguay                          </td><td>  2049</td><td>  3422.794</td><td>0</td><td>0</td><td>3</td></tr>\n",
       "\t<tr><td>Venezuela, Bolivarian Republic of</td><td> 14958</td><td> 28301.696</td><td>0</td><td>0</td><td>3</td></tr>\n",
       "</tbody>\n",
       "</table>\n"
      ],
      "text/latex": [
       "A data.frame: 97 × 6\n",
       "\\begin{tabular}{llllll}\n",
       " location & value & pop2022 & G\\_i & F\\_i\\_t & time\\\\\n",
       " <chr> & <dbl> & <dbl> & <dbl> & <dbl> & <int>\\\\\n",
       "\\hline\n",
       "\t Andorra                           &     0 &      79.824 & 0 & 0 & 3\\\\\n",
       "\t Argentina                         & 15515 &   45510.318 & 0 & 0 & 3\\\\\n",
       "\t Aruba                             &     0 &     106.445 & 0 & 0 & 3\\\\\n",
       "\t Australia                         &     0 &   26177.413 & 0 & 0 & 3\\\\\n",
       "\t Austria                           &   806 &    8939.617 & 0 & 0 & 3\\\\\n",
       "\t Bahamas                           &     0 &     409.984 & 0 & 0 & 3\\\\\n",
       "\t Bahrain                           &     0 &    1472.233 & 0 & 0 & 3\\\\\n",
       "\t Barbados                          &     0 &     281.635 & 0 & 0 & 3\\\\\n",
       "\t Belgium                           &  2349 &   11655.930 & 0 & 0 & 3\\\\\n",
       "\t Benin                             &     0 &   13352.864 & 0 & 0 & 3\\\\\n",
       "\t Bermuda                           &     0 &      64.184 & 0 & 0 & 3\\\\\n",
       "\t Bolivia                           &     0 &   12224.110 & 0 & 0 & 3\\\\\n",
       "\t Brazil                            & 11323 &  215313.498 & 0 & 0 & 3\\\\\n",
       "\t Bulgaria                          &     0 &    6781.953 & 0 & 0 & 3\\\\\n",
       "\t Cameroon                          &     0 &   27914.536 & 0 & 0 & 3\\\\\n",
       "\t Canada                            & 52215 &   38454.327 & 0 & 0 & 3\\\\\n",
       "\t Central African Republic          &     0 &    5579.144 & 0 & 0 & 3\\\\\n",
       "\t Chile                             &  9518 &   19603.733 & 0 & 0 & 3\\\\\n",
       "\t China                             &     0 & 1425887.337 & 0 & 0 & 3\\\\\n",
       "\t Colombia                          & 32278 &   51874.024 & 0 & 0 & 3\\\\\n",
       "\t Congo                             &     0 &    5970.424 & 0 & 0 & 3\\\\\n",
       "\t Congo, Democratic Republic of the &     0 &   99010.212 & 0 & 0 & 3\\\\\n",
       "\t Costa Rica                        &     0 &    5180.829 & 0 & 0 & 3\\\\\n",
       "\t Croatia                           &     0 &    4030.358 & 0 & 0 & 3\\\\\n",
       "\t Cuba                              &     0 &   11212.191 & 0 & 0 & 3\\\\\n",
       "\t Cyprus                            &     0 &    1251.488 & 0 & 0 & 3\\\\\n",
       "\t Czech Republic                    &     0 &   10493.986 & 0 & 0 & 3\\\\\n",
       "\t Denmark                           &   543 &    5882.261 & 0 & 0 & 3\\\\\n",
       "\t Dominican Republic                &  1336 &   11228.821 & 0 & 0 & 3\\\\\n",
       "\t Ecuador                           &  1590 &   18001.000 & 0 & 0 & 3\\\\\n",
       "\t ⋮ & ⋮ & ⋮ & ⋮ & ⋮ & ⋮\\\\\n",
       "\t New Zealand                       &      0 &   5185.288 & 0 & 0 & 3\\\\\n",
       "\t Nigeria                           &      0 & 218541.212 & 0 & 0 & 3\\\\\n",
       "\t Norway                            &   1123 &   5434.319 & 0 & 0 & 3\\\\\n",
       "\t Panama                            &      0 &   4408.581 & 0 & 0 & 3\\\\\n",
       "\t Paraguay                          &   2110 &   6780.744 & 0 & 0 & 3\\\\\n",
       "\t Peru                              &   5312 &  34049.588 & 0 & 0 & 3\\\\\n",
       "\t Philippines                       &      0 & 115559.009 & 0 & 0 & 3\\\\\n",
       "\t Poland                            &      0 &  39857.145 & 0 & 0 & 3\\\\\n",
       "\t Portugal                          &    501 &  10270.865 & 0 & 0 & 3\\\\\n",
       "\t Puerto Rico                       &     81 &   3252.407 & 0 & 0 & 3\\\\\n",
       "\t Qatar                             &      0 &   2695.122 & 0 & 0 & 3\\\\\n",
       "\t Romania                           &      0 &  19659.267 & 0 & 0 & 3\\\\\n",
       "\t Russian Federation                &    563 & 144713.314 & 0 & 0 & 3\\\\\n",
       "\t Saudi Arabia                      &      0 &  36408.820 & 0 & 0 & 3\\\\\n",
       "\t Serbia                            &      0 &   7221.365 & 0 & 0 & 3\\\\\n",
       "\t Singapore                         &      0 &   5975.689 & 0 & 0 & 3\\\\\n",
       "\t Slovakia                          &      0 &   5643.453 & 0 & 0 & 3\\\\\n",
       "\t Slovenia                          &      0 &   2119.844 & 0 & 0 & 3\\\\\n",
       "\t South Africa                      &      0 &  59893.885 & 0 & 0 & 3\\\\\n",
       "\t Spain                             &   1895 &  47558.630 & 0 & 0 & 3\\\\\n",
       "\t Sweden                            &   5142 &  10549.347 & 0 & 0 & 3\\\\\n",
       "\t Switzerland                       &   2158 &   8740.472 & 0 & 0 & 3\\\\\n",
       "\t Thailand                          &      0 &  71697.030 & 0 & 0 & 3\\\\\n",
       "\t Turkey                            &      0 &  85341.241 & 0 & 0 & 3\\\\\n",
       "\t Ukraine                           &      0 &  39701.739 & 0 & 0 & 3\\\\\n",
       "\t United Arab Emirates              &      0 &   9441.129 & 0 & 0 & 3\\\\\n",
       "\t United Kingdom                    &  10882 &  67508.936 & 0 & 0 & 3\\\\\n",
       "\t United States of America          & 838288 & 338289.857 & 0 & 0 & 3\\\\\n",
       "\t Uruguay                           &   2049 &   3422.794 & 0 & 0 & 3\\\\\n",
       "\t Venezuela, Bolivarian Republic of &  14958 &  28301.696 & 0 & 0 & 3\\\\\n",
       "\\end{tabular}\n"
      ],
      "text/markdown": [
       "\n",
       "A data.frame: 97 × 6\n",
       "\n",
       "| location &lt;chr&gt; | value &lt;dbl&gt; | pop2022 &lt;dbl&gt; | G_i &lt;dbl&gt; | F_i_t &lt;dbl&gt; | time &lt;int&gt; |\n",
       "|---|---|---|---|---|---|\n",
       "| Andorra                           |     0 |      79.824 | 0 | 0 | 3 |\n",
       "| Argentina                         | 15515 |   45510.318 | 0 | 0 | 3 |\n",
       "| Aruba                             |     0 |     106.445 | 0 | 0 | 3 |\n",
       "| Australia                         |     0 |   26177.413 | 0 | 0 | 3 |\n",
       "| Austria                           |   806 |    8939.617 | 0 | 0 | 3 |\n",
       "| Bahamas                           |     0 |     409.984 | 0 | 0 | 3 |\n",
       "| Bahrain                           |     0 |    1472.233 | 0 | 0 | 3 |\n",
       "| Barbados                          |     0 |     281.635 | 0 | 0 | 3 |\n",
       "| Belgium                           |  2349 |   11655.930 | 0 | 0 | 3 |\n",
       "| Benin                             |     0 |   13352.864 | 0 | 0 | 3 |\n",
       "| Bermuda                           |     0 |      64.184 | 0 | 0 | 3 |\n",
       "| Bolivia                           |     0 |   12224.110 | 0 | 0 | 3 |\n",
       "| Brazil                            | 11323 |  215313.498 | 0 | 0 | 3 |\n",
       "| Bulgaria                          |     0 |    6781.953 | 0 | 0 | 3 |\n",
       "| Cameroon                          |     0 |   27914.536 | 0 | 0 | 3 |\n",
       "| Canada                            | 52215 |   38454.327 | 0 | 0 | 3 |\n",
       "| Central African Republic          |     0 |    5579.144 | 0 | 0 | 3 |\n",
       "| Chile                             |  9518 |   19603.733 | 0 | 0 | 3 |\n",
       "| China                             |     0 | 1425887.337 | 0 | 0 | 3 |\n",
       "| Colombia                          | 32278 |   51874.024 | 0 | 0 | 3 |\n",
       "| Congo                             |     0 |    5970.424 | 0 | 0 | 3 |\n",
       "| Congo, Democratic Republic of the |     0 |   99010.212 | 0 | 0 | 3 |\n",
       "| Costa Rica                        |     0 |    5180.829 | 0 | 0 | 3 |\n",
       "| Croatia                           |     0 |    4030.358 | 0 | 0 | 3 |\n",
       "| Cuba                              |     0 |   11212.191 | 0 | 0 | 3 |\n",
       "| Cyprus                            |     0 |    1251.488 | 0 | 0 | 3 |\n",
       "| Czech Republic                    |     0 |   10493.986 | 0 | 0 | 3 |\n",
       "| Denmark                           |   543 |    5882.261 | 0 | 0 | 3 |\n",
       "| Dominican Republic                |  1336 |   11228.821 | 0 | 0 | 3 |\n",
       "| Ecuador                           |  1590 |   18001.000 | 0 | 0 | 3 |\n",
       "| ⋮ | ⋮ | ⋮ | ⋮ | ⋮ | ⋮ |\n",
       "| New Zealand                       |      0 |   5185.288 | 0 | 0 | 3 |\n",
       "| Nigeria                           |      0 | 218541.212 | 0 | 0 | 3 |\n",
       "| Norway                            |   1123 |   5434.319 | 0 | 0 | 3 |\n",
       "| Panama                            |      0 |   4408.581 | 0 | 0 | 3 |\n",
       "| Paraguay                          |   2110 |   6780.744 | 0 | 0 | 3 |\n",
       "| Peru                              |   5312 |  34049.588 | 0 | 0 | 3 |\n",
       "| Philippines                       |      0 | 115559.009 | 0 | 0 | 3 |\n",
       "| Poland                            |      0 |  39857.145 | 0 | 0 | 3 |\n",
       "| Portugal                          |    501 |  10270.865 | 0 | 0 | 3 |\n",
       "| Puerto Rico                       |     81 |   3252.407 | 0 | 0 | 3 |\n",
       "| Qatar                             |      0 |   2695.122 | 0 | 0 | 3 |\n",
       "| Romania                           |      0 |  19659.267 | 0 | 0 | 3 |\n",
       "| Russian Federation                |    563 | 144713.314 | 0 | 0 | 3 |\n",
       "| Saudi Arabia                      |      0 |  36408.820 | 0 | 0 | 3 |\n",
       "| Serbia                            |      0 |   7221.365 | 0 | 0 | 3 |\n",
       "| Singapore                         |      0 |   5975.689 | 0 | 0 | 3 |\n",
       "| Slovakia                          |      0 |   5643.453 | 0 | 0 | 3 |\n",
       "| Slovenia                          |      0 |   2119.844 | 0 | 0 | 3 |\n",
       "| South Africa                      |      0 |  59893.885 | 0 | 0 | 3 |\n",
       "| Spain                             |   1895 |  47558.630 | 0 | 0 | 3 |\n",
       "| Sweden                            |   5142 |  10549.347 | 0 | 0 | 3 |\n",
       "| Switzerland                       |   2158 |   8740.472 | 0 | 0 | 3 |\n",
       "| Thailand                          |      0 |  71697.030 | 0 | 0 | 3 |\n",
       "| Turkey                            |      0 |  85341.241 | 0 | 0 | 3 |\n",
       "| Ukraine                           |      0 |  39701.739 | 0 | 0 | 3 |\n",
       "| United Arab Emirates              |      0 |   9441.129 | 0 | 0 | 3 |\n",
       "| United Kingdom                    |  10882 |  67508.936 | 0 | 0 | 3 |\n",
       "| United States of America          | 838288 | 338289.857 | 0 | 0 | 3 |\n",
       "| Uruguay                           |   2049 |   3422.794 | 0 | 0 | 3 |\n",
       "| Venezuela, Bolivarian Republic of |  14958 |  28301.696 | 0 | 0 | 3 |\n",
       "\n"
      ],
      "text/plain": [
       "   location                          value  pop2022     G_i F_i_t time\n",
       "1  Andorra                               0       79.824 0   0     3   \n",
       "2  Argentina                         15515    45510.318 0   0     3   \n",
       "3  Aruba                                 0      106.445 0   0     3   \n",
       "4  Australia                             0    26177.413 0   0     3   \n",
       "5  Austria                             806     8939.617 0   0     3   \n",
       "6  Bahamas                               0      409.984 0   0     3   \n",
       "7  Bahrain                               0     1472.233 0   0     3   \n",
       "8  Barbados                              0      281.635 0   0     3   \n",
       "9  Belgium                            2349    11655.930 0   0     3   \n",
       "10 Benin                                 0    13352.864 0   0     3   \n",
       "11 Bermuda                               0       64.184 0   0     3   \n",
       "12 Bolivia                               0    12224.110 0   0     3   \n",
       "13 Brazil                            11323   215313.498 0   0     3   \n",
       "14 Bulgaria                              0     6781.953 0   0     3   \n",
       "15 Cameroon                              0    27914.536 0   0     3   \n",
       "16 Canada                            52215    38454.327 0   0     3   \n",
       "17 Central African Republic              0     5579.144 0   0     3   \n",
       "18 Chile                              9518    19603.733 0   0     3   \n",
       "19 China                                 0  1425887.337 0   0     3   \n",
       "20 Colombia                          32278    51874.024 0   0     3   \n",
       "21 Congo                                 0     5970.424 0   0     3   \n",
       "22 Congo, Democratic Republic of the     0    99010.212 0   0     3   \n",
       "23 Costa Rica                            0     5180.829 0   0     3   \n",
       "24 Croatia                               0     4030.358 0   0     3   \n",
       "25 Cuba                                  0    11212.191 0   0     3   \n",
       "26 Cyprus                                0     1251.488 0   0     3   \n",
       "27 Czech Republic                        0    10493.986 0   0     3   \n",
       "28 Denmark                             543     5882.261 0   0     3   \n",
       "29 Dominican Republic                 1336    11228.821 0   0     3   \n",
       "30 Ecuador                            1590    18001.000 0   0     3   \n",
       "⋮  ⋮                                 ⋮      ⋮           ⋮   ⋮     ⋮   \n",
       "68 New Zealand                            0   5185.288  0   0     3   \n",
       "69 Nigeria                                0 218541.212  0   0     3   \n",
       "70 Norway                              1123   5434.319  0   0     3   \n",
       "71 Panama                                 0   4408.581  0   0     3   \n",
       "72 Paraguay                            2110   6780.744  0   0     3   \n",
       "73 Peru                                5312  34049.588  0   0     3   \n",
       "74 Philippines                            0 115559.009  0   0     3   \n",
       "75 Poland                                 0  39857.145  0   0     3   \n",
       "76 Portugal                             501  10270.865  0   0     3   \n",
       "77 Puerto Rico                           81   3252.407  0   0     3   \n",
       "78 Qatar                                  0   2695.122  0   0     3   \n",
       "79 Romania                                0  19659.267  0   0     3   \n",
       "80 Russian Federation                   563 144713.314  0   0     3   \n",
       "81 Saudi Arabia                           0  36408.820  0   0     3   \n",
       "82 Serbia                                 0   7221.365  0   0     3   \n",
       "83 Singapore                              0   5975.689  0   0     3   \n",
       "84 Slovakia                               0   5643.453  0   0     3   \n",
       "85 Slovenia                               0   2119.844  0   0     3   \n",
       "86 South Africa                           0  59893.885  0   0     3   \n",
       "87 Spain                               1895  47558.630  0   0     3   \n",
       "88 Sweden                              5142  10549.347  0   0     3   \n",
       "89 Switzerland                         2158   8740.472  0   0     3   \n",
       "90 Thailand                               0  71697.030  0   0     3   \n",
       "91 Turkey                                 0  85341.241  0   0     3   \n",
       "92 Ukraine                                0  39701.739  0   0     3   \n",
       "93 United Arab Emirates                   0   9441.129  0   0     3   \n",
       "94 United Kingdom                     10882  67508.936  0   0     3   \n",
       "95 United States of America          838288 338289.857  0   0     3   \n",
       "96 Uruguay                             2049   3422.794  0   0     3   \n",
       "97 Venezuela, Bolivarian Republic of  14958  28301.696  0   0     3   "
      ]
     },
     "metadata": {},
     "output_type": "display_data"
    }
   ],
   "source": [
    "F_i_time_list[[3]]"
   ]
  },
  {
   "cell_type": "code",
   "execution_count": null,
   "metadata": {},
   "outputs": [],
   "source": []
  },
  {
   "cell_type": "code",
   "execution_count": null,
   "metadata": {},
   "outputs": [],
   "source": []
  },
  {
   "cell_type": "code",
   "execution_count": null,
   "metadata": {},
   "outputs": [],
   "source": []
  },
  {
   "cell_type": "code",
   "execution_count": 2,
   "metadata": {},
   "outputs": [
    {
     "data": {
      "text/html": [
       "1.01014492753623"
      ],
      "text/latex": [
       "1.01014492753623"
      ],
      "text/markdown": [
       "1.01014492753623"
      ],
      "text/plain": [
       "[1] 1.010145"
      ]
     },
     "metadata": {},
     "output_type": "display_data"
    },
    {
     "data": {
      "text/html": [
       "1.04468085106383"
      ],
      "text/latex": [
       "1.04468085106383"
      ],
      "text/markdown": [
       "1.04468085106383"
      ],
      "text/plain": [
       "[1] 1.044681"
      ]
     },
     "metadata": {},
     "output_type": "display_data"
    },
    {
     "data": {
      "text/html": [
       "1.05903614457831"
      ],
      "text/latex": [
       "1.05903614457831"
      ],
      "text/markdown": [
       "1.05903614457831"
      ],
      "text/plain": [
       "[1] 1.059036"
      ]
     },
     "metadata": {},
     "output_type": "display_data"
    }
   ],
   "source": [
    "r=0.01\n",
    "(1+1.3*r*3.5)/(1+r*3.5)\n",
    "\n",
    "r=0.05\n",
    "(1+1.3*r*3.5)/(1+r*3.5)\n",
    "\n",
    "r=0.07\n",
    "(1+1.3*r*3.5)/(1+r*3.5)"
   ]
  },
  {
   "cell_type": "code",
   "execution_count": null,
   "metadata": {},
   "outputs": [],
   "source": []
  }
 ],
 "metadata": {
  "kernelspec": {
   "display_name": "R",
   "language": "R",
   "name": "ir"
  },
  "language_info": {
   "codemirror_mode": "r",
   "file_extension": ".r",
   "mimetype": "text/x-r-source",
   "name": "R",
   "pygments_lexer": "r",
   "version": "4.1.3"
  }
 },
 "nbformat": 4,
 "nbformat_minor": 4
}
