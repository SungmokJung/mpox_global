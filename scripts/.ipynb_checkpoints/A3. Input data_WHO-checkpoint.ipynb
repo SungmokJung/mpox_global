{
 "cells": [
  {
   "cell_type": "code",
   "execution_count": 24,
   "metadata": {},
   "outputs": [],
   "source": [
    "libraries = c(\"dplyr\", \"tidyverse\", \"ggpubr\")\n",
    "for(x in libraries) {library(x,character.only=TRUE,warn.conflicts=FALSE,quietly=TRUE)}\n",
    "\n",
    "theme_set(theme_bw())"
   ]
  },
  {
   "cell_type": "code",
   "execution_count": 25,
   "metadata": {},
   "outputs": [],
   "source": [
    "read.csv(\"../data/df_inci_final_WHO.csv\") -> df_inci\n",
    "read.csv(\"../data/SAR_cip_Reff_excess.csv\") -> df_Reff\n",
    "read.csv(\"../data/flight/flight_matrix.csv\") -> flight_matrix"
   ]
  },
  {
   "cell_type": "code",
   "execution_count": 52,
   "metadata": {},
   "outputs": [],
   "source": [
    "## fixed parameters\n",
    "w <- 14\n",
    "SAR <- 0.1\n",
    "time_0 <- as.Date(\"2022-04-17\")\n",
    "time_end <- as.Date(\"2022-10-01\")"
   ]
  },
  {
   "cell_type": "code",
   "execution_count": 27,
   "metadata": {},
   "outputs": [],
   "source": [
    "## extrapolating Reff_i\n",
    "merge(df_inci %>% dplyr::select(cum_icni_prop) %>% rename(Infections=cum_icni_prop), \n",
    "      df_Reff %>% dplyr::select(Infections, Excess), by=c(\"Infections\"), all.x=TRUE) %>% \n",
    "arrange(Infections) %>% distinct() -> temp_df_Reff\n",
    "temp_df_Reff[rowSums(is.na(temp_df_Reff))>0,] -> temp_df_Reff_NA\n",
    "\n",
    "for(i in 1:nrow(temp_df_Reff_NA)){\n",
    "    c(min(df_Reff$Infections[which(df_Reff$Infections>temp_df_Reff_NA$Infections[i])]),\n",
    "      min(df_Reff$Infections[which(df_Reff$Infections<temp_df_Reff_NA$Infections[i])])) -> two_val\n",
    "    \n",
    "sort(two_val) -> two_val\n",
    "    \n",
    "df_Reff %>% filter(Infections >= two_val[1] & Infections <= two_val[2]) %>% dplyr::select(Infections, Excess) -> temp\n",
    "approx(temp$Infections, temp$Excess, \n",
    "       xout = temp_df_Reff_NA$Infections[i], method=\"linear\")$y -> temp_df_Reff_NA[i,2]\n",
    "}\n",
    "\n",
    "temp_df_Reff_NA %<>% mutate(X=NA, SAR=NA, Reff_1=NA, Reff_2=NA, n=NA) %>% \n",
    "dplyr::select(X, SAR, Infections, Reff_1, Reff_2, Excess, n)\n",
    "\n",
    "rbind(df_Reff, temp_df_Reff_NA) %>% arrange(Infections) -> df_Reff_extra"
   ]
  },
  {
   "cell_type": "code",
   "execution_count": 53,
   "metadata": {},
   "outputs": [],
   "source": [
    "## Reff_i & G_i\n",
    "merge(df_inci, df_Reff_extra %>% dplyr::select(Infections, Excess) %>% rename(cum_icni_prop=Infections),\n",
    "      by=c(\"cum_icni_prop\"), all.x=TRUE) %>% \n",
    "mutate(Reff_i=Excess*SAR, G_i=Reff_i*MA_new_cases) %>% dplyr::select(-c(\"Excess\")) %>%\n",
    "mutate(location=case_when(location==c(\"Democratic Republic of the Congo\")~c(\"Congo, Democratic Republic of the\"),\n",
    "                          location==c(\"Curaçao\")~c(\"Curacao\"),\n",
    "                          location==c(\"Czechia\")~c(\"Czech Republic\"),\n",
    "                          location==c(\"Türkiye\")~c(\"Turkey\"),\n",
    "                          location==c(\"Iran\")~c(\"Iran, Islamic Republic of\"),\n",
    "                          location==c(\"Republic of Korea\")~c(\"Korea, Republic of\"),\n",
    "                          location==c(\"United States\")~c(\"United States of America\"),\n",
    "                          location==c(\"Venezuela (Bolivarian Republic of)\")~c(\"Venezuela, Bolivarian Republic of\"),\n",
    "                          location==c(\"Republic of Moldova\")~c(\"Moldova, Republic of\"),\n",
    "                          location==c(\"Russia\")~c(\"Russian Federation\"),\n",
    "                          location==c(\"Bolivia\")~c(\"Bolivia, Plurinational State of\"),\n",
    "                          location==c(\"Hong Kong\")~c(\"Hong Kong, China\"),\n",
    "                          location==c(\"Republic of Congo\") ~ c(\"Congo\"),\n",
    "                          location==c(\"Bosnia And Herzegovina\") ~ c(\"Bosnia and Herzegovina\"),\n",
    "                          location==c(\"The United Kingdom\") ~c(\"United Kingdom\"),\n",
    "                          TRUE~location)) %>%\n",
    "filter(!(location %in% c(\"Gibraltar\", \"Guadeloupe\", \"Greenland\", \"Saint Martin\"))) -> input\n",
    "\n",
    "as.Date(input$date) -> input$date\n",
    "input %>% mutate(time=as.numeric(date-time_0), censoring=0) %>% arrange(date) %>% dplyr::select(-X) -> input"
   ]
  },
  {
   "cell_type": "code",
   "execution_count": 54,
   "metadata": {},
   "outputs": [],
   "source": [
    "## calculating Reff_i & G_i in countries without any imported case\n",
    "path <- \"../data/flight/all_region/\"; list.files(path = path, pattern = \"*xlsx\") -> file_list\n",
    "substr(file_list,1,nchar(file_list)-5) -> flight_list\n",
    "unique(input$location) -> country_list\n",
    "sort(flight_list) -> flight_list_sort; sort(country_list) -> country_list_sort\n",
    "\n",
    "setdiff(flight_matrix$destination, country_list_sort) -> country_no_list_sort\n",
    "sort(country_no_list_sort) -> country_no_list_sort\n",
    "\n",
    "as.data.frame(country_no_list_sort) %>% rename(location=country_no_list_sort) -> country_no_import\n",
    "\n",
    "read.csv(\"../data/MSM_pop/df_MSM_imputed.csv\") %>%\n",
    "mutate(location=case_when(location==c(\"Côte d\\'Ivoire\")~c(\"Cote d'Ivoire\"),\n",
    "                          location==c(\"Macao\")~c(\"Macao, China\"),\n",
    "                          location==c(\"Micronesia (Federated States of)\")~c(\"Micronesia, Federated States of\"),\n",
    "                          location==c(\"Saint Vincent and the Grenadines\")~c(\"Saint Vincent and The Grenadines\"),\n",
    "                          location==c(\"Virgin Islands (U.S.)\")~c(\"United States Virgin Islands\"),\n",
    "                          location==c(\"Réunion\")~c(\"Reunion\"),\n",
    "                          TRUE~location)) -> df_MSM_imputed\n",
    "\n",
    "merge(country_no_import, df_MSM_imputed %>% dplyr::select(location, iso_code, imputed, pop2022, region, sub_region), \n",
    "      by=c(\"location\"), all.x=TRUE) -> country_no_import_pop\n",
    "\n",
    "df_inci_no_list <- list()\n",
    "\n",
    "as.data.frame(seq(min(input$date), max(input$date),1)) -> temp_cal\n",
    "colnames(temp_cal) <- c(\"date\")\n",
    "unique(country_no_import_pop$location) -> no_list\n",
    "\n",
    "for(i in 1:length(no_list)){\n",
    "    country_no_import_pop %>% filter(location==no_list[i]) %>% mutate(date=min(input$date))-> temp_inci\n",
    "    merge(temp_cal, temp_inci, by=c(\"date\"), all.x=TRUE) %>% \n",
    "    mutate(new_cases=NA, total_cases=NA, MA_new_cases=NA, MA_total_cases=NA, \n",
    "           date_import=NA, Reff_i=NA, G_i=NA, cum_icni_prop=NA) -> temp_inci_all\n",
    "\n",
    "    temp_inci_all$location[is.na(temp_inci_all$location)] <- unique(temp_inci$location)\n",
    "    temp_inci_all$iso_code[is.na(temp_inci_all$iso_code)] <- unique(temp_inci$iso_code)\n",
    "    temp_inci_all$region[is.na(temp_inci_all$region)] <- unique(temp_inci$region)\n",
    "    temp_inci_all$sub_region[is.na(temp_inci_all$sub_region)] <- unique(temp_inci$sub_region)\n",
    "    temp_inci_all$new_cases[is.na(temp_inci_all$new_cases)] <- 0\n",
    "    temp_inci_all$total_cases[is.na(temp_inci_all$total_cases)] <- 0\n",
    "    temp_inci_all$MA_new_cases[is.na(temp_inci_all$MA_new_cases)] <- 0\n",
    "    temp_inci_all$MA_total_cases[is.na(temp_inci_all$MA_total_cases)] <- 0\n",
    "    temp_inci_all$Reff_i[is.na(temp_inci_all$Reff_i)] <- 0\n",
    "    temp_inci_all$G_i[is.na(temp_inci_all$G_i)] <- 0\n",
    "    temp_inci_all$cum_icni_prop[is.na(temp_inci_all$cum_icni_prop)] <- 0\n",
    "    temp_inci_all$pop2022[is.na(temp_inci_all$pop2022)] <- unique(temp_inci$pop2022)\n",
    "    temp_inci_all$imputed[is.na(temp_inci_all$imputed)] <- unique(temp_inci$imputed)\n",
    "    \n",
    "    temp_inci_all %>% dplyr::select(iso_code, location, date, new_cases, total_cases, \n",
    "                                    MA_new_cases, MA_total_cases, date_import, \n",
    "                                    imputed, pop2022, region, sub_region, cum_icni_prop, Reff_i, G_i) %>%\n",
    "    rename(MSM_pop=imputed) -> temp_inci_all\n",
    "\n",
    "    temp_inci_all -> df_inci_no_list[[i]]    \n",
    "}\n",
    "\n",
    "do.call(\"rbind\", df_inci_no_list) %>% as.data.frame() %>% arrange(location, date) %>%\n",
    "mutate(time=as.numeric(date-time_0), censoring=1) -> input_no"
   ]
  },
  {
   "cell_type": "code",
   "execution_count": 55,
   "metadata": {},
   "outputs": [
    {
     "data": {
      "text/html": [
       "<table class=\"dataframe\">\n",
       "<caption>A data.frame: 0 × 1</caption>\n",
       "<thead>\n",
       "\t<tr><th scope=col>location</th></tr>\n",
       "\t<tr><th scope=col>&lt;chr&gt;</th></tr>\n",
       "</thead>\n",
       "<tbody>\n",
       "</tbody>\n",
       "</table>\n"
      ],
      "text/latex": [
       "A data.frame: 0 × 1\n",
       "\\begin{tabular}{l}\n",
       " location\\\\\n",
       " <chr>\\\\\n",
       "\\hline\n",
       "\\end{tabular}\n"
      ],
      "text/markdown": [
       "\n",
       "A data.frame: 0 × 1\n",
       "\n",
       "| location &lt;chr&gt; |\n",
       "|---|\n",
       "\n"
      ],
      "text/plain": [
       "     location"
      ]
     },
     "metadata": {},
     "output_type": "display_data"
    }
   ],
   "source": [
    "rbind(input, input_no) -> input_all\n",
    "input_all %>% filter(!(location %in% c(\"Hong Kong, China\"))) %>%\n",
    "filter(date >= time_end) -> input_all ## no Hong Kong data in the WHO\n",
    "input_all %>% filter(is.na(pop2022)) %>% dplyr::select(location) %>% unique()"
   ]
  },
  {
   "cell_type": "code",
   "execution_count": 56,
   "metadata": {},
   "outputs": [
    {
     "data": {
      "text/html": [],
      "text/latex": [],
      "text/markdown": [],
      "text/plain": [
       "character(0)"
      ]
     },
     "metadata": {},
     "output_type": "display_data"
    }
   ],
   "source": [
    "## calculating F_i\n",
    "path <- \"../data/flight/all_region/\"; list.files(path = path, pattern = \"*xlsx\") -> file_list\n",
    "substr(file_list,1,nchar(file_list)-5) -> flight_list\n",
    "unique(input_all$location) -> country_list\n",
    "country_list <- country_list[!country_list %in% c(\"Sudan\", \"Ghana\", \"Liberia\", \"Congo\", \"Nigeria\" ,\n",
    "                                                  \"Congo, Democratic Republic of the\",\n",
    "                                                  \"Venezuela, Bolivarian Republic of\", \"South Sudan\", \n",
    "                                                  \"Taiwan\")]\n",
    "sort(flight_list) -> flight_list_sort; sort(country_list) -> country_list_sort\n",
    "setdiff(country_list_sort, flight_matrix$destination)"
   ]
  },
  {
   "cell_type": "code",
   "execution_count": null,
   "metadata": {},
   "outputs": [],
   "source": [
    "F_i_country <- list(); F_i_time_list <- list()\n",
    "\n",
    "for(i in 1:length(country_list_sort)){\n",
    "    flight_matrix %>% filter(destination==country_list_sort[i]) %>% t() -> temp\n",
    "    temp[4:nrow(temp),] %>% as.matrix() -> temp\n",
    "\n",
    "    flight_list %>% as.matrix() -> flight_list_matrix\n",
    "    cbind(temp, flight_list_matrix) %>% as.data.frame() %>% rename(value=V1, location=V2) -> V_ij_temp\n",
    "    rownames(V_ij_temp) <- NULL\n",
    "\n",
    "    input_all %>% dplyr::select(location, pop2022) %>% distinct() -> N_j_temp\n",
    "\n",
    "    merge(V_ij_temp, N_j_temp, by=c(\"location\"), all.x=TRUE) %>% na.omit() -> temp\n",
    "\n",
    "    for(g in 1:max(input_all$time)) {\n",
    "        input_all %>% filter(time==g) %>% dplyr::select(location, G_i) -> G_i_time\n",
    "        merge(temp, G_i_time, by=c(\"location\"), all.x=TRUE) -> temp_G_i_time\n",
    "        temp_G_i_time$value <- as.numeric(temp_G_i_time$value)\n",
    "        temp_G_i_time %>% mutate(F_i_t = w/365*value/pop2022*G_i, time=g) -> temp_G_i_time \n",
    "        sum(temp_G_i_time$F_i_t) -> F_i_time_list[[g]]\n",
    "    }\n",
    "    \n",
    "    do.call(\"rbind\", F_i_time_list) %>% as.data.frame() %>% \n",
    "    mutate(time=1:max(input_all$time), location=country_list_sort[i]) %>% rename(F_i=V1) -> F_i_country[[i]]\n",
    "}\n",
    "\n",
    "do.call(\"rbind\", F_i_country) %>% as.data.frame() -> F_i_country_all\n",
    "merge(input_all, F_i_country_all, by=c(\"location\", \"time\"), all.x=TRUE) -> input_final_all\n",
    "\n",
    "input_final_all$date_import <- as.Date(input_final_all$date_import)"
   ]
  },
  {
   "cell_type": "code",
   "execution_count": null,
   "metadata": {},
   "outputs": [],
   "source": [
    "input_final <- input_final_all[!is.na(input_final_all$F_i),]"
   ]
  },
  {
   "cell_type": "code",
   "execution_count": null,
   "metadata": {},
   "outputs": [],
   "source": [
    "input_final %>% head()\n",
    "write.csv(input_final, \"../data/input_WHO.csv\")"
   ]
  },
  {
   "cell_type": "code",
   "execution_count": null,
   "metadata": {},
   "outputs": [],
   "source": [
    "input_final %>% group_by(location) %>% summarise(F_i_all=sum(F_i)) %>% ungroup() -> temp\n",
    "temp%>% filter(F_i_all==0)"
   ]
  },
  {
   "cell_type": "code",
   "execution_count": null,
   "metadata": {},
   "outputs": [],
   "source": [
    "input_final %>% filter(location==c(\"Palestine, State of\"))"
   ]
  },
  {
   "cell_type": "code",
   "execution_count": null,
   "metadata": {},
   "outputs": [],
   "source": []
  }
 ],
 "metadata": {
  "kernelspec": {
   "display_name": "R",
   "language": "R",
   "name": "ir"
  },
  "language_info": {
   "codemirror_mode": "r",
   "file_extension": ".r",
   "mimetype": "text/x-r-source",
   "name": "R",
   "pygments_lexer": "r",
   "version": "4.2.2"
  }
 },
 "nbformat": 4,
 "nbformat_minor": 4
}
