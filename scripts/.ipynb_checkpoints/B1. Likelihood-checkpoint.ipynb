{
 "cells": [
  {
   "cell_type": "code",
   "execution_count": 105,
   "metadata": {},
   "outputs": [],
   "source": [
    "library(tidyverse); library(dplyr)"
   ]
  },
  {
   "cell_type": "code",
   "execution_count": 124,
   "metadata": {},
   "outputs": [
    {
     "data": {
      "text/html": [
       "<time datetime=\"2022-10-03\">2022-10-03</time>"
      ],
      "text/latex": [
       "2022-10-03"
      ],
      "text/markdown": [
       "2022-10-03"
      ],
      "text/plain": [
       "[1] \"2022-10-03\""
      ]
     },
     "metadata": {},
     "output_type": "display_data"
    }
   ],
   "source": [
    "(censor_import <- max(df_input$date))"
   ]
  },
  {
   "cell_type": "code",
   "execution_count": 125,
   "metadata": {},
   "outputs": [
    {
     "data": {
      "text/html": [
       "<table class=\"dataframe\">\n",
       "<caption>A data.frame: 6 × 5</caption>\n",
       "<thead>\n",
       "\t<tr><th></th><th scope=col>date</th><th scope=col>country</th><th scope=col>F_i</th><th scope=col>date_imp</th><th scope=col>censor</th></tr>\n",
       "\t<tr><th></th><th scope=col>&lt;date&gt;</th><th scope=col>&lt;chr&gt;</th><th scope=col>&lt;dbl&gt;</th><th scope=col>&lt;date&gt;</th><th scope=col>&lt;int&gt;</th></tr>\n",
       "</thead>\n",
       "<tbody>\n",
       "\t<tr><th scope=row>1</th><td>2022-05-01</td><td>Albania</td><td>0</td><td>2022-10-03</td><td>1</td></tr>\n",
       "\t<tr><th scope=row>2</th><td>2022-05-02</td><td>Albania</td><td>0</td><td>2022-10-03</td><td>1</td></tr>\n",
       "\t<tr><th scope=row>3</th><td>2022-05-03</td><td>Albania</td><td>0</td><td>2022-10-03</td><td>1</td></tr>\n",
       "\t<tr><th scope=row>4</th><td>2022-05-04</td><td>Albania</td><td>0</td><td>2022-10-03</td><td>1</td></tr>\n",
       "\t<tr><th scope=row>5</th><td>2022-05-05</td><td>Albania</td><td>0</td><td>2022-10-03</td><td>1</td></tr>\n",
       "\t<tr><th scope=row>6</th><td>2022-05-06</td><td>Albania</td><td>0</td><td>2022-10-03</td><td>1</td></tr>\n",
       "</tbody>\n",
       "</table>\n"
      ],
      "text/latex": [
       "A data.frame: 6 × 5\n",
       "\\begin{tabular}{r|lllll}\n",
       "  & date & country & F\\_i & date\\_imp & censor\\\\\n",
       "  & <date> & <chr> & <dbl> & <date> & <int>\\\\\n",
       "\\hline\n",
       "\t1 & 2022-05-01 & Albania & 0 & 2022-10-03 & 1\\\\\n",
       "\t2 & 2022-05-02 & Albania & 0 & 2022-10-03 & 1\\\\\n",
       "\t3 & 2022-05-03 & Albania & 0 & 2022-10-03 & 1\\\\\n",
       "\t4 & 2022-05-04 & Albania & 0 & 2022-10-03 & 1\\\\\n",
       "\t5 & 2022-05-05 & Albania & 0 & 2022-10-03 & 1\\\\\n",
       "\t6 & 2022-05-06 & Albania & 0 & 2022-10-03 & 1\\\\\n",
       "\\end{tabular}\n"
      ],
      "text/markdown": [
       "\n",
       "A data.frame: 6 × 5\n",
       "\n",
       "| <!--/--> | date &lt;date&gt; | country &lt;chr&gt; | F_i &lt;dbl&gt; | date_imp &lt;date&gt; | censor &lt;int&gt; |\n",
       "|---|---|---|---|---|---|\n",
       "| 1 | 2022-05-01 | Albania | 0 | 2022-10-03 | 1 |\n",
       "| 2 | 2022-05-02 | Albania | 0 | 2022-10-03 | 1 |\n",
       "| 3 | 2022-05-03 | Albania | 0 | 2022-10-03 | 1 |\n",
       "| 4 | 2022-05-04 | Albania | 0 | 2022-10-03 | 1 |\n",
       "| 5 | 2022-05-05 | Albania | 0 | 2022-10-03 | 1 |\n",
       "| 6 | 2022-05-06 | Albania | 0 | 2022-10-03 | 1 |\n",
       "\n"
      ],
      "text/plain": [
       "  date       country F_i date_imp   censor\n",
       "1 2022-05-01 Albania 0   2022-10-03 1     \n",
       "2 2022-05-02 Albania 0   2022-10-03 1     \n",
       "3 2022-05-03 Albania 0   2022-10-03 1     \n",
       "4 2022-05-04 Albania 0   2022-10-03 1     \n",
       "5 2022-05-05 Albania 0   2022-10-03 1     \n",
       "6 2022-05-06 Albania 0   2022-10-03 1     "
      ]
     },
     "metadata": {},
     "output_type": "display_data"
    }
   ],
   "source": [
    "read.csv(\"../data/input.csv\") -> df_input\n",
    "df_input$date <- as.Date(df_input$date)\n",
    "df_input$date_import <- as.Date(df_input$date_import)\n",
    "\n",
    "df_input %>% rename(censor=censoring, country=location) %>%\n",
    "mutate(date_imp=case_when(censor==1~censor_import, censor==0~date_import)) %>%\n",
    "dplyr::select(date, country, F_i, date_imp, censor) -> df_input\n",
    "\n",
    "df_input %>% head()"
   ]
  },
  {
   "cell_type": "code",
   "execution_count": 108,
   "metadata": {},
   "outputs": [],
   "source": [
    "###2. Likelihood -----\n",
    "## likelihood for country i \n",
    "LogL_i <- function(data, country_i){\n",
    "  #data[1]=calender date; data[2]=country; data[3]=F_i; data[4]=date of importation; data[5]=dummy variable for censoring (0 observed, 1 censored)\n",
    "  data_i <- data %>% filter(country==country_i)\n",
    "  date_start_i <- data_i[1,1]\n",
    "  date_import_i <- data_i[length(data_i[,1]), 4]\n",
    "  surv_days_i <- as.numeric(date_import_i - date_start_i) + 1\n",
    "  F_i_vec <- data_i$F_i\n",
    "  cens_i <- data_i[1,5] #censored=1, observed=0\n",
    "  #log-likelihood for country i \n",
    "  function(alpha){\n",
    "    return(\n",
    "      (1-cens_i) * (log(alpha * F_i_vec[surv_days_i]) + (-sum(alpha * F_i_vec[1:surv_days_i]))) + #if observed, cens_i=0, the contribution to logL is log(h(t) * S(t))\n",
    "        cens_i * (-sum(alpha * F_i_vec[1:surv_days_i])) #if censored, cens_i=1, the contribution to logL is log(S(t))\n",
    "      )\n",
    "  }\n",
    "}"
   ]
  },
  {
   "cell_type": "code",
   "execution_count": null,
   "metadata": {},
   "outputs": [],
   "source": []
  },
  {
   "cell_type": "code",
   "execution_count": 137,
   "metadata": {},
   "outputs": [
    {
     "name": "stdout",
     "output_type": "stream",
     "text": [
      "[1] -55.67165\n"
     ]
    }
   ],
   "source": [
    "data <- df_input  #data[1]=calender date; data[2]=country; data[3]=F_i; data[4]=date of importation; data[5]=dummy variable for censoring (0 observed, 1 censored)\n",
    "  \n",
    "for(i in length(unique(df_input$country))){\n",
    "    data_i <- data %>% filter(country==unique(df_input$country)[i])\n",
    "  date_start_i <- data_i[1,1]\n",
    "  date_import_i <- data_i[length(data_i[,1]), 4]\n",
    "  surv_days_i <- as.numeric(date_import_i - date_start_i) + 1\n",
    "  F_i_vec <- data_i$F_i\n",
    "  cens_i <- data_i[1,5] #censored=1, observed=0\n",
    "  #log-likelihood for country i \n",
    "  alpha <- 0.1\n",
    "    return(\n",
    "      (1-cens_i) * (log(alpha * F_i_vec[surv_days_i]) + (-sum(alpha * F_i_vec[1:surv_days_i]))) + #if observed, cens_i=0, the contribution to logL is log(h(t) * S(t))\n",
    "        cens_i * (-sum(alpha * F_i_vec[1:surv_days_i])) #if censored, cens_i=1, the contribution to logL is log(S(t))\n",
    "      )\n",
    "}"
   ]
  },
  {
   "cell_type": "code",
   "execution_count": null,
   "metadata": {},
   "outputs": [],
   "source": []
  },
  {
   "cell_type": "code",
   "execution_count": 110,
   "metadata": {},
   "outputs": [
    {
     "data": {
      "text/html": [
       "<dl>\n",
       "\t<dt>$par</dt>\n",
       "\t\t<dd>99.9999984997512</dd>\n",
       "\t<dt>$value</dt>\n",
       "\t\t<dd>-Inf</dd>\n",
       "\t<dt>$counts</dt>\n",
       "\t\t<dd><style>\n",
       ".dl-inline {width: auto; margin:0; padding: 0}\n",
       ".dl-inline>dt, .dl-inline>dd {float: none; width: auto; display: inline-block}\n",
       ".dl-inline>dt::after {content: \":\\0020\"; padding-right: .5ex}\n",
       ".dl-inline>dt:not(:first-of-type) {padding-left: .5ex}\n",
       "</style><dl class=dl-inline><dt>function</dt><dd>&lt;NA&gt;</dd><dt>gradient</dt><dd>&lt;NA&gt;</dd></dl>\n",
       "</dd>\n",
       "\t<dt>$convergence</dt>\n",
       "\t\t<dd>0</dd>\n",
       "\t<dt>$message</dt>\n",
       "\t\t<dd>NULL</dd>\n",
       "</dl>\n"
      ],
      "text/latex": [
       "\\begin{description}\n",
       "\\item[\\$par] 99.9999984997512\n",
       "\\item[\\$value] -Inf\n",
       "\\item[\\$counts] \\begin{description*}\n",
       "\\item[function] <NA>\n",
       "\\item[gradient] <NA>\n",
       "\\end{description*}\n",
       "\n",
       "\\item[\\$convergence] 0\n",
       "\\item[\\$message] NULL\n",
       "\\end{description}\n"
      ],
      "text/markdown": [
       "$par\n",
       ":   99.9999984997512\n",
       "$value\n",
       ":   -Inf\n",
       "$counts\n",
       ":   function\n",
       ":   &lt;NA&gt;gradient\n",
       ":   &lt;NA&gt;\n",
       "\n",
       "\n",
       "$convergence\n",
       ":   0\n",
       "$message\n",
       ":   NULL\n",
       "\n",
       "\n"
      ],
      "text/plain": [
       "$par\n",
       "[1] 100\n",
       "\n",
       "$value\n",
       "[1] -Inf\n",
       "\n",
       "$counts\n",
       "function gradient \n",
       "      NA       NA \n",
       "\n",
       "$convergence\n",
       "[1] 0\n",
       "\n",
       "$message\n",
       "NULL\n"
      ]
     },
     "metadata": {},
     "output_type": "display_data"
    }
   ],
   "source": [
    "## full likelihood\n",
    "LogL_full <- function(data, country_list){\n",
    "  function(alpha){\n",
    "    return(sum(sapply(country_list, FUN = function(x){LogL_i(data=data, country_i = x)(alpha=alpha)})))\n",
    "  }\n",
    "}\n",
    "\n",
    "## MLE\n",
    "options(warn=-1)\n",
    "optim(fn=LogL_full(data=df_input, country_list=(unique(df_input$country))), \n",
    "      par=c(0.1), method=\"Brent\", lower=(0), upper=(100),\n",
    "      control = list(fnscale = -1, maxit=1000000))\n",
    "options(warn=0)"
   ]
  },
  {
   "cell_type": "code",
   "execution_count": 131,
   "metadata": {},
   "outputs": [
    {
     "data": {
      "text/html": [
       "-Inf"
      ],
      "text/latex": [
       "-Inf"
      ],
      "text/markdown": [
       "-Inf"
      ],
      "text/plain": [
       "[1] -Inf"
      ]
     },
     "metadata": {},
     "output_type": "display_data"
    }
   ],
   "source": [
    "LogL_full(data=df_input, country_list=(unique(df_input$country)))(10000)"
   ]
  },
  {
   "cell_type": "code",
   "execution_count": null,
   "metadata": {},
   "outputs": [],
   "source": []
  }
 ],
 "metadata": {
  "kernelspec": {
   "display_name": "R",
   "language": "R",
   "name": "ir"
  },
  "language_info": {
   "codemirror_mode": "r",
   "file_extension": ".r",
   "mimetype": "text/x-r-source",
   "name": "R",
   "pygments_lexer": "r",
   "version": "4.1.3"
  }
 },
 "nbformat": 4,
 "nbformat_minor": 4
}
